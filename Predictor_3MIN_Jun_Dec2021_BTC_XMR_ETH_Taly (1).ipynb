{
  "cells": [
    {
      "cell_type": "code",
      "execution_count": 4,
      "metadata": {
        "id": "HNDtzvYZX7Pg"
      },
      "outputs": [],
      "source": [
        "#import pandas_datareader as webreader # Remote data access for pandas\n",
        "import math # Mathematical functions \n",
        "import numpy as np # Fundamental package for scientific computing with Python\n",
        "import pandas as pd # Additional functions for analysing and manipulating data\n",
        "from datetime import date, timedelta, datetime # Date Functions\n",
        "from pandas.plotting import register_matplotlib_converters # This function adds plotting functions for calender dates\n",
        "import matplotlib.pyplot as plt # Important package for visualization - we use this to plot the market data\n",
        "import matplotlib.dates as mdates # Formatting dates\n",
        "from sklearn.metrics import mean_absolute_error, mean_squared_error # Packages for measuring model performance / errors\n",
        "from keras.models import Sequential # Deep learning library, used for neural networks\n",
        "from keras.layers import LSTM, Dense, Dropout # Deep learning classes for recurrent and regular densely-connected layers\n",
        "from keras.callbacks import EarlyStopping # EarlyStopping during model training\n",
        "from sklearn.preprocessing import RobustScaler, MinMaxScaler # This Scaler removes the median and scales the data according to the quantile range to normalize the price data \n",
        "import seaborn as sns"
      ]
    },
    {
      "cell_type": "code",
      "source": [
        "pip install python-binance"
      ],
      "metadata": {
        "colab": {
          "base_uri": "https://localhost:8080/"
        },
        "id": "2upkEN1YYM-d",
        "outputId": "b01b3518-595b-4129-c2d3-a3787dd3c373"
      },
      "execution_count": 7,
      "outputs": [
        {
          "output_type": "stream",
          "name": "stdout",
          "text": [
            "Collecting python-binance\n",
            "  Downloading python_binance-1.0.15-py2.py3-none-any.whl (63 kB)\n",
            "\u001b[?25l\r\u001b[K     |█████▏                          | 10 kB 18.9 MB/s eta 0:00:01\r\u001b[K     |██████████▎                     | 20 kB 24.0 MB/s eta 0:00:01\r\u001b[K     |███████████████▍                | 30 kB 11.6 MB/s eta 0:00:01\r\u001b[K     |████████████████████▌           | 40 kB 9.0 MB/s eta 0:00:01\r\u001b[K     |█████████████████████████▋      | 51 kB 5.2 MB/s eta 0:00:01\r\u001b[K     |██████████████████████████████▊ | 61 kB 5.7 MB/s eta 0:00:01\r\u001b[K     |████████████████████████████████| 63 kB 1.6 MB/s \n",
            "\u001b[?25hRequirement already satisfied: six in /usr/local/lib/python3.7/dist-packages (from python-binance) (1.15.0)\n",
            "Collecting websockets==9.1\n",
            "  Downloading websockets-9.1-cp37-cp37m-manylinux2010_x86_64.whl (103 kB)\n",
            "\u001b[K     |████████████████████████████████| 103 kB 31.3 MB/s \n",
            "\u001b[?25hCollecting ujson\n",
            "  Downloading ujson-4.3.0-cp37-cp37m-manylinux_2_17_x86_64.manylinux2014_x86_64.whl (216 kB)\n",
            "\u001b[K     |████████████████████████████████| 216 kB 49.6 MB/s \n",
            "\u001b[?25hRequirement already satisfied: requests in /usr/local/lib/python3.7/dist-packages (from python-binance) (2.23.0)\n",
            "Collecting aiohttp\n",
            "  Downloading aiohttp-3.8.1-cp37-cp37m-manylinux_2_5_x86_64.manylinux1_x86_64.manylinux_2_12_x86_64.manylinux2010_x86_64.whl (1.1 MB)\n",
            "\u001b[K     |████████████████████████████████| 1.1 MB 44.0 MB/s \n",
            "\u001b[?25hCollecting dateparser\n",
            "  Downloading dateparser-1.1.0-py2.py3-none-any.whl (288 kB)\n",
            "\u001b[K     |████████████████████████████████| 288 kB 56.1 MB/s \n",
            "\u001b[?25hCollecting asynctest==0.13.0\n",
            "  Downloading asynctest-0.13.0-py3-none-any.whl (26 kB)\n",
            "Requirement already satisfied: charset-normalizer<3.0,>=2.0 in /usr/local/lib/python3.7/dist-packages (from aiohttp->python-binance) (2.0.8)\n",
            "Requirement already satisfied: attrs>=17.3.0 in /usr/local/lib/python3.7/dist-packages (from aiohttp->python-binance) (21.2.0)\n",
            "Requirement already satisfied: typing-extensions>=3.7.4 in /usr/local/lib/python3.7/dist-packages (from aiohttp->python-binance) (3.10.0.2)\n",
            "Collecting multidict<7.0,>=4.5\n",
            "  Downloading multidict-5.2.0-cp37-cp37m-manylinux_2_5_x86_64.manylinux1_x86_64.manylinux_2_12_x86_64.manylinux2010_x86_64.whl (160 kB)\n",
            "\u001b[K     |████████████████████████████████| 160 kB 50.2 MB/s \n",
            "\u001b[?25hCollecting async-timeout<5.0,>=4.0.0a3\n",
            "  Downloading async_timeout-4.0.1-py3-none-any.whl (5.7 kB)\n",
            "Collecting yarl<2.0,>=1.0\n",
            "  Downloading yarl-1.7.2-cp37-cp37m-manylinux_2_5_x86_64.manylinux1_x86_64.manylinux_2_12_x86_64.manylinux2010_x86_64.whl (271 kB)\n",
            "\u001b[K     |████████████████████████████████| 271 kB 48.9 MB/s \n",
            "\u001b[?25hCollecting aiosignal>=1.1.2\n",
            "  Downloading aiosignal-1.2.0-py3-none-any.whl (8.2 kB)\n",
            "Collecting frozenlist>=1.1.1\n",
            "  Downloading frozenlist-1.2.0-cp37-cp37m-manylinux_2_5_x86_64.manylinux1_x86_64.manylinux_2_12_x86_64.manylinux2010_x86_64.whl (192 kB)\n",
            "\u001b[K     |████████████████████████████████| 192 kB 48.7 MB/s \n",
            "\u001b[?25hRequirement already satisfied: idna>=2.0 in /usr/local/lib/python3.7/dist-packages (from yarl<2.0,>=1.0->aiohttp->python-binance) (2.10)\n",
            "Requirement already satisfied: python-dateutil in /usr/local/lib/python3.7/dist-packages (from dateparser->python-binance) (2.8.2)\n",
            "Requirement already satisfied: regex!=2019.02.19,!=2021.8.27 in /usr/local/lib/python3.7/dist-packages (from dateparser->python-binance) (2019.12.20)\n",
            "Requirement already satisfied: pytz in /usr/local/lib/python3.7/dist-packages (from dateparser->python-binance) (2018.9)\n",
            "Requirement already satisfied: tzlocal in /usr/local/lib/python3.7/dist-packages (from dateparser->python-binance) (1.5.1)\n",
            "Requirement already satisfied: chardet<4,>=3.0.2 in /usr/local/lib/python3.7/dist-packages (from requests->python-binance) (3.0.4)\n",
            "Requirement already satisfied: urllib3!=1.25.0,!=1.25.1,<1.26,>=1.21.1 in /usr/local/lib/python3.7/dist-packages (from requests->python-binance) (1.24.3)\n",
            "Requirement already satisfied: certifi>=2017.4.17 in /usr/local/lib/python3.7/dist-packages (from requests->python-binance) (2021.10.8)\n",
            "Installing collected packages: multidict, frozenlist, yarl, asynctest, async-timeout, aiosignal, websockets, ujson, dateparser, aiohttp, python-binance\n",
            "Successfully installed aiohttp-3.8.1 aiosignal-1.2.0 async-timeout-4.0.1 asynctest-0.13.0 dateparser-1.1.0 frozenlist-1.2.0 multidict-5.2.0 python-binance-1.0.15 ujson-4.3.0 websockets-9.1 yarl-1.7.2\n"
          ]
        }
      ]
    },
    {
      "cell_type": "code",
      "execution_count": 5,
      "metadata": {
        "id": "v3mj3tYwX7QH"
      },
      "outputs": [],
      "source": [
        "from datetime import datetime\n",
        "from pandas_datareader.data import DataReader"
      ]
    },
    {
      "cell_type": "code",
      "execution_count": 8,
      "metadata": {
        "id": "lSs5MuQtX7QL"
      },
      "outputs": [],
      "source": [
        "# Data retrieval for cryptocurrencies BTCUSDT ETHUSDT XMRUSDT \n",
        "# Binance API credentials \n",
        "apikey = '2ZaEiNukiFtPHqnYdCGMANNimHdcCF0nvv4L9eYXMIdr4ovveQrca4NWKsZ7DxAy'\n",
        "secretkey = '9zjousoyG0t2wblcGkm0tVGLBfz6Woo3paakGh49Vhj0IxrGGXl332b1KQaxlJKY'\n",
        "\n",
        "from binance import Client, ThreadedWebsocketManager, ThreadedDepthCacheManager\n",
        "#API Initialization \n",
        "client = Client(apikey, secretkey)"
      ]
    },
    {
      "cell_type": "code",
      "execution_count": 19,
      "metadata": {
        "id": "squpnHF3X7QN",
        "colab": {
          "base_uri": "https://localhost:8080/",
          "height": 424
        },
        "outputId": "2a4a0723-5780-4844-94ec-ecba4961932e"
      },
      "outputs": [
        {
          "output_type": "execute_result",
          "data": {
            "text/html": [
              "<div>\n",
              "<style scoped>\n",
              "    .dataframe tbody tr th:only-of-type {\n",
              "        vertical-align: middle;\n",
              "    }\n",
              "\n",
              "    .dataframe tbody tr th {\n",
              "        vertical-align: top;\n",
              "    }\n",
              "\n",
              "    .dataframe thead th {\n",
              "        text-align: right;\n",
              "    }\n",
              "</style>\n",
              "<table border=\"1\" class=\"dataframe\">\n",
              "  <thead>\n",
              "    <tr style=\"text-align: right;\">\n",
              "      <th></th>\n",
              "      <th>index</th>\n",
              "      <th>Open Time</th>\n",
              "      <th>Open</th>\n",
              "      <th>High</th>\n",
              "      <th>Low</th>\n",
              "      <th>Close</th>\n",
              "      <th>Volume</th>\n",
              "      <th>Close Time</th>\n",
              "      <th>Nb of Trade</th>\n",
              "    </tr>\n",
              "  </thead>\n",
              "  <tbody>\n",
              "    <tr>\n",
              "      <th>1622505600000</th>\n",
              "      <td>0</td>\n",
              "      <td>1622505600000</td>\n",
              "      <td>37253.82000000</td>\n",
              "      <td>37456.17000000</td>\n",
              "      <td>37100.00000000</td>\n",
              "      <td>37451.49000000</td>\n",
              "      <td>337.16321300</td>\n",
              "      <td>1622505779999</td>\n",
              "      <td>8759</td>\n",
              "    </tr>\n",
              "    <tr>\n",
              "      <th>1622505780000</th>\n",
              "      <td>1</td>\n",
              "      <td>1622505780000</td>\n",
              "      <td>37451.48000000</td>\n",
              "      <td>37665.56000000</td>\n",
              "      <td>37424.07000000</td>\n",
              "      <td>37624.56000000</td>\n",
              "      <td>1007.53698600</td>\n",
              "      <td>1622505959999</td>\n",
              "      <td>16211</td>\n",
              "    </tr>\n",
              "    <tr>\n",
              "      <th>1622505960000</th>\n",
              "      <td>2</td>\n",
              "      <td>1622505960000</td>\n",
              "      <td>37624.56000000</td>\n",
              "      <td>37631.62000000</td>\n",
              "      <td>37502.59000000</td>\n",
              "      <td>37595.74000000</td>\n",
              "      <td>184.45904200</td>\n",
              "      <td>1622506139999</td>\n",
              "      <td>6391</td>\n",
              "    </tr>\n",
              "    <tr>\n",
              "      <th>1622506140000</th>\n",
              "      <td>3</td>\n",
              "      <td>1622506140000</td>\n",
              "      <td>37595.74000000</td>\n",
              "      <td>37649.04000000</td>\n",
              "      <td>37528.74000000</td>\n",
              "      <td>37591.40000000</td>\n",
              "      <td>175.46544300</td>\n",
              "      <td>1622506319999</td>\n",
              "      <td>5286</td>\n",
              "    </tr>\n",
              "    <tr>\n",
              "      <th>1622506320000</th>\n",
              "      <td>4</td>\n",
              "      <td>1622506320000</td>\n",
              "      <td>37586.55000000</td>\n",
              "      <td>37590.00000000</td>\n",
              "      <td>37520.01000000</td>\n",
              "      <td>37531.12000000</td>\n",
              "      <td>172.63326900</td>\n",
              "      <td>1622506499999</td>\n",
              "      <td>4728</td>\n",
              "    </tr>\n",
              "    <tr>\n",
              "      <th>...</th>\n",
              "      <td>...</td>\n",
              "      <td>...</td>\n",
              "      <td>...</td>\n",
              "      <td>...</td>\n",
              "      <td>...</td>\n",
              "      <td>...</td>\n",
              "      <td>...</td>\n",
              "      <td>...</td>\n",
              "      <td>...</td>\n",
              "    </tr>\n",
              "    <tr>\n",
              "      <th>1638316080000</th>\n",
              "      <td>87706</td>\n",
              "      <td>1638316080000</td>\n",
              "      <td>56963.07000000</td>\n",
              "      <td>56989.16000000</td>\n",
              "      <td>56839.74000000</td>\n",
              "      <td>56843.19000000</td>\n",
              "      <td>121.60075000</td>\n",
              "      <td>1638316259999</td>\n",
              "      <td>3237</td>\n",
              "    </tr>\n",
              "    <tr>\n",
              "      <th>1638316260000</th>\n",
              "      <td>87707</td>\n",
              "      <td>1638316260000</td>\n",
              "      <td>56850.01000000</td>\n",
              "      <td>57053.90000000</td>\n",
              "      <td>56762.39000000</td>\n",
              "      <td>57046.04000000</td>\n",
              "      <td>171.24335000</td>\n",
              "      <td>1638316439999</td>\n",
              "      <td>4405</td>\n",
              "    </tr>\n",
              "    <tr>\n",
              "      <th>1638316440000</th>\n",
              "      <td>87708</td>\n",
              "      <td>1638316440000</td>\n",
              "      <td>57046.05000000</td>\n",
              "      <td>57054.09000000</td>\n",
              "      <td>56967.15000000</td>\n",
              "      <td>57000.01000000</td>\n",
              "      <td>57.74293000</td>\n",
              "      <td>1638316619999</td>\n",
              "      <td>1645</td>\n",
              "    </tr>\n",
              "    <tr>\n",
              "      <th>1638316620000</th>\n",
              "      <td>87709</td>\n",
              "      <td>1638316620000</td>\n",
              "      <td>57000.01000000</td>\n",
              "      <td>57012.20000000</td>\n",
              "      <td>56835.92000000</td>\n",
              "      <td>56950.56000000</td>\n",
              "      <td>55.53555000</td>\n",
              "      <td>1638316799999</td>\n",
              "      <td>1864</td>\n",
              "    </tr>\n",
              "    <tr>\n",
              "      <th>1638316800000</th>\n",
              "      <td>87710</td>\n",
              "      <td>1638316800000</td>\n",
              "      <td>56950.56000000</td>\n",
              "      <td>57011.08000000</td>\n",
              "      <td>56650.00000000</td>\n",
              "      <td>56667.73000000</td>\n",
              "      <td>218.73433000</td>\n",
              "      <td>1638316979999</td>\n",
              "      <td>5330</td>\n",
              "    </tr>\n",
              "  </tbody>\n",
              "</table>\n",
              "<p>87711 rows × 9 columns</p>\n",
              "</div>"
            ],
            "text/plain": [
              "               index      Open Time  ...     Close Time Nb of Trade\n",
              "1622505600000      0  1622505600000  ...  1622505779999        8759\n",
              "1622505780000      1  1622505780000  ...  1622505959999       16211\n",
              "1622505960000      2  1622505960000  ...  1622506139999        6391\n",
              "1622506140000      3  1622506140000  ...  1622506319999        5286\n",
              "1622506320000      4  1622506320000  ...  1622506499999        4728\n",
              "...              ...            ...  ...            ...         ...\n",
              "1638316080000  87706  1638316080000  ...  1638316259999        3237\n",
              "1638316260000  87707  1638316260000  ...  1638316439999        4405\n",
              "1638316440000  87708  1638316440000  ...  1638316619999        1645\n",
              "1638316620000  87709  1638316620000  ...  1638316799999        1864\n",
              "1638316800000  87710  1638316800000  ...  1638316979999        5330\n",
              "\n",
              "[87711 rows x 9 columns]"
            ]
          },
          "metadata": {},
          "execution_count": 19
        }
      ],
      "source": [
        "#Data collection: BTCUSDT \n",
        "#The idea is to focus on smaller time frames, specifically since the last crypto crash, mid-May 2021, to eliminate this skewing event\n",
        "\n",
        "klines = client.get_historical_klines(\"BTCUSDT\", Client.KLINE_INTERVAL_3MINUTE, \"1 Jun, 2021\", \"1 Dec, 2021\")\n",
        "\n",
        "# for candle in klines:\n",
        "#   print(candle)\n",
        "\n",
        "hist_df = pd.DataFrame(klines)\n",
        "hist_df.columns = (['Open Time', 'Open', 'High', 'Low', 'Close', 'Volume', 'Close Time', 'Quote Asset Volume','Nb of Trade', 'TakerBuyBaseVolume', 'TakerBuyQuoteVolume','Ignored'])\n",
        "# hist_df.drop(labels = ['TakerBuyBaseVolume', 'TakerBuyQuoteVolume', 'Ignored', 'Quote Asset Volume'], inplace = True,axis = 1)\n",
        "# hist_df['Close Time'] = pd.to_datetime(hist_df['Close Time']/1000, unit='s')\n",
        "# hist_df['Open Time'] = pd.to_datetime(hist_df['Open Time']/1000, unit='s')\n",
        "hist_df.drop(['Ignored', 'TakerBuyBaseVolume', 'TakerBuyQuoteVolume', 'Quote Asset Volume'], inplace= True, axis = 1)\n",
        "# hist_df['Open Time'] = hist_df.index\n",
        "\n",
        "hist_df = hist_df.reset_index().set_index('Open Time', drop=False)\n",
        "hist_df.index.name = None\n",
        "df = hist_df\n",
        "\n",
        "df.to_csv('BTCUSDT_3MIN_Jun2021_DEC2021.csv')\n",
        "df"
      ]
    },
    {
      "cell_type": "code",
      "source": [
        "\n",
        "df = pd.read_pickle('BTCUSDT_3MIN')\n",
        "#Checking that it is a DF before moving one\n",
        "type(df)"
      ],
      "metadata": {
        "colab": {
          "base_uri": "https://localhost:8080/"
        },
        "id": "nO6KMs-WldA9",
        "outputId": "fb19f2ed-8658-400e-e538-779104d90154"
      },
      "execution_count": 20,
      "outputs": [
        {
          "output_type": "execute_result",
          "data": {
            "text/plain": [
              "pandas.core.frame.DataFrame"
            ]
          },
          "metadata": {},
          "execution_count": 20
        }
      ]
    },
    {
      "cell_type": "code",
      "execution_count": 38,
      "metadata": {
        "colab": {
          "base_uri": "https://localhost:8080/",
          "height": 206
        },
        "id": "At157IqIX7QT",
        "outputId": "3d0aead0-1456-4569-a3cd-46f273fbd97c"
      },
      "outputs": [
        {
          "output_type": "execute_result",
          "data": {
            "text/html": [
              "<div>\n",
              "<style scoped>\n",
              "    .dataframe tbody tr th:only-of-type {\n",
              "        vertical-align: middle;\n",
              "    }\n",
              "\n",
              "    .dataframe tbody tr th {\n",
              "        vertical-align: top;\n",
              "    }\n",
              "\n",
              "    .dataframe thead th {\n",
              "        text-align: right;\n",
              "    }\n",
              "</style>\n",
              "<table border=\"1\" class=\"dataframe\">\n",
              "  <thead>\n",
              "    <tr style=\"text-align: right;\">\n",
              "      <th></th>\n",
              "      <th>Unnamed: 0</th>\n",
              "      <th>Open Time</th>\n",
              "      <th>Open</th>\n",
              "      <th>High</th>\n",
              "      <th>Low</th>\n",
              "      <th>Close</th>\n",
              "      <th>Volume</th>\n",
              "      <th>Close Time</th>\n",
              "      <th>Nb of Trade</th>\n",
              "    </tr>\n",
              "  </thead>\n",
              "  <tbody>\n",
              "    <tr>\n",
              "      <th>87706</th>\n",
              "      <td>1638316080000</td>\n",
              "      <td>1638316080000</td>\n",
              "      <td>56963.07</td>\n",
              "      <td>56989.16</td>\n",
              "      <td>56839.74</td>\n",
              "      <td>56843.19</td>\n",
              "      <td>121.60075</td>\n",
              "      <td>1638316259999</td>\n",
              "      <td>3237</td>\n",
              "    </tr>\n",
              "    <tr>\n",
              "      <th>87707</th>\n",
              "      <td>1638316260000</td>\n",
              "      <td>1638316260000</td>\n",
              "      <td>56850.01</td>\n",
              "      <td>57053.90</td>\n",
              "      <td>56762.39</td>\n",
              "      <td>57046.04</td>\n",
              "      <td>171.24335</td>\n",
              "      <td>1638316439999</td>\n",
              "      <td>4405</td>\n",
              "    </tr>\n",
              "    <tr>\n",
              "      <th>87708</th>\n",
              "      <td>1638316440000</td>\n",
              "      <td>1638316440000</td>\n",
              "      <td>57046.05</td>\n",
              "      <td>57054.09</td>\n",
              "      <td>56967.15</td>\n",
              "      <td>57000.01</td>\n",
              "      <td>57.74293</td>\n",
              "      <td>1638316619999</td>\n",
              "      <td>1645</td>\n",
              "    </tr>\n",
              "    <tr>\n",
              "      <th>87709</th>\n",
              "      <td>1638316620000</td>\n",
              "      <td>1638316620000</td>\n",
              "      <td>57000.01</td>\n",
              "      <td>57012.20</td>\n",
              "      <td>56835.92</td>\n",
              "      <td>56950.56</td>\n",
              "      <td>55.53555</td>\n",
              "      <td>1638316799999</td>\n",
              "      <td>1864</td>\n",
              "    </tr>\n",
              "    <tr>\n",
              "      <th>87710</th>\n",
              "      <td>1638316800000</td>\n",
              "      <td>1638316800000</td>\n",
              "      <td>56950.56</td>\n",
              "      <td>57011.08</td>\n",
              "      <td>56650.00</td>\n",
              "      <td>56667.73</td>\n",
              "      <td>218.73433</td>\n",
              "      <td>1638316979999</td>\n",
              "      <td>5330</td>\n",
              "    </tr>\n",
              "  </tbody>\n",
              "</table>\n",
              "</div>"
            ],
            "text/plain": [
              "          Unnamed: 0      Open Time  ...     Close Time  Nb of Trade\n",
              "87706  1638316080000  1638316080000  ...  1638316259999         3237\n",
              "87707  1638316260000  1638316260000  ...  1638316439999         4405\n",
              "87708  1638316440000  1638316440000  ...  1638316619999         1645\n",
              "87709  1638316620000  1638316620000  ...  1638316799999         1864\n",
              "87710  1638316800000  1638316800000  ...  1638316979999         5330\n",
              "\n",
              "[5 rows x 9 columns]"
            ]
          },
          "metadata": {},
          "execution_count": 38
        }
      ],
      "source": [
        "# Indexing Batches\n",
        "\n",
        "\n",
        "df_train = df.sort_values(by=['Open Time']).copy()\n",
        "\n",
        "# Saving a copy of the dates index, before we need to reset it to numbers\n",
        "date_index = df_train.index\n",
        "\n",
        "# We reset the index, so we can convert the date-index to a number-index\n",
        "# df_train = df_train.reset_index(drop=True).copy()\n",
        "df_train.drop(columns=['index'], inplace=True, axis = 1)\n",
        "df_train.tail(5)"
      ]
    },
    {
      "cell_type": "code",
      "execution_count": 39,
      "metadata": {
        "colab": {
          "base_uri": "https://localhost:8080/"
        },
        "id": "9lpTTQiRX7QX",
        "outputId": "f64344c5-048b-41d1-b1f5-6d09836ec098"
      },
      "outputs": [
        {
          "output_type": "stream",
          "name": "stdout",
          "text": [
            "FEATURE LIST\n",
            "['Open', 'High', 'Low', 'Close', 'Volume']\n",
            "(87711, 5)\n",
            "[[0.20800078 0.20960274 0.20838756 0.21300892 0.06822716]\n",
            " [0.21296847 0.21484945 0.21652886 0.21735838 0.20644404]\n",
            " [0.2173184  0.21399901 0.21850145 0.2166341  0.03674279]\n",
            " ...\n",
            " [0.70542884 0.70067    0.70749145 0.70428701 0.01061661]\n",
            " [0.70427174 0.69962036 0.70419468 0.70304427 0.01016149]\n",
            " [0.70302894 0.6995923  0.69952399 0.69593641 0.04380963]]\n"
          ]
        }
      ],
      "source": [
        "def prepare_data(df):\n",
        "\n",
        "    # List of considered Features\n",
        "    FEATURES = ['Open', 'High', 'Low', 'Close', 'Volume']\n",
        "\n",
        "    print('FEATURE LIST')\n",
        "    print([f for f in FEATURES])\n",
        "\n",
        "    # Create the dataset with features and filter the data to the list of FEATURES\n",
        "    df_filter = df[FEATURES]\n",
        "    \n",
        "    # Convert the data to numpy values\n",
        "    np_filter_unscaled = np.array(df_filter)\n",
        "    #np_filter_unscaled = np.reshape(np_unscaled, (df_filter.shape[0], -1))\n",
        "    print(np_filter_unscaled.shape)\n",
        "\n",
        "    np_c_unscaled = np.array(df['Close']).reshape(-1, 1)\n",
        "    \n",
        "    return np_filter_unscaled, np_c_unscaled\n",
        "    \n",
        "np_filter_unscaled, np_c_unscaled = prepare_data(df_train)\n",
        "                                          \n",
        "# Creating a separate scaler that works on a single column for scaling predictions\n",
        "# Scale each feature to a range between 0 and 1\n",
        "\n",
        "scaler_train = MinMaxScaler()\n",
        "np_scaled = scaler_train.fit_transform(np_filter_unscaled)\n",
        "    \n",
        "# Create a separate scaler for a single column\n",
        "scaler_pred = MinMaxScaler()\n",
        "np_scaled_c = scaler_pred.fit_transform(np_c_unscaled)   \n",
        "print(np_scaled)"
      ]
    },
    {
      "cell_type": "code",
      "execution_count": 42,
      "metadata": {
        "colab": {
          "base_uri": "https://localhost:8080/",
          "height": 356
        },
        "id": "L8W_u897X7Qd",
        "outputId": "26d51425-3352-4744-e706-20b45f0d1312"
      },
      "outputs": [
        {
          "output_type": "error",
          "ename": "IndexError",
          "evalue": "ignored",
          "traceback": [
            "\u001b[0;31m---------------------------------------------------------------------------\u001b[0m",
            "\u001b[0;31mIndexError\u001b[0m                                Traceback (most recent call last)",
            "\u001b[0;32m<ipython-input-42-8944890b9a4f>\u001b[0m in \u001b[0;36m<module>\u001b[0;34m()\u001b[0m\n\u001b[1;32m     30\u001b[0m \u001b[0;34m\u001b[0m\u001b[0m\n\u001b[1;32m     31\u001b[0m \u001b[0;31m# Generate training data and test data\u001b[0m\u001b[0;34m\u001b[0m\u001b[0;34m\u001b[0m\u001b[0;34m\u001b[0m\u001b[0m\n\u001b[0;32m---> 32\u001b[0;31m \u001b[0mx_train\u001b[0m\u001b[0;34m,\u001b[0m \u001b[0my_train\u001b[0m \u001b[0;34m=\u001b[0m \u001b[0mpartition_dataset\u001b[0m\u001b[0;34m(\u001b[0m\u001b[0minput_sequence_length\u001b[0m\u001b[0;34m,\u001b[0m \u001b[0moutput_sequence_length\u001b[0m\u001b[0;34m,\u001b[0m \u001b[0mtrain_data\u001b[0m\u001b[0;34m)\u001b[0m\u001b[0;34m\u001b[0m\u001b[0;34m\u001b[0m\u001b[0m\n\u001b[0m\u001b[1;32m     33\u001b[0m \u001b[0mx_test\u001b[0m\u001b[0;34m,\u001b[0m \u001b[0my_test\u001b[0m \u001b[0;34m=\u001b[0m \u001b[0mpartition_dataset\u001b[0m\u001b[0;34m(\u001b[0m\u001b[0minput_sequence_length\u001b[0m\u001b[0;34m,\u001b[0m \u001b[0moutput_sequence_length\u001b[0m\u001b[0;34m,\u001b[0m \u001b[0mtest_data\u001b[0m\u001b[0;34m)\u001b[0m\u001b[0;34m\u001b[0m\u001b[0;34m\u001b[0m\u001b[0m\n\u001b[1;32m     34\u001b[0m \u001b[0;34m\u001b[0m\u001b[0m\n",
            "\u001b[0;32m<ipython-input-42-8944890b9a4f>\u001b[0m in \u001b[0;36mpartition_dataset\u001b[0;34m(input_sequence_length, output_sequence_length, data)\u001b[0m\n\u001b[1;32m     22\u001b[0m     \u001b[0;32mfor\u001b[0m \u001b[0mi\u001b[0m \u001b[0;32min\u001b[0m \u001b[0mrange\u001b[0m\u001b[0;34m(\u001b[0m\u001b[0minput_sequence_length\u001b[0m\u001b[0;34m,\u001b[0m \u001b[0mdata_len\u001b[0m \u001b[0;34m-\u001b[0m \u001b[0moutput_sequence_length\u001b[0m\u001b[0;34m)\u001b[0m\u001b[0;34m:\u001b[0m\u001b[0;34m\u001b[0m\u001b[0;34m\u001b[0m\u001b[0m\n\u001b[1;32m     23\u001b[0m         \u001b[0mx\u001b[0m\u001b[0;34m.\u001b[0m\u001b[0mappend\u001b[0m\u001b[0;34m(\u001b[0m\u001b[0mdata\u001b[0m\u001b[0;34m[\u001b[0m\u001b[0mi\u001b[0m\u001b[0;34m-\u001b[0m\u001b[0minput_sequence_length\u001b[0m\u001b[0;34m:\u001b[0m\u001b[0mi\u001b[0m\u001b[0;34m,\u001b[0m\u001b[0;34m:\u001b[0m\u001b[0;34m]\u001b[0m\u001b[0;34m)\u001b[0m\u001b[0;34m\u001b[0m\u001b[0;34m\u001b[0m\u001b[0m\n\u001b[0;32m---> 24\u001b[0;31m         \u001b[0my\u001b[0m\u001b[0;34m.\u001b[0m\u001b[0mappend\u001b[0m\u001b[0;34m(\u001b[0m\u001b[0mdata\u001b[0m\u001b[0;34m[\u001b[0m\u001b[0mi\u001b[0m\u001b[0;34m:\u001b[0m\u001b[0mi\u001b[0m \u001b[0;34m+\u001b[0m \u001b[0moutput_sequence_length\u001b[0m\u001b[0;34m,\u001b[0m \u001b[0mindex_Close\u001b[0m\u001b[0;34m]\u001b[0m\u001b[0;34m)\u001b[0m\u001b[0;34m\u001b[0m\u001b[0;34m\u001b[0m\u001b[0m\n\u001b[0m\u001b[1;32m     25\u001b[0m \u001b[0;34m\u001b[0m\u001b[0m\n\u001b[1;32m     26\u001b[0m     \u001b[0;31m# Convert the x and y to numpy arrays\u001b[0m\u001b[0;34m\u001b[0m\u001b[0;34m\u001b[0m\u001b[0;34m\u001b[0m\u001b[0m\n",
            "\u001b[0;31mIndexError\u001b[0m: index 5 is out of bounds for axis 1 with size 5"
          ]
        }
      ],
      "source": [
        "# Set the input_sequence_length length - this is the timeframe used to make a single prediction\n",
        "input_sequence_length = 50\n",
        "# The output sequence length is the number of steps that the neural network predicts\n",
        "output_sequence_length = 10 #\n",
        "\n",
        "# Prediction Index\n",
        "index_Close = df_train.columns.get_loc(\"Close\")\n",
        "\n",
        "# Split the training data into train and train data sets\n",
        "# As a first step, we get the number of rows to train the model on 80% of the data \n",
        "train_data_length = math.ceil(np_scaled.shape[0] * 0.8)\n",
        "\n",
        "# Create the training and test data\n",
        "train_data = np_scaled[0:train_data_length, :]\n",
        "test_data = np_scaled[train_data_length - input_sequence_length:, :]\n",
        "\n",
        "# The RNN needs data with the format of [samples, time steps, features]\n",
        "# Here, we create N samples, input_sequence_length time steps per sample, and f features\n",
        "def partition_dataset(input_sequence_length, output_sequence_length, data):\n",
        "    x, y = [], []\n",
        "    data_len = data.shape[0]\n",
        "    for i in range(input_sequence_length, data_len - output_sequence_length):\n",
        "        x.append(data[i-input_sequence_length:i,:]) \n",
        "        y.append(data[i:i + output_sequence_length, index_Close]) \n",
        "    \n",
        "    # Convert the x and y to numpy arrays\n",
        "    x = np.array(x)\n",
        "    y = np.array(y)\n",
        "    return x, y\n",
        "\n",
        "# Generate training data and test data\n",
        "x_train, y_train = partition_dataset(input_sequence_length, output_sequence_length, train_data)\n",
        "x_test, y_test = partition_dataset(input_sequence_length, output_sequence_length, test_data)\n",
        "\n",
        "# Print the shapes: the result is: (rows, training_sequence, features) (prediction value, )\n",
        "print(x_train.shape, y_train.shape)\n",
        "print(x_test.shape, y_test.shape)\n",
        "\n",
        "# Validate that the prediction value and the input match up\n",
        "# The last close price of the second input sample should equal the first prediction value\n",
        "nrows = 3 # number of shifted plots\n",
        "fig, ax = plt.subplots(nrows=nrows, ncols=1, figsize=(14, 7))\n",
        "for i in range(nrows):\n",
        "    sns.lineplot(y = pd.DataFrame(x_train[i])[index_Close], x = range(input_sequence_length), ax = ax[i])\n",
        "    sns.lineplot(y = y_train[i], x = range(input_sequence_length -1, input_sequence_length + output_sequence_length - 1), ax = ax[i])\n",
        "plt.show"
      ]
    },
    {
      "cell_type": "markdown",
      "metadata": {
        "id": "x4bMq8PLX7Qi"
      },
      "source": [
        "Model Training "
      ]
    },
    {
      "cell_type": "code",
      "execution_count": null,
      "metadata": {
        "id": "oMIl6OdUX7Qp"
      },
      "outputs": [],
      "source": [
        "# # Configure the neural network model\n",
        "# model = Sequential()\n",
        "# n_output_neurons = output_sequence_length\n",
        "\n",
        "# # Model with n_neurons = inputshape Timestamps, each with x_train.shape[2] variables\n",
        "# n_input_neurons = x_train.shape[1] * x_train.shape[2]\n",
        "# print(n_input_neurons, x_train.shape[1], x_train.shape[2])\n",
        "# model.add(LSTM(n_input_neurons, return_sequences=True, input_shape=(x_train.shape[1], x_train.shape[2]))) \n",
        "# model.add(LSTM(n_input_neurons, return_sequences=False))\n",
        "# model.add(Dense(5))\n",
        "# model.add(Dense(n_output_neurons))\n",
        "\n",
        "# # Compile the model\n",
        "# model.compile(optimizer='adam', loss='mse')"
      ]
    },
    {
      "cell_type": "code",
      "execution_count": null,
      "metadata": {
        "id": "Rr_JBEIoX7Qt"
      },
      "outputs": [],
      "source": [
        "# # Training the model\n",
        "# epochs = 100\n",
        "# batch_size = 32\n",
        "# early_stop = EarlyStopping(monitor='loss', patience=5, verbose=1)\n",
        "# history = model.fit(x_train, y_train, \n",
        "#                     batch_size=batch_size, \n",
        "#                     epochs=epochs,\n",
        "#                     validation_data=(x_test, y_test)\n",
        "#                    )\n",
        "                    \n",
        "#                     #callbacks=[early_stop])"
      ]
    },
    {
      "cell_type": "code",
      "source": [
        "# Plot training & validation loss values\n",
        "fig, ax = plt.subplots(figsize=(10, 5), sharex=True)\n",
        "plt.plot(history.history[\"loss\"])\n",
        "plt.title(\"Model loss\")\n",
        "plt.ylabel(\"Loss\")\n",
        "plt.xlabel(\"Epoch\")\n",
        "ax.xaxis.set_major_locator(plt.MaxNLocator(epochs))\n",
        "plt.legend([\"Train\", \"Test\"], loc=\"upper left\")\n",
        "plt.grid()\n",
        "plt.show()"
      ],
      "metadata": {
        "id": "KPhy7O8aiuT0",
        "colab": {
          "base_uri": "https://localhost:8080/",
          "height": 541
        },
        "outputId": "5a19aac4-4998-4c0f-d9c5-3cf5fa8a2323"
      },
      "execution_count": 41,
      "outputs": [
        {
          "output_type": "error",
          "ename": "NameError",
          "evalue": "ignored",
          "traceback": [
            "\u001b[0;31m---------------------------------------------------------------------------\u001b[0m",
            "\u001b[0;31mNameError\u001b[0m                                 Traceback (most recent call last)",
            "\u001b[0;32m<ipython-input-41-e7084e19821c>\u001b[0m in \u001b[0;36m<module>\u001b[0;34m()\u001b[0m\n\u001b[1;32m      1\u001b[0m \u001b[0;31m# Plot training & validation loss values\u001b[0m\u001b[0;34m\u001b[0m\u001b[0;34m\u001b[0m\u001b[0;34m\u001b[0m\u001b[0m\n\u001b[1;32m      2\u001b[0m \u001b[0mfig\u001b[0m\u001b[0;34m,\u001b[0m \u001b[0max\u001b[0m \u001b[0;34m=\u001b[0m \u001b[0mplt\u001b[0m\u001b[0;34m.\u001b[0m\u001b[0msubplots\u001b[0m\u001b[0;34m(\u001b[0m\u001b[0mfigsize\u001b[0m\u001b[0;34m=\u001b[0m\u001b[0;34m(\u001b[0m\u001b[0;36m10\u001b[0m\u001b[0;34m,\u001b[0m \u001b[0;36m5\u001b[0m\u001b[0;34m)\u001b[0m\u001b[0;34m,\u001b[0m \u001b[0msharex\u001b[0m\u001b[0;34m=\u001b[0m\u001b[0;32mTrue\u001b[0m\u001b[0;34m)\u001b[0m\u001b[0;34m\u001b[0m\u001b[0;34m\u001b[0m\u001b[0m\n\u001b[0;32m----> 3\u001b[0;31m \u001b[0mplt\u001b[0m\u001b[0;34m.\u001b[0m\u001b[0mplot\u001b[0m\u001b[0;34m(\u001b[0m\u001b[0mhistory\u001b[0m\u001b[0;34m.\u001b[0m\u001b[0mhistory\u001b[0m\u001b[0;34m[\u001b[0m\u001b[0;34m\"loss\"\u001b[0m\u001b[0;34m]\u001b[0m\u001b[0;34m)\u001b[0m\u001b[0;34m\u001b[0m\u001b[0;34m\u001b[0m\u001b[0m\n\u001b[0m\u001b[1;32m      4\u001b[0m \u001b[0mplt\u001b[0m\u001b[0;34m.\u001b[0m\u001b[0mtitle\u001b[0m\u001b[0;34m(\u001b[0m\u001b[0;34m\"Model loss\"\u001b[0m\u001b[0;34m)\u001b[0m\u001b[0;34m\u001b[0m\u001b[0;34m\u001b[0m\u001b[0m\n\u001b[1;32m      5\u001b[0m \u001b[0mplt\u001b[0m\u001b[0;34m.\u001b[0m\u001b[0mylabel\u001b[0m\u001b[0;34m(\u001b[0m\u001b[0;34m\"Loss\"\u001b[0m\u001b[0;34m)\u001b[0m\u001b[0;34m\u001b[0m\u001b[0;34m\u001b[0m\u001b[0m\n",
            "\u001b[0;31mNameError\u001b[0m: name 'history' is not defined"
          ]
        },
        {
          "output_type": "display_data",
          "data": {
            "image/png": "[encoded data removed]",
            "text/plain": [
              "<Figure size 720x360 with 1 Axes>"
            ]
          },
          "metadata": {
            "needs_background": "light"
          }
        }
      ]
    },
    {
      "cell_type": "markdown",
      "metadata": {
        "id": "K9T5iinHX7Qw"
      },
      "source": [
        "Model Performance Evaluation    "
      ]
    },
    {
      "cell_type": "code",
      "source": [
        "pip install tf"
      ],
      "metadata": {
        "id": "4uGFVCvfquxE"
      },
      "execution_count": null,
      "outputs": []
    },
    {
      "cell_type": "code",
      "source": [
        "import pickle\n",
        "from tensorflow import keras\n",
        "model = keras.models.load_model('/content/BTC_Model_3MIN_JUN2021_DEC2021.h5')"
      ],
      "metadata": {
        "id": "1YUw4M6yg3RG"
      },
      "execution_count": null,
      "outputs": []
    },
    {
      "cell_type": "code",
      "execution_count": null,
      "metadata": {
        "id": "te7dOYe3X7Qz"
      },
      "outputs": [],
      "source": [
        "# Get the predicted values\n",
        "y_pred_scaled = model.predict(x_test)\n",
        "\n",
        "# Unscale the predicted values\n",
        "y_pred = scaler_pred.inverse_transform(y_pred_scaled)\n",
        "y_test_unscaled = scaler_pred.inverse_transform(y_test).reshape(-1, output_sequence_length)\n",
        "y_test_unscaled.shape\n",
        "\n",
        "# Mean Absolute Error (MAE)\n",
        "MAE = mean_absolute_error(y_test_unscaled, y_pred)\n",
        "print(f'Median Absolute Error (MAE): {np.round(MAE, 2)}')\n",
        "\n",
        "# Mean Absolute Percentage Error (MAPE)\n",
        "MAPE = np.mean((np.abs(np.subtract(y_test_unscaled, y_pred)/ y_test_unscaled))) * 100\n",
        "print(f'Mean Absolute Percentage Error (MAPE): {np.round(MAPE, 2)} %')\n",
        "\n",
        "# Median Absolute Percentage Error (MDAPE)\n",
        "MDAPE = np.median((np.abs(np.subtract(y_test_unscaled, y_pred)/ y_test_unscaled)) ) * 100\n",
        "print(f'Median Absolute Percentage Error (MDAPE): {np.round(MDAPE, 2)} %')"
      ]
    },
    {
      "cell_type": "markdown",
      "metadata": {
        "id": "wsJ349YSX7Q1"
      },
      "source": [
        "Multi Test Forecast"
      ]
    },
    {
      "cell_type": "code",
      "execution_count": null,
      "metadata": {
        "id": "9ebER3a8X7Q2",
        "colab": {
          "base_uri": "https://localhost:8080/",
          "height": 234
        },
        "outputId": "a31f4bc1-ac71-4407-8c12-59d2927e57c7"
      },
      "outputs": [
        {
          "output_type": "error",
          "ename": "NameError",
          "evalue": "ignored",
          "traceback": [
            "\u001b[0;31m---------------------------------------------------------------------------\u001b[0m",
            "\u001b[0;31mNameError\u001b[0m                                 Traceback (most recent call last)",
            "\u001b[0;32m<ipython-input-56-f1456fc5bb02>\u001b[0m in \u001b[0;36m<module>\u001b[0;34m()\u001b[0m\n\u001b[1;32m     24\u001b[0m     \u001b[0msns\u001b[0m\u001b[0;34m.\u001b[0m\u001b[0mlineplot\u001b[0m\u001b[0;34m(\u001b[0m\u001b[0mdata\u001b[0m \u001b[0;34m=\u001b[0m \u001b[0mdata\u001b[0m\u001b[0;34m,\u001b[0m  \u001b[0my\u001b[0m\u001b[0;34m=\u001b[0m\u001b[0;34m'pred'\u001b[0m\u001b[0;34m,\u001b[0m \u001b[0mx\u001b[0m\u001b[0;34m=\u001b[0m\u001b[0mpred_index\u001b[0m\u001b[0;34m,\u001b[0m \u001b[0mcolor\u001b[0m\u001b[0;34m=\u001b[0m\u001b[0;34m\"r\"\u001b[0m\u001b[0;34m,\u001b[0m \u001b[0mlinewidth\u001b[0m\u001b[0;34m=\u001b[0m\u001b[0;36m1.0\u001b[0m\u001b[0;34m,\u001b[0m \u001b[0mlabel\u001b[0m\u001b[0;34m=\u001b[0m\u001b[0;34m'pred'\u001b[0m\u001b[0;34m)\u001b[0m\u001b[0;34m\u001b[0m\u001b[0;34m\u001b[0m\u001b[0m\n\u001b[1;32m     25\u001b[0m \u001b[0;34m\u001b[0m\u001b[0m\n\u001b[0;32m---> 26\u001b[0;31m \u001b[0mx_test_unscaled\u001b[0m \u001b[0;34m=\u001b[0m \u001b[0mscaler_pred\u001b[0m\u001b[0;34m.\u001b[0m\u001b[0minverse_transform\u001b[0m\u001b[0;34m(\u001b[0m\u001b[0mnp\u001b[0m\u001b[0;34m.\u001b[0m\u001b[0marray\u001b[0m\u001b[0;34m(\u001b[0m\u001b[0mpd\u001b[0m\u001b[0;34m.\u001b[0m\u001b[0mDataFrame\u001b[0m\u001b[0;34m(\u001b[0m\u001b[0mx_test\u001b[0m\u001b[0;34m[\u001b[0m\u001b[0;36m0\u001b[0m\u001b[0;34m]\u001b[0m\u001b[0;34m)\u001b[0m\u001b[0;34m[\u001b[0m\u001b[0mindex_Close\u001b[0m\u001b[0;34m]\u001b[0m\u001b[0;34m)\u001b[0m\u001b[0;34m.\u001b[0m\u001b[0mreshape\u001b[0m\u001b[0;34m(\u001b[0m\u001b[0;34m-\u001b[0m\u001b[0;36m1\u001b[0m\u001b[0;34m,\u001b[0m \u001b[0;36m1\u001b[0m\u001b[0;34m)\u001b[0m\u001b[0;34m)\u001b[0m\u001b[0;34m\u001b[0m\u001b[0;34m\u001b[0m\u001b[0m\n\u001b[0m\u001b[1;32m     27\u001b[0m \u001b[0mdf_test\u001b[0m \u001b[0;34m=\u001b[0m \u001b[0mpd\u001b[0m\u001b[0;34m.\u001b[0m\u001b[0mDataFrame\u001b[0m\u001b[0;34m(\u001b[0m\u001b[0mx_test_unscaled\u001b[0m\u001b[0;34m)\u001b[0m\u001b[0;34m\u001b[0m\u001b[0;34m\u001b[0m\u001b[0m\n\u001b[1;32m     28\u001b[0m \u001b[0;34m\u001b[0m\u001b[0m\n",
            "\u001b[0;31mNameError\u001b[0m: name 'x_test' is not defined"
          ]
        }
      ],
      "source": [
        "def plot_multi_test_forecast(i, s, x_test, y_test_unscaled, y_pred_unscaled): \n",
        "    \n",
        "    # reshape the testset into a one-dimensional array, so that it fits to the pred scaler\n",
        "    x_test_scaled_reshaped = np.array(pd.DataFrame(x_test[i])[index_Close]).reshape(-1, 1)\n",
        "    \n",
        "    # undo the scaling on the testset\n",
        "    df_test = pd.DataFrame(scaler_pred.inverse_transform(x_test_scaled_reshaped) )\n",
        "\n",
        "    # set the max index \n",
        "    test_max_index = df_test.shape[0]\n",
        "    pred_max_index = y_pred_unscaled[0].shape[0]\n",
        "    test_index = range(i, i + test_max_index)\n",
        "    pred_index = range(i + test_max_index, i + test_max_index + pred_max_index)\n",
        "    \n",
        "    # package y_pred_unscaled and y_test_unscaled into a dataframe with columns pred and true\n",
        "    data = pd.DataFrame(list(zip(y_pred_unscaled[s], y_test_unscaled[i])), columns=['pred', 'true']) #\n",
        "    \n",
        "    fig, ax = plt.subplots(figsize=(8, 4))\n",
        "    plt.title(f\"Predictions vs Ground Truth {pred_index}\", fontsize=12)\n",
        "    ax.set(ylabel =  \"BTC Price USDT\")\n",
        "    \n",
        "    sns.lineplot(data = df_test,  y = df_test[0], x=test_index, color=\"#039dfc\", linewidth=1.0, label='test')\n",
        "    sns.lineplot(data = data,  y='true', x=pred_index, color=\"g\", linewidth=1.0, label='true')\n",
        "    sns.lineplot(data = data,  y='pred', x=pred_index, color=\"r\", linewidth=1.0, label='pred')\n",
        "\n",
        "x_test_unscaled = scaler_pred.inverse_transform(np.array(pd.DataFrame(x_test[0])[index_Close]).reshape(-1, 1)) \n",
        "df_test = pd.DataFrame(x_test_unscaled)\n",
        "    \n",
        "for i in range(5, 7): #i is the starting point for the batch in the time-series\n",
        "    #data = pd.DataFrame(list(zip(y_pred[i], y_test_unscaled[i])), columns=['pred', 'true'], index=range(55,65))\n",
        "    plot_multi_test_forecast(i, i, x_test, y_test_unscaled, y_pred)"
      ]
    },
    {
      "cell_type": "markdown",
      "metadata": {
        "id": "46lUFqAOX7Q5"
      },
      "source": [
        "New Forecast "
      ]
    },
    {
      "cell_type": "code",
      "execution_count": null,
      "metadata": {
        "id": "1xTnlSCuX7Q6"
      },
      "outputs": [],
      "source": [
        "def plot_new_multi_forecast(i_test, i_pred, x_test, y_pred_unscaled): \n",
        "    \n",
        "    # reshape the testset into a one-dimensional array, so that it fits to the pred scaler\n",
        "    x_test_scaled_reshaped = np.array(pd.DataFrame(x_test[i_test])[index_Close]).reshape(-1, 1)\n",
        "    \n",
        "    # undo the scaling on the testset\n",
        "    df_test = pd.DataFrame(scaler_pred.inverse_transform(x_test_scaled_reshaped) )\n",
        "\n",
        "    # set the max index \n",
        "    test_max_index = df_test.shape[0]\n",
        "    pred_max_index = y_pred_unscaled[0].shape[0]\n",
        "    test_index = range(i_test, i_test + test_max_index)\n",
        "    pred_index = range(i_test + test_max_index, i_test + test_max_index + pred_max_index)\n",
        "    \n",
        "    data = pd.DataFrame(list(zip(y_pred_unscaled[i_pred])), columns=['pred']) #\n",
        "    \n",
        "    fig, ax = plt.subplots(figsize=(8, 4))\n",
        "    plt.title(f\"Predictions vs Ground Truth {pred_index}\", fontsize=12)\n",
        "    ax.set(ylabel =  \"BTC Price USDT\")\n",
        "    \n",
        "    sns.lineplot(data = df_test,  y = df_test[0], x=test_index, color=\"#039dfc\", linewidth=1.0, label='test')\n",
        "    sns.lineplot(data = data,  y='pred', x=pred_index, color=\"r\", linewidth=1.0, label='pred')\n",
        "    \n",
        "# get the highest index from the x_test dataset\n",
        "index_max = x_test.shape[0]\n",
        "x_test_new = np_scaled[-51:-1,:].reshape(1,50,5)\n",
        "\n",
        "# undo the scaling of the predictions\n",
        "y_pred_scaled = model.predict(x_test_new)\n",
        "y_pred = scaler_pred.inverse_transform(y_pred_scaled)\n",
        "\n",
        "# plot the predictions\n",
        "plot_new_multi_forecast(0, 0, x_test_new, y_pred)"
      ]
    },
    {
      "cell_type": "code",
      "source": [
        "#Actual Prediction\n",
        "#Packages to load scaled data in array format for each crypto prediction\n",
        "\n",
        "# load numpy array from npy file\n",
        "import keras\n",
        "from numpy import load\n",
        "\n",
        "def prediction(crypto):\n",
        "  #Choose between BTCUSDT ETHUSDT XMRUSDT\n",
        "  if crypto == \"BTCUSDT\":\n",
        "    #Fetch Last Day 3min Candles Data\n",
        "    klines = client.get_historical_klines(crypto, Client.KLINE_INTERVAL_3MINUTE, \"1 day ago UTC\")\n",
        "\n",
        "    pred_df = pd.DataFrame(klines)\n",
        "    pred_df.columns = (['Open Time', 'Open', 'High', 'Low', 'Close', 'Volume', 'Close Time', 'Quote Asset Volume','Nb of Trade', 'TakerBuyBaseVolume', 'TakerBuyQuoteVolume','Ignored'])\n",
        "    # hist_df.drop(labels = ['TakerBuyBaseVolume', 'TakerBuyQuoteVolume', 'Ignored', 'Quote Asset Volume'], inplace = True,axis = 1)\n",
        "    pred_df['Close Time'] = pd.to_datetime(pred_df['Close Time']/1000, unit='s')\n",
        "    # hist_df['Open Time'] = pd.to_datetime(hist_df['Open Time']/1000, unit='s')\n",
        "    pred_df.drop(['Ignored', 'TakerBuyBaseVolume', 'TakerBuyQuoteVolume', 'Quote Asset Volume'], inplace= True, axis = 1)\n",
        "\n",
        "    #load scaled xmr array\n",
        "    np_scaled = load('btc_np_scaled.npy')\n",
        "\n",
        "    pred_df = pred_df.apply(pd.to_numeric)\n",
        "    pred = np_scaled[-51:-1,:].reshape(1,50,5)\n",
        "\n",
        "    # pred_df.to_csv('5H_avg_pred_df')\n",
        "    # pred_df\n",
        "    model = keras.models.load_model('/content/BTC_Model_3MIN.h5')\n",
        "    btc_y_pred_scaled = model.predict(pred)\n",
        "    btc_y_pred = scaler_pred.inverse_transform(btc_y_pred_scaled)\n",
        "    print(btc_y_pred)\n",
        "\n",
        "  elif crypto == \"XMRUSDT\":\n",
        "\n",
        "    #Fetch Last Day 3MINUTE Candles Data\n",
        "    klines = client.get_historical_klines(crypto, Client.KLINE_INTERVAL_3MINUTE, \"1 day ago UTC\")\n",
        "\n",
        "    pred_df = pd.DataFrame(klines)\n",
        "    pred_df.columns = (['Open Time', 'Open', 'High', 'Low', 'Close', 'Volume', 'Close Time', 'Quote Asset Volume','Nb of Trade', 'TakerBuyBaseVolume', 'TakerBuyQuoteVolume','Ignored'])\n",
        "    # hist_df.drop(labels = ['TakerBuyBaseVolume', 'TakerBuyQuoteVolume', 'Ignored', 'Quote Asset Volume'], inplace = True,axis = 1)\n",
        "    pred_df['Close Time'] = pd.to_datetime(pred_df['Close Time']/1000, unit='s')\n",
        "    # hist_df['Open Time'] = pd.to_datetime(hist_df['Open Time']/1000, unit='s')\n",
        "    pred_df.drop(['Ignored', 'TakerBuyBaseVolume', 'TakerBuyQuoteVolume', 'Quote Asset Volume'], inplace= True, axis = 1)\n",
        "\n",
        "    #load scaled xmr array\n",
        "    np_scaled = load('xmr_np_scaled.npy')\n",
        "\n",
        "    xmr_pred_df = pred_df.apply(pd.to_numeric)\n",
        "    xmr_pred = np_scaled[-51:-1,:].reshape(1,50,5)\n",
        "\n",
        "    # pred_df.to_csv('5H_avg_pred_df')\n",
        "    # pred_df\n",
        "    xmr_model = keras.models.load_model('XMR_Model_3MIN.h5')\n",
        "    xmr_y_pred_scaled = xmr_model.predict(xmr_pred)\n",
        "    xmr_y_pred = scaler_pred.inverse_transform(xmr_y_pred_scaled)\n",
        "\n",
        "    print(xmr_y_pred)\n",
        "      \n",
        "  elif crypto == \"ETHUSDT\":\n",
        "    #Fetch Last Day  3min Candles Data\n",
        "    klines = client.get_historical_klines(crypto, Client.KLINE_INTERVAL_3MINUTE, \"1 day ago UTC\")\n",
        "\n",
        "    pred_df = pd.DataFrame(klines)\n",
        "    pred_df.columns = (['Open Time', 'Open', 'High', 'Low', 'Close', 'Volume', 'Close Time', 'Quote Asset Volume','Nb of Trade', 'TakerBuyBaseVolume', 'TakerBuyQuoteVolume','Ignored'])\n",
        "    # hist_df.drop(labels = ['TakerBuyBaseVolume', 'TakerBuyQuoteVolume', 'Ignored', 'Quote Asset Volume'], inplace = True,axis = 1)\n",
        "    pred_df['Close Time'] = pd.to_datetime(pred_df['Close Time']/1000, unit='s')\n",
        "    # hist_df['Open Time'] = pd.to_datetime(hist_df['Open Time']/1000, unit='s')\n",
        "    pred_df.drop(['Ignored', 'TakerBuyBaseVolume', 'TakerBuyQuoteVolume', 'Quote Asset Volume'], inplace= True, axis = 1)\n",
        "    # hist_df['Open Time'] = hist_df.index\n",
        "\n",
        "    #load scaled xmr array\n",
        "    np_scaled = load('eth_np_scaled.npy')\n",
        "    eth_pred_df = pred_df.apply(pd.to_numeric)\n",
        "    eth_pred = np_scaled[-51:-1,:].reshape(1,50,5)\n",
        "\n",
        "    eth_model = keras.models.load_model('ETH_Model_3MIN.h5')\n",
        "    eth_y_pred_scaled = eth_model.predict(eth_pred)\n",
        "    eth_y_pred = scaler_pred.inverse_transform(eth_y_pred_scaled)\n",
        "\n",
        "    print(eth_y_pred)\n",
        "\n",
        "prediction(\"ETHUSDT\")\n"
      ],
      "metadata": {
        "id": "vvkib1Ndbzi7",
        "colab": {
          "base_uri": "https://localhost:8080/"
        },
        "outputId": "8eb5e4d1-77b0-4a50-da9e-fa46adabb7fd"
      },
      "execution_count": 32,
      "outputs": [
        {
          "output_type": "stream",
          "name": "stdout",
          "text": [
            "[[29624.04  29716.406 29911.979 29956.824 29711.8   29781.455 29857.324\n",
            "  29986.81  30003.135 29874.29 ]]\n"
          ]
        }
      ]
    },
    {
      "cell_type": "code",
      "source": [
        "from google.colab import drive\n",
        "drive.mount('/content/drive')"
      ],
      "metadata": {
        "colab": {
          "base_uri": "https://localhost:8080/"
        },
        "id": "u8xDKyB4EnpN",
        "outputId": "8f4cd2bc-3fea-4f80-9f84-d321bae0363e"
      },
      "execution_count": 33,
      "outputs": [
        {
          "output_type": "stream",
          "name": "stdout",
          "text": [
            "Mounted at /content/drive\n"
          ]
        }
      ]
    }
  ],
  "metadata": {
    "interpreter": {
      "hash": "3bff544f8a8073c4167e9b2cc33d981654572eb557f5e5f174774942b3a02b19"
    },
    "kernelspec": {
      "display_name": "Python 3.8.5 64-bit",
      "language": "python",
      "name": "python3"
    },
    "language_info": {
      "codemirror_mode": {
        "name": "ipython",
        "version": 3
      },
      "file_extension": ".py",
      "mimetype": "text/x-python",
      "name": "python",
      "nbconvert_exporter": "python",
      "pygments_lexer": "ipython3",
      "version": "3.8.5"
    },
    "orig_nbformat": 4,
    "colab": {
      "name": "Predictor_3MIN_Jun_Dec2021_BTC_XMR_ETH_Taly.ipynb",
      "provenance": [],
      "machine_shape": "hm",
      "collapsed_sections": []
    },
    "accelerator": "GPU"
  },
  "nbformat": 4,
  "nbformat_minor": 0
}