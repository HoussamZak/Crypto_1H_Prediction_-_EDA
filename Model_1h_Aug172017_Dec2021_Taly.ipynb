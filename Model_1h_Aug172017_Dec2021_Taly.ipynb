{
  "cells": [
    {
      "cell_type": "code",
      "execution_count": 2,
      "metadata": {
        "id": "HNDtzvYZX7Pg"
      },
      "outputs": [],
      "source": [
        "#import pandas_datareader as webreader # Remote data access for pandas\n",
        "import math # Mathematical functions \n",
        "import numpy as np # Fundamental package for scientific computing with Python\n",
        "import pandas as pd # Additional functions for analysing and manipulating data\n",
        "from datetime import date, timedelta, datetime # Date Functions\n",
        "from pandas.plotting import register_matplotlib_converters # This function adds plotting functions for calender dates\n",
        "import matplotlib.pyplot as plt # Important package for visualization - we use this to plot the market data\n",
        "import matplotlib.dates as mdates # Formatting dates\n",
        "from sklearn.metrics import mean_absolute_error, mean_squared_error # Packages for measuring model performance / errors\n",
        "from keras.models import Sequential # Deep learning library, used for neural networks\n",
        "from keras.layers import LSTM, Dense, Dropout # Deep learning classes for recurrent and regular densely-connected layers\n",
        "from keras.callbacks import EarlyStopping # EarlyStopping during model training\n",
        "from sklearn.preprocessing import RobustScaler, MinMaxScaler # This Scaler removes the median and scales the data according to the quantile range to normalize the price data \n",
        "import seaborn as sns"
      ]
    },
    {
      "cell_type": "code",
      "source": [
        ""
      ],
      "metadata": {
        "id": "WEc1KBGdYRiP"
      },
      "execution_count": 2,
      "outputs": []
    },
    {
      "cell_type": "code",
      "source": [
        ""
      ],
      "metadata": {
        "id": "lS7cWOHqYRe3"
      },
      "execution_count": 2,
      "outputs": []
    },
    {
      "cell_type": "code",
      "source": [
        "pip install python-binance"
      ],
      "metadata": {
        "colab": {
          "base_uri": "https://localhost:8080/"
        },
        "id": "2upkEN1YYM-d",
        "outputId": "1b550eae-9dd8-49fe-965b-828f1b664f9e"
      },
      "execution_count": 3,
      "outputs": [
        {
          "output_type": "stream",
          "name": "stdout",
          "text": [
            "Collecting python-binance\n",
            "  Downloading python_binance-1.0.15-py2.py3-none-any.whl (63 kB)\n",
            "\u001b[?25l\r\u001b[K     |█████▏                          | 10 kB 41.1 MB/s eta 0:00:01\r\u001b[K     |██████████▎                     | 20 kB 8.5 MB/s eta 0:00:01\r\u001b[K     |███████████████▍                | 30 kB 7.8 MB/s eta 0:00:01\r\u001b[K     |████████████████████▌           | 40 kB 7.5 MB/s eta 0:00:01\r\u001b[K     |█████████████████████████▋      | 51 kB 4.2 MB/s eta 0:00:01\r\u001b[K     |██████████████████████████████▊ | 61 kB 4.4 MB/s eta 0:00:01\r\u001b[K     |████████████████████████████████| 63 kB 2.0 MB/s \n",
            "\u001b[?25hRequirement already satisfied: requests in /usr/local/lib/python3.7/dist-packages (from python-binance) (2.23.0)\n",
            "Collecting aiohttp\n",
            "  Downloading aiohttp-3.8.1-cp37-cp37m-manylinux_2_5_x86_64.manylinux1_x86_64.manylinux_2_12_x86_64.manylinux2010_x86_64.whl (1.1 MB)\n",
            "\u001b[K     |████████████████████████████████| 1.1 MB 8.9 MB/s \n",
            "\u001b[?25hCollecting websockets==9.1\n",
            "  Downloading websockets-9.1-cp37-cp37m-manylinux2010_x86_64.whl (103 kB)\n",
            "\u001b[K     |████████████████████████████████| 103 kB 90.8 MB/s \n",
            "\u001b[?25hCollecting ujson\n",
            "  Downloading ujson-4.3.0-cp37-cp37m-manylinux_2_17_x86_64.manylinux2014_x86_64.whl (216 kB)\n",
            "\u001b[K     |████████████████████████████████| 216 kB 90.0 MB/s \n",
            "\u001b[?25hRequirement already satisfied: six in /usr/local/lib/python3.7/dist-packages (from python-binance) (1.15.0)\n",
            "Collecting dateparser\n",
            "  Downloading dateparser-1.1.0-py2.py3-none-any.whl (288 kB)\n",
            "\u001b[K     |████████████████████████████████| 288 kB 87.1 MB/s \n",
            "\u001b[?25hRequirement already satisfied: charset-normalizer<3.0,>=2.0 in /usr/local/lib/python3.7/dist-packages (from aiohttp->python-binance) (2.0.8)\n",
            "Collecting async-timeout<5.0,>=4.0.0a3\n",
            "  Downloading async_timeout-4.0.1-py3-none-any.whl (5.7 kB)\n",
            "Requirement already satisfied: typing-extensions>=3.7.4 in /usr/local/lib/python3.7/dist-packages (from aiohttp->python-binance) (3.10.0.2)\n",
            "Collecting aiosignal>=1.1.2\n",
            "  Downloading aiosignal-1.2.0-py3-none-any.whl (8.2 kB)\n",
            "Collecting asynctest==0.13.0\n",
            "  Downloading asynctest-0.13.0-py3-none-any.whl (26 kB)\n",
            "Requirement already satisfied: attrs>=17.3.0 in /usr/local/lib/python3.7/dist-packages (from aiohttp->python-binance) (21.2.0)\n",
            "Collecting multidict<7.0,>=4.5\n",
            "  Downloading multidict-5.2.0-cp37-cp37m-manylinux_2_5_x86_64.manylinux1_x86_64.manylinux_2_12_x86_64.manylinux2010_x86_64.whl (160 kB)\n",
            "\u001b[K     |████████████████████████████████| 160 kB 82.4 MB/s \n",
            "\u001b[?25hCollecting yarl<2.0,>=1.0\n",
            "  Downloading yarl-1.7.2-cp37-cp37m-manylinux_2_5_x86_64.manylinux1_x86_64.manylinux_2_12_x86_64.manylinux2010_x86_64.whl (271 kB)\n",
            "\u001b[K     |████████████████████████████████| 271 kB 88.0 MB/s \n",
            "\u001b[?25hCollecting frozenlist>=1.1.1\n",
            "  Downloading frozenlist-1.2.0-cp37-cp37m-manylinux_2_5_x86_64.manylinux1_x86_64.manylinux_2_12_x86_64.manylinux2010_x86_64.whl (192 kB)\n",
            "\u001b[K     |████████████████████████████████| 192 kB 99.5 MB/s \n",
            "\u001b[?25hRequirement already satisfied: idna>=2.0 in /usr/local/lib/python3.7/dist-packages (from yarl<2.0,>=1.0->aiohttp->python-binance) (2.10)\n",
            "Requirement already satisfied: python-dateutil in /usr/local/lib/python3.7/dist-packages (from dateparser->python-binance) (2.8.2)\n",
            "Requirement already satisfied: pytz in /usr/local/lib/python3.7/dist-packages (from dateparser->python-binance) (2018.9)\n",
            "Requirement already satisfied: regex!=2019.02.19,!=2021.8.27 in /usr/local/lib/python3.7/dist-packages (from dateparser->python-binance) (2019.12.20)\n",
            "Requirement already satisfied: tzlocal in /usr/local/lib/python3.7/dist-packages (from dateparser->python-binance) (1.5.1)\n",
            "Requirement already satisfied: certifi>=2017.4.17 in /usr/local/lib/python3.7/dist-packages (from requests->python-binance) (2021.10.8)\n",
            "Requirement already satisfied: urllib3!=1.25.0,!=1.25.1,<1.26,>=1.21.1 in /usr/local/lib/python3.7/dist-packages (from requests->python-binance) (1.24.3)\n",
            "Requirement already satisfied: chardet<4,>=3.0.2 in /usr/local/lib/python3.7/dist-packages (from requests->python-binance) (3.0.4)\n",
            "Installing collected packages: multidict, frozenlist, yarl, asynctest, async-timeout, aiosignal, websockets, ujson, dateparser, aiohttp, python-binance\n",
            "Successfully installed aiohttp-3.8.1 aiosignal-1.2.0 async-timeout-4.0.1 asynctest-0.13.0 dateparser-1.1.0 frozenlist-1.2.0 multidict-5.2.0 python-binance-1.0.15 ujson-4.3.0 websockets-9.1 yarl-1.7.2\n"
          ]
        }
      ]
    },
    {
      "cell_type": "code",
      "execution_count": 4,
      "metadata": {
        "id": "v3mj3tYwX7QH"
      },
      "outputs": [],
      "source": [
        "from datetime import datetime\n",
        "from pandas_datareader.data import DataReader"
      ]
    },
    {
      "cell_type": "code",
      "execution_count": 5,
      "metadata": {
        "id": "lSs5MuQtX7QL"
      },
      "outputs": [],
      "source": [
        "# Data retrieval for cryptocurrencies BTCUSDT ETHUSDT XMRUSDT \n",
        "# Binance API credentials \n",
        "apikey = '2ZaEiNukiFtPHqnYdCGMANNimHdcCF0nvv4L9eYXMIdr4ovveQrca4NWKsZ7DxAy'\n",
        "secretkey = '9zjousoyG0t2wblcGkm0tVGLBfz6Woo3paakGh49Vhj0IxrGGXl332b1KQaxlJKY'\n",
        "\n",
        "from binance import Client, ThreadedWebsocketManager, ThreadedDepthCacheManager\n",
        "#API Initialization \n",
        "client = Client(apikey, secretkey)"
      ]
    },
    {
      "cell_type": "code",
      "execution_count": 6,
      "metadata": {
        "colab": {
          "base_uri": "https://localhost:8080/",
          "height": 424
        },
        "id": "squpnHF3X7QN",
        "outputId": "f8496243-b419-4e13-ef14-3fddd7b04475"
      },
      "outputs": [
        {
          "output_type": "execute_result",
          "data": {
            "text/html": [
              "<div>\n",
              "<style scoped>\n",
              "    .dataframe tbody tr th:only-of-type {\n",
              "        vertical-align: middle;\n",
              "    }\n",
              "\n",
              "    .dataframe tbody tr th {\n",
              "        vertical-align: top;\n",
              "    }\n",
              "\n",
              "    .dataframe thead th {\n",
              "        text-align: right;\n",
              "    }\n",
              "</style>\n",
              "<table border=\"1\" class=\"dataframe\">\n",
              "  <thead>\n",
              "    <tr style=\"text-align: right;\">\n",
              "      <th></th>\n",
              "      <th>index</th>\n",
              "      <th>Open Time</th>\n",
              "      <th>Open</th>\n",
              "      <th>High</th>\n",
              "      <th>Low</th>\n",
              "      <th>Close</th>\n",
              "      <th>Volume</th>\n",
              "      <th>Close Time</th>\n",
              "      <th>Nb of Trade</th>\n",
              "    </tr>\n",
              "  </thead>\n",
              "  <tbody>\n",
              "    <tr>\n",
              "      <th>1502942400000</th>\n",
              "      <td>0</td>\n",
              "      <td>1502942400000</td>\n",
              "      <td>4261.48000000</td>\n",
              "      <td>4313.62000000</td>\n",
              "      <td>4261.32000000</td>\n",
              "      <td>4308.83000000</td>\n",
              "      <td>47.18100900</td>\n",
              "      <td>1502945999999</td>\n",
              "      <td>171</td>\n",
              "    </tr>\n",
              "    <tr>\n",
              "      <th>1502946000000</th>\n",
              "      <td>1</td>\n",
              "      <td>1502946000000</td>\n",
              "      <td>4308.83000000</td>\n",
              "      <td>4328.69000000</td>\n",
              "      <td>4291.37000000</td>\n",
              "      <td>4315.32000000</td>\n",
              "      <td>23.23491600</td>\n",
              "      <td>1502949599999</td>\n",
              "      <td>102</td>\n",
              "    </tr>\n",
              "    <tr>\n",
              "      <th>1502949600000</th>\n",
              "      <td>2</td>\n",
              "      <td>1502949600000</td>\n",
              "      <td>4330.29000000</td>\n",
              "      <td>4345.45000000</td>\n",
              "      <td>4309.37000000</td>\n",
              "      <td>4324.35000000</td>\n",
              "      <td>7.22969100</td>\n",
              "      <td>1502953199999</td>\n",
              "      <td>36</td>\n",
              "    </tr>\n",
              "    <tr>\n",
              "      <th>1502953200000</th>\n",
              "      <td>3</td>\n",
              "      <td>1502953200000</td>\n",
              "      <td>4316.62000000</td>\n",
              "      <td>4349.99000000</td>\n",
              "      <td>4287.41000000</td>\n",
              "      <td>4349.99000000</td>\n",
              "      <td>4.44324900</td>\n",
              "      <td>1502956799999</td>\n",
              "      <td>25</td>\n",
              "    </tr>\n",
              "    <tr>\n",
              "      <th>1502956800000</th>\n",
              "      <td>4</td>\n",
              "      <td>1502956800000</td>\n",
              "      <td>4333.32000000</td>\n",
              "      <td>4377.85000000</td>\n",
              "      <td>4333.32000000</td>\n",
              "      <td>4360.69000000</td>\n",
              "      <td>0.97280700</td>\n",
              "      <td>1502960399999</td>\n",
              "      <td>28</td>\n",
              "    </tr>\n",
              "    <tr>\n",
              "      <th>...</th>\n",
              "      <td>...</td>\n",
              "      <td>...</td>\n",
              "      <td>...</td>\n",
              "      <td>...</td>\n",
              "      <td>...</td>\n",
              "      <td>...</td>\n",
              "      <td>...</td>\n",
              "      <td>...</td>\n",
              "      <td>...</td>\n",
              "    </tr>\n",
              "    <tr>\n",
              "      <th>1638302400000</th>\n",
              "      <td>37474</td>\n",
              "      <td>1638302400000</td>\n",
              "      <td>57629.99000000</td>\n",
              "      <td>57754.63000000</td>\n",
              "      <td>57193.17000000</td>\n",
              "      <td>57400.41000000</td>\n",
              "      <td>1104.11329000</td>\n",
              "      <td>1638305999999</td>\n",
              "      <td>44314</td>\n",
              "    </tr>\n",
              "    <tr>\n",
              "      <th>1638306000000</th>\n",
              "      <td>37475</td>\n",
              "      <td>1638306000000</td>\n",
              "      <td>57400.41000000</td>\n",
              "      <td>57786.08000000</td>\n",
              "      <td>56850.00000000</td>\n",
              "      <td>57097.79000000</td>\n",
              "      <td>1452.77571000</td>\n",
              "      <td>1638309599999</td>\n",
              "      <td>47424</td>\n",
              "    </tr>\n",
              "    <tr>\n",
              "      <th>1638309600000</th>\n",
              "      <td>37476</td>\n",
              "      <td>1638309600000</td>\n",
              "      <td>57097.80000000</td>\n",
              "      <td>57534.54000000</td>\n",
              "      <td>57000.78000000</td>\n",
              "      <td>57267.91000000</td>\n",
              "      <td>723.32185000</td>\n",
              "      <td>1638313199999</td>\n",
              "      <td>34411</td>\n",
              "    </tr>\n",
              "    <tr>\n",
              "      <th>1638313200000</th>\n",
              "      <td>37477</td>\n",
              "      <td>1638313200000</td>\n",
              "      <td>57267.90000000</td>\n",
              "      <td>57424.23000000</td>\n",
              "      <td>56762.39000000</td>\n",
              "      <td>56950.56000000</td>\n",
              "      <td>1104.34335000</td>\n",
              "      <td>1638316799999</td>\n",
              "      <td>39636</td>\n",
              "    </tr>\n",
              "    <tr>\n",
              "      <th>1638316800000</th>\n",
              "      <td>37478</td>\n",
              "      <td>1638316800000</td>\n",
              "      <td>56950.56000000</td>\n",
              "      <td>57686.12000000</td>\n",
              "      <td>56630.00000000</td>\n",
              "      <td>57577.07000000</td>\n",
              "      <td>1693.73069000</td>\n",
              "      <td>1638320399999</td>\n",
              "      <td>55827</td>\n",
              "    </tr>\n",
              "  </tbody>\n",
              "</table>\n",
              "<p>37479 rows × 9 columns</p>\n",
              "</div>"
            ],
            "text/plain": [
              "               index      Open Time  ...     Close Time Nb of Trade\n",
              "1502942400000      0  1502942400000  ...  1502945999999         171\n",
              "1502946000000      1  1502946000000  ...  1502949599999         102\n",
              "1502949600000      2  1502949600000  ...  1502953199999          36\n",
              "1502953200000      3  1502953200000  ...  1502956799999          25\n",
              "1502956800000      4  1502956800000  ...  1502960399999          28\n",
              "...              ...            ...  ...            ...         ...\n",
              "1638302400000  37474  1638302400000  ...  1638305999999       44314\n",
              "1638306000000  37475  1638306000000  ...  1638309599999       47424\n",
              "1638309600000  37476  1638309600000  ...  1638313199999       34411\n",
              "1638313200000  37477  1638313200000  ...  1638316799999       39636\n",
              "1638316800000  37478  1638316800000  ...  1638320399999       55827\n",
              "\n",
              "[37479 rows x 9 columns]"
            ]
          },
          "metadata": {},
          "execution_count": 6
        }
      ],
      "source": [
        "#Data collection: BTCUSDT \n",
        "\n",
        "klines = client.get_historical_klines(\"BTCUSDT\", Client.KLINE_INTERVAL_1HOUR, \"17 Aug, 2017\", \"1 Dec, 2021\")\n",
        "\n",
        "# for candle in klines:\n",
        "#   print(candle)\n",
        "\n",
        "hist_df = pd.DataFrame(klines)\n",
        "hist_df.columns = (['Open Time', 'Open', 'High', 'Low', 'Close', 'Volume', 'Close Time', 'Quote Asset Volume','Nb of Trade', 'TakerBuyBaseVolume', 'TakerBuyQuoteVolume','Ignored'])\n",
        "# hist_df.drop(labels = ['TakerBuyBaseVolume', 'TakerBuyQuoteVolume', 'Ignored', 'Quote Asset Volume'], inplace = True,axis = 1)\n",
        "# hist_df['Close Time'] = pd.to_datetime(hist_df['Close Time']/1000, unit='s')\n",
        "# hist_df['Open Time'] = pd.to_datetime(hist_df['Open Time']/1000, unit='s')\n",
        "hist_df.drop(['Ignored', 'TakerBuyBaseVolume', 'TakerBuyQuoteVolume', 'Quote Asset Volume'], inplace= True, axis = 1)\n",
        "# hist_df['Open Time'] = hist_df.index\n",
        "\n",
        "hist_df = hist_df.reset_index().set_index('Open Time', drop=False)\n",
        "hist_df.index.name = None\n",
        "df = hist_df\n",
        "\n",
        "df.to_csv('BTCUSDT_1H_JAN2017_DEC2021')\n",
        "df"
      ]
    },
    {
      "cell_type": "code",
      "execution_count": 7,
      "metadata": {
        "colab": {
          "base_uri": "https://localhost:8080/",
          "height": 206
        },
        "id": "At157IqIX7QT",
        "outputId": "3fe59637-2b5f-4b69-f3b6-748d133bb697"
      },
      "outputs": [
        {
          "output_type": "execute_result",
          "data": {
            "text/html": [
              "<div>\n",
              "<style scoped>\n",
              "    .dataframe tbody tr th:only-of-type {\n",
              "        vertical-align: middle;\n",
              "    }\n",
              "\n",
              "    .dataframe tbody tr th {\n",
              "        vertical-align: top;\n",
              "    }\n",
              "\n",
              "    .dataframe thead th {\n",
              "        text-align: right;\n",
              "    }\n",
              "</style>\n",
              "<table border=\"1\" class=\"dataframe\">\n",
              "  <thead>\n",
              "    <tr style=\"text-align: right;\">\n",
              "      <th></th>\n",
              "      <th>Open Time</th>\n",
              "      <th>Open</th>\n",
              "      <th>High</th>\n",
              "      <th>Low</th>\n",
              "      <th>Close</th>\n",
              "      <th>Volume</th>\n",
              "      <th>Close Time</th>\n",
              "      <th>Nb of Trade</th>\n",
              "    </tr>\n",
              "  </thead>\n",
              "  <tbody>\n",
              "    <tr>\n",
              "      <th>37474</th>\n",
              "      <td>1638302400000</td>\n",
              "      <td>57629.99000000</td>\n",
              "      <td>57754.63000000</td>\n",
              "      <td>57193.17000000</td>\n",
              "      <td>57400.41000000</td>\n",
              "      <td>1104.11329000</td>\n",
              "      <td>1638305999999</td>\n",
              "      <td>44314</td>\n",
              "    </tr>\n",
              "    <tr>\n",
              "      <th>37475</th>\n",
              "      <td>1638306000000</td>\n",
              "      <td>57400.41000000</td>\n",
              "      <td>57786.08000000</td>\n",
              "      <td>56850.00000000</td>\n",
              "      <td>57097.79000000</td>\n",
              "      <td>1452.77571000</td>\n",
              "      <td>1638309599999</td>\n",
              "      <td>47424</td>\n",
              "    </tr>\n",
              "    <tr>\n",
              "      <th>37476</th>\n",
              "      <td>1638309600000</td>\n",
              "      <td>57097.80000000</td>\n",
              "      <td>57534.54000000</td>\n",
              "      <td>57000.78000000</td>\n",
              "      <td>57267.91000000</td>\n",
              "      <td>723.32185000</td>\n",
              "      <td>1638313199999</td>\n",
              "      <td>34411</td>\n",
              "    </tr>\n",
              "    <tr>\n",
              "      <th>37477</th>\n",
              "      <td>1638313200000</td>\n",
              "      <td>57267.90000000</td>\n",
              "      <td>57424.23000000</td>\n",
              "      <td>56762.39000000</td>\n",
              "      <td>56950.56000000</td>\n",
              "      <td>1104.34335000</td>\n",
              "      <td>1638316799999</td>\n",
              "      <td>39636</td>\n",
              "    </tr>\n",
              "    <tr>\n",
              "      <th>37478</th>\n",
              "      <td>1638316800000</td>\n",
              "      <td>56950.56000000</td>\n",
              "      <td>57686.12000000</td>\n",
              "      <td>56630.00000000</td>\n",
              "      <td>57577.07000000</td>\n",
              "      <td>1693.73069000</td>\n",
              "      <td>1638320399999</td>\n",
              "      <td>55827</td>\n",
              "    </tr>\n",
              "  </tbody>\n",
              "</table>\n",
              "</div>"
            ],
            "text/plain": [
              "           Open Time            Open  ...     Close Time Nb of Trade\n",
              "37474  1638302400000  57629.99000000  ...  1638305999999       44314\n",
              "37475  1638306000000  57400.41000000  ...  1638309599999       47424\n",
              "37476  1638309600000  57097.80000000  ...  1638313199999       34411\n",
              "37477  1638313200000  57267.90000000  ...  1638316799999       39636\n",
              "37478  1638316800000  56950.56000000  ...  1638320399999       55827\n",
              "\n",
              "[5 rows x 8 columns]"
            ]
          },
          "metadata": {},
          "execution_count": 7
        }
      ],
      "source": [
        "# Indexing Batches\n",
        "df_train = df.sort_values(by=['Open Time']).copy()\n",
        "\n",
        "# Saving a copy of the dates index, before we need to reset it to numbers\n",
        "date_index = df_train.index\n",
        "\n",
        "# We reset the index, so we can convert the date-index to a number-index\n",
        "df_train = df_train.reset_index(drop=True).copy()\n",
        "df_train.drop(columns=['index'], inplace=True, axis = 1)\n",
        "df_train.tail(5)"
      ]
    },
    {
      "cell_type": "code",
      "execution_count": 8,
      "metadata": {
        "colab": {
          "base_uri": "https://localhost:8080/"
        },
        "id": "9lpTTQiRX7QX",
        "outputId": "72e06227-bf7c-4a55-c079-2c61b263d167"
      },
      "outputs": [
        {
          "output_type": "stream",
          "name": "stdout",
          "text": [
            "FEATURE LIST\n",
            "['Open', 'High', 'Low', 'Close', 'Volume']\n",
            "(37479, 5)\n"
          ]
        }
      ],
      "source": [
        "def prepare_data(df):\n",
        "\n",
        "    # List of considered Features\n",
        "    FEATURES = ['Open', 'High', 'Low', 'Close', 'Volume']\n",
        "\n",
        "    print('FEATURE LIST')\n",
        "    print([f for f in FEATURES])\n",
        "\n",
        "    # Create the dataset with features and filter the data to the list of FEATURES\n",
        "    df_filter = df[FEATURES]\n",
        "    \n",
        "    # Convert the data to numpy values\n",
        "    np_filter_unscaled = np.array(df_filter)\n",
        "    #np_filter_unscaled = np.reshape(np_unscaled, (df_filter.shape[0], -1))\n",
        "    print(np_filter_unscaled.shape)\n",
        "\n",
        "    np_c_unscaled = np.array(df['Close']).reshape(-1, 1)\n",
        "    \n",
        "    return np_filter_unscaled, np_c_unscaled\n",
        "    \n",
        "np_filter_unscaled, np_c_unscaled = prepare_data(df_train)\n",
        "                                          \n",
        "# Creating a separate scaler that works on a single column for scaling predictions\n",
        "# Scale each feature to a range between 0 and 1\n",
        "scaler_train = MinMaxScaler()\n",
        "np_scaled = scaler_train.fit_transform(np_filter_unscaled)\n",
        "    \n",
        "# Create a separate scaler for a single column\n",
        "scaler_pred = MinMaxScaler()\n",
        "np_scaled_c = scaler_pred.fit_transform(np_c_unscaled)   "
      ]
    },
    {
      "cell_type": "code",
      "execution_count": 9,
      "metadata": {
        "colab": {
          "base_uri": "https://localhost:8080/",
          "height": 480
        },
        "id": "L8W_u897X7Qd",
        "outputId": "eaafe0a4-d451-44cf-fa86-f0644ecb2bcf"
      },
      "outputs": [
        {
          "output_type": "stream",
          "name": "stdout",
          "text": [
            "(29924, 50, 5) (29924, 10)\n",
            "(7485, 50, 5) (7485, 10)\n"
          ]
        },
        {
          "output_type": "execute_result",
          "data": {
            "text/plain": [
              "<function matplotlib.pyplot.show>"
            ]
          },
          "metadata": {},
          "execution_count": 9
        },
        {
          "output_type": "display_data",
          "data": {
            "image/png": "[encoded data removed]",
            "text/plain": [
              "<Figure size 1008x504 with 3 Axes>"
            ]
          },
          "metadata": {
            "needs_background": "light"
          }
        }
      ],
      "source": [
        "# Set the input_sequence_length length - this is the timeframe used to make a single prediction\n",
        "input_sequence_length = 50\n",
        "# The output sequence length is the number of steps that the neural network predicts\n",
        "output_sequence_length = 10 #\n",
        "\n",
        "# Prediction Index\n",
        "index_Close = df_train.columns.get_loc(\"Close\")\n",
        "\n",
        "# Split the training data into train and train data sets\n",
        "# As a first step, we get the number of rows to train the model on 80% of the data \n",
        "train_data_length = math.ceil(np_scaled.shape[0] * 0.8)\n",
        "\n",
        "# Create the training and test data\n",
        "train_data = np_scaled[0:train_data_length, :]\n",
        "test_data = np_scaled[train_data_length - input_sequence_length:, :]\n",
        "\n",
        "# The RNN needs data with the format of [samples, time steps, features]\n",
        "# Here, we create N samples, input_sequence_length time steps per sample, and f features\n",
        "def partition_dataset(input_sequence_length, output_sequence_length, data):\n",
        "    x, y = [], []\n",
        "    data_len = data.shape[0]\n",
        "    for i in range(input_sequence_length, data_len - output_sequence_length):\n",
        "        x.append(data[i-input_sequence_length:i,:]) #contains input_sequence_length values 0-input_sequence_length * columns\n",
        "        y.append(data[i:i + output_sequence_length, index_Close]) #contains the prediction values for validation (3rd column = Close),  for single-step prediction\n",
        "    \n",
        "    # Convert the x and y to numpy arrays\n",
        "    x = np.array(x)\n",
        "    y = np.array(y)\n",
        "    return x, y\n",
        "\n",
        "# Generate training data and test data\n",
        "x_train, y_train = partition_dataset(input_sequence_length, output_sequence_length, train_data)\n",
        "x_test, y_test = partition_dataset(input_sequence_length, output_sequence_length, test_data)\n",
        "\n",
        "# Print the shapes: the result is: (rows, training_sequence, features) (prediction value, )\n",
        "print(x_train.shape, y_train.shape)\n",
        "print(x_test.shape, y_test.shape)\n",
        "\n",
        "# Validate that the prediction value and the input match up\n",
        "# The last close price of the second input sample should equal the first prediction value\n",
        "nrows = 3 # number of shifted plots\n",
        "fig, ax = plt.subplots(nrows=nrows, ncols=1, figsize=(14, 7))\n",
        "for i in range(nrows):\n",
        "    sns.lineplot(y = pd.DataFrame(x_train[i])[index_Close], x = range(input_sequence_length), ax = ax[i])\n",
        "    sns.lineplot(y = y_train[i], x = range(input_sequence_length -1, input_sequence_length + output_sequence_length - 1), ax = ax[i])\n",
        "plt.show"
      ]
    },
    {
      "cell_type": "markdown",
      "metadata": {
        "id": "x4bMq8PLX7Qi"
      },
      "source": [
        "Model Training "
      ]
    },
    {
      "cell_type": "code",
      "execution_count": 10,
      "metadata": {
        "colab": {
          "base_uri": "https://localhost:8080/"
        },
        "id": "oMIl6OdUX7Qp",
        "outputId": "824c1ba8-feb3-43c1-8e28-31f18793e250"
      },
      "outputs": [
        {
          "output_type": "stream",
          "name": "stdout",
          "text": [
            "250 50 5\n"
          ]
        }
      ],
      "source": [
        "# Configure the neural network model\n",
        "model = Sequential()\n",
        "n_output_neurons = output_sequence_length\n",
        "\n",
        "# Model with n_neurons = inputshape Timestamps, each with x_train.shape[2] variables\n",
        "n_input_neurons = x_train.shape[1] * x_train.shape[2]\n",
        "print(n_input_neurons, x_train.shape[1], x_train.shape[2])\n",
        "model.add(LSTM(n_input_neurons, return_sequences=True, input_shape=(x_train.shape[1], x_train.shape[2]))) \n",
        "model.add(LSTM(n_input_neurons, return_sequences=False))\n",
        "model.add(Dense(5))\n",
        "model.add(Dense(n_output_neurons))\n",
        "\n",
        "# Compile the model\n",
        "model.compile(optimizer='adam', loss='mse')"
      ]
    },
    {
      "cell_type": "code",
      "execution_count": 31,
      "metadata": {
        "colab": {
          "base_uri": "https://localhost:8080/"
        },
        "id": "Rr_JBEIoX7Qt",
        "outputId": "3dd1cd42-0a7e-4d26-ae3a-92ea1f526f98"
      },
      "outputs": [
        {
          "output_type": "stream",
          "name": "stdout",
          "text": [
            "Epoch 1/100\n",
            "936/936 [==============================] - 12s 13ms/step - loss: 0.0011 - val_loss: 0.0060\n",
            "Epoch 2/100\n",
            "936/936 [==============================] - 12s 13ms/step - loss: 9.8904e-04 - val_loss: 0.0065\n",
            "Epoch 3/100\n",
            "936/936 [==============================] - 12s 12ms/step - loss: 9.6795e-04 - val_loss: 0.0073\n",
            "Epoch 4/100\n",
            "936/936 [==============================] - 12s 13ms/step - loss: 9.6279e-04 - val_loss: 0.0086\n",
            "Epoch 5/100\n",
            "936/936 [==============================] - 12s 12ms/step - loss: 9.7248e-04 - val_loss: 0.0076\n",
            "Epoch 6/100\n",
            "936/936 [==============================] - 12s 12ms/step - loss: 9.5712e-04 - val_loss: 0.0095\n",
            "Epoch 7/100\n",
            "936/936 [==============================] - 12s 12ms/step - loss: 9.2103e-04 - val_loss: 0.0075\n",
            "Epoch 8/100\n",
            "936/936 [==============================] - 12s 13ms/step - loss: 9.1007e-04 - val_loss: 0.0072\n",
            "Epoch 9/100\n",
            "936/936 [==============================] - 12s 13ms/step - loss: 9.0927e-04 - val_loss: 0.0068\n",
            "Epoch 10/100\n",
            "936/936 [==============================] - 12s 13ms/step - loss: 8.8405e-04 - val_loss: 0.0063\n",
            "Epoch 11/100\n",
            "936/936 [==============================] - 12s 12ms/step - loss: 8.6606e-04 - val_loss: 0.0089\n",
            "Epoch 12/100\n",
            "936/936 [==============================] - 12s 12ms/step - loss: 8.6210e-04 - val_loss: 0.0063\n",
            "Epoch 13/100\n",
            "936/936 [==============================] - 12s 13ms/step - loss: 8.3959e-04 - val_loss: 0.0052\n",
            "Epoch 14/100\n",
            "936/936 [==============================] - 12s 13ms/step - loss: 8.2769e-04 - val_loss: 0.0086\n",
            "Epoch 15/100\n",
            "936/936 [==============================] - 12s 13ms/step - loss: 8.0671e-04 - val_loss: 0.0088\n",
            "Epoch 16/100\n",
            "936/936 [==============================] - 12s 12ms/step - loss: 7.9522e-04 - val_loss: 0.0071\n",
            "Epoch 17/100\n",
            "936/936 [==============================] - 12s 12ms/step - loss: 8.3252e-04 - val_loss: 0.0034\n",
            "Epoch 18/100\n",
            "936/936 [==============================] - 12s 13ms/step - loss: 7.8254e-04 - val_loss: 0.0068\n",
            "Epoch 19/100\n",
            "936/936 [==============================] - 12s 13ms/step - loss: 7.4026e-04 - val_loss: 0.0051\n",
            "Epoch 20/100\n",
            "936/936 [==============================] - 12s 13ms/step - loss: 7.3071e-04 - val_loss: 0.0070\n",
            "Epoch 21/100\n",
            "936/936 [==============================] - 12s 13ms/step - loss: 7.3551e-04 - val_loss: 0.0094\n",
            "Epoch 22/100\n",
            "936/936 [==============================] - 12s 13ms/step - loss: 7.0668e-04 - val_loss: 0.0109\n",
            "Epoch 23/100\n",
            "936/936 [==============================] - 12s 13ms/step - loss: 6.9236e-04 - val_loss: 0.0073\n",
            "Epoch 24/100\n",
            "936/936 [==============================] - 12s 13ms/step - loss: 6.8095e-04 - val_loss: 0.0088\n",
            "Epoch 25/100\n",
            "936/936 [==============================] - 12s 13ms/step - loss: 6.7519e-04 - val_loss: 0.0063\n",
            "Epoch 26/100\n",
            "936/936 [==============================] - 12s 13ms/step - loss: 6.6021e-04 - val_loss: 0.0065\n",
            "Epoch 27/100\n",
            "936/936 [==============================] - 12s 13ms/step - loss: 6.4123e-04 - val_loss: 0.0058\n",
            "Epoch 28/100\n",
            "936/936 [==============================] - 12s 13ms/step - loss: 6.2108e-04 - val_loss: 0.0068\n",
            "Epoch 29/100\n",
            "936/936 [==============================] - 12s 13ms/step - loss: 6.0291e-04 - val_loss: 0.0066\n",
            "Epoch 30/100\n",
            "936/936 [==============================] - 12s 12ms/step - loss: 5.8815e-04 - val_loss: 0.0077\n",
            "Epoch 31/100\n",
            "936/936 [==============================] - 12s 13ms/step - loss: 5.8218e-04 - val_loss: 0.0067\n",
            "Epoch 32/100\n",
            "936/936 [==============================] - 12s 12ms/step - loss: 5.5408e-04 - val_loss: 0.0076\n",
            "Epoch 33/100\n",
            "936/936 [==============================] - 12s 13ms/step - loss: 5.4743e-04 - val_loss: 0.0067\n",
            "Epoch 34/100\n",
            "936/936 [==============================] - 12s 13ms/step - loss: 5.2591e-04 - val_loss: 0.0073\n",
            "Epoch 35/100\n",
            "936/936 [==============================] - 12s 13ms/step - loss: 5.1754e-04 - val_loss: 0.0069\n",
            "Epoch 36/100\n",
            "936/936 [==============================] - 12s 13ms/step - loss: 5.0188e-04 - val_loss: 0.0073\n",
            "Epoch 37/100\n",
            "936/936 [==============================] - 12s 13ms/step - loss: 5.2836e-04 - val_loss: 0.0043\n",
            "Epoch 38/100\n",
            "936/936 [==============================] - 12s 13ms/step - loss: 5.2229e-04 - val_loss: 0.0067\n",
            "Epoch 39/100\n",
            "936/936 [==============================] - 12s 12ms/step - loss: 4.5137e-04 - val_loss: 0.0070\n",
            "Epoch 40/100\n",
            "936/936 [==============================] - 12s 13ms/step - loss: 4.4160e-04 - val_loss: 0.0070\n",
            "Epoch 41/100\n",
            "936/936 [==============================] - 12s 13ms/step - loss: 4.4255e-04 - val_loss: 0.0056\n",
            "Epoch 42/100\n",
            "936/936 [==============================] - 12s 13ms/step - loss: 4.2072e-04 - val_loss: 0.0050\n",
            "Epoch 43/100\n",
            "936/936 [==============================] - 12s 13ms/step - loss: 4.1334e-04 - val_loss: 0.0057\n",
            "Epoch 44/100\n",
            "936/936 [==============================] - 12s 13ms/step - loss: 4.0973e-04 - val_loss: 0.0061\n",
            "Epoch 45/100\n",
            "936/936 [==============================] - 12s 13ms/step - loss: 4.0938e-04 - val_loss: 0.0051\n",
            "Epoch 46/100\n",
            "936/936 [==============================] - 12s 13ms/step - loss: 3.9473e-04 - val_loss: 0.0059\n",
            "Epoch 47/100\n",
            "936/936 [==============================] - 12s 13ms/step - loss: 3.8360e-04 - val_loss: 0.0053\n",
            "Epoch 48/100\n",
            "936/936 [==============================] - 12s 13ms/step - loss: 3.7870e-04 - val_loss: 0.0056\n",
            "Epoch 49/100\n",
            "936/936 [==============================] - 12s 13ms/step - loss: 3.7542e-04 - val_loss: 0.0055\n",
            "Epoch 50/100\n",
            "936/936 [==============================] - 12s 13ms/step - loss: 3.7026e-04 - val_loss: 0.0056\n",
            "Epoch 51/100\n",
            "936/936 [==============================] - 12s 13ms/step - loss: 3.6260e-04 - val_loss: 0.0058\n",
            "Epoch 52/100\n",
            "936/936 [==============================] - 12s 13ms/step - loss: 3.6427e-04 - val_loss: 0.0050\n",
            "Epoch 53/100\n",
            "936/936 [==============================] - 12s 13ms/step - loss: 3.5717e-04 - val_loss: 0.0054\n",
            "Epoch 54/100\n",
            "936/936 [==============================] - 12s 13ms/step - loss: 3.4996e-04 - val_loss: 0.0054\n",
            "Epoch 55/100\n",
            "936/936 [==============================] - 12s 13ms/step - loss: 3.5592e-04 - val_loss: 0.0048\n",
            "Epoch 56/100\n",
            "936/936 [==============================] - 12s 13ms/step - loss: 3.4370e-04 - val_loss: 0.0044\n",
            "Epoch 57/100\n",
            "936/936 [==============================] - 12s 13ms/step - loss: 3.4174e-04 - val_loss: 0.0050\n",
            "Epoch 58/100\n",
            "936/936 [==============================] - 12s 13ms/step - loss: 3.4191e-04 - val_loss: 0.0046\n",
            "Epoch 59/100\n",
            "936/936 [==============================] - 12s 13ms/step - loss: 3.3892e-04 - val_loss: 0.0046\n",
            "Epoch 60/100\n",
            "936/936 [==============================] - 12s 13ms/step - loss: 3.3503e-04 - val_loss: 0.0052\n",
            "Epoch 61/100\n",
            "936/936 [==============================] - 12s 13ms/step - loss: 3.3231e-04 - val_loss: 0.0050\n",
            "Epoch 62/100\n",
            "936/936 [==============================] - 12s 13ms/step - loss: 3.3299e-04 - val_loss: 0.0044\n",
            "Epoch 63/100\n",
            "936/936 [==============================] - 12s 13ms/step - loss: 3.3141e-04 - val_loss: 0.0048\n",
            "Epoch 64/100\n",
            "936/936 [==============================] - 12s 13ms/step - loss: 3.2562e-04 - val_loss: 0.0046\n",
            "Epoch 65/100\n",
            "936/936 [==============================] - 12s 13ms/step - loss: 3.2969e-04 - val_loss: 0.0046\n",
            "Epoch 66/100\n",
            "936/936 [==============================] - 12s 13ms/step - loss: 3.2433e-04 - val_loss: 0.0053\n",
            "Epoch 67/100\n",
            "936/936 [==============================] - 12s 13ms/step - loss: 3.2263e-04 - val_loss: 0.0049\n",
            "Epoch 68/100\n",
            "936/936 [==============================] - 12s 13ms/step - loss: 3.2307e-04 - val_loss: 0.0045\n",
            "Epoch 69/100\n",
            "936/936 [==============================] - 12s 13ms/step - loss: 3.2099e-04 - val_loss: 0.0052\n",
            "Epoch 70/100\n",
            "936/936 [==============================] - 12s 13ms/step - loss: 3.1979e-04 - val_loss: 0.0045\n",
            "Epoch 71/100\n",
            "936/936 [==============================] - 12s 13ms/step - loss: 3.2404e-04 - val_loss: 0.0052\n",
            "Epoch 72/100\n",
            "936/936 [==============================] - 12s 13ms/step - loss: 3.1635e-04 - val_loss: 0.0042\n",
            "Epoch 73/100\n",
            "936/936 [==============================] - 12s 13ms/step - loss: 3.1862e-04 - val_loss: 0.0045\n",
            "Epoch 74/100\n",
            "936/936 [==============================] - 12s 12ms/step - loss: 3.2417e-04 - val_loss: 0.0051\n",
            "Epoch 75/100\n",
            "936/936 [==============================] - 12s 13ms/step - loss: 3.1400e-04 - val_loss: 0.0048\n",
            "Epoch 76/100\n",
            "936/936 [==============================] - 12s 12ms/step - loss: 3.1231e-04 - val_loss: 0.0047\n",
            "Epoch 77/100\n",
            "936/936 [==============================] - 12s 13ms/step - loss: 3.1426e-04 - val_loss: 0.0049\n",
            "Epoch 78/100\n",
            "936/936 [==============================] - 12s 13ms/step - loss: 3.1385e-04 - val_loss: 0.0048\n",
            "Epoch 79/100\n",
            "936/936 [==============================] - 12s 13ms/step - loss: 3.1234e-04 - val_loss: 0.0042\n",
            "Epoch 80/100\n",
            "936/936 [==============================] - 12s 13ms/step - loss: 3.1082e-04 - val_loss: 0.0044\n",
            "Epoch 81/100\n",
            "936/936 [==============================] - 12s 12ms/step - loss: 3.1103e-04 - val_loss: 0.0048\n",
            "Epoch 82/100\n",
            "936/936 [==============================] - 12s 12ms/step - loss: 3.1118e-04 - val_loss: 0.0047\n",
            "Epoch 83/100\n",
            "936/936 [==============================] - 12s 13ms/step - loss: 3.0977e-04 - val_loss: 0.0050\n",
            "Epoch 84/100\n",
            "936/936 [==============================] - 12s 13ms/step - loss: 3.0811e-04 - val_loss: 0.0048\n",
            "Epoch 85/100\n",
            "936/936 [==============================] - 12s 13ms/step - loss: 3.0754e-04 - val_loss: 0.0052\n",
            "Epoch 86/100\n",
            "936/936 [==============================] - 12s 13ms/step - loss: 3.0905e-04 - val_loss: 0.0054\n",
            "Epoch 87/100\n",
            "936/936 [==============================] - 12s 12ms/step - loss: 3.0794e-04 - val_loss: 0.0046\n",
            "Epoch 88/100\n",
            "936/936 [==============================] - 12s 13ms/step - loss: 3.0699e-04 - val_loss: 0.0048\n",
            "Epoch 89/100\n",
            "936/936 [==============================] - 12s 13ms/step - loss: 3.0757e-04 - val_loss: 0.0045\n",
            "Epoch 90/100\n",
            "936/936 [==============================] - 12s 13ms/step - loss: 3.0594e-04 - val_loss: 0.0052\n",
            "Epoch 91/100\n",
            "936/936 [==============================] - 12s 13ms/step - loss: 3.0592e-04 - val_loss: 0.0056\n",
            "Epoch 92/100\n",
            "936/936 [==============================] - 12s 13ms/step - loss: 3.0712e-04 - val_loss: 0.0052\n",
            "Epoch 93/100\n",
            "936/936 [==============================] - 12s 13ms/step - loss: 3.0644e-04 - val_loss: 0.0052\n",
            "Epoch 94/100\n",
            "936/936 [==============================] - 12s 13ms/step - loss: 3.0434e-04 - val_loss: 0.0046\n",
            "Epoch 95/100\n",
            "936/936 [==============================] - 12s 13ms/step - loss: 3.0269e-04 - val_loss: 0.0048\n",
            "Epoch 96/100\n",
            "936/936 [==============================] - 12s 13ms/step - loss: 3.0750e-04 - val_loss: 0.0044\n",
            "Epoch 97/100\n",
            "936/936 [==============================] - 12s 13ms/step - loss: 3.0257e-04 - val_loss: 0.0047\n",
            "Epoch 98/100\n",
            "936/936 [==============================] - 12s 13ms/step - loss: 3.0385e-04 - val_loss: 0.0050\n",
            "Epoch 99/100\n",
            "936/936 [==============================] - 12s 13ms/step - loss: 3.0451e-04 - val_loss: 0.0046\n",
            "Epoch 100/100\n",
            "936/936 [==============================] - 12s 13ms/step - loss: 3.0308e-04 - val_loss: 0.0053\n"
          ]
        }
      ],
      "source": [
        "# Training the model\n",
        "epochs = 100\n",
        "batch_size = 32\n",
        "early_stop = EarlyStopping(monitor='loss', patience=5, verbose=1)\n",
        "history = model.fit(x_train, y_train, \n",
        "                    batch_size=batch_size, \n",
        "                    epochs=epochs,\n",
        "                    validation_data=(x_test, y_test)\n",
        "                   )\n",
        "                    \n",
        "                    #callbacks=[early_stop])"
      ]
    },
    {
      "cell_type": "code",
      "source": [
        "# Plot training & validation loss values\n",
        "fig, ax = plt.subplots(figsize=(10, 5), sharex=True)\n",
        "plt.plot(history.history[\"loss\"])\n",
        "plt.title(\"Model loss\")\n",
        "plt.ylabel(\"Loss\")\n",
        "plt.xlabel(\"Epoch\")\n",
        "ax.xaxis.set_major_locator(plt.MaxNLocator(epochs))\n",
        "plt.legend([\"Train\", \"Test\"], loc=\"upper left\")\n",
        "plt.grid()\n",
        "plt.show()"
      ],
      "metadata": {
        "colab": {
          "base_uri": "https://localhost:8080/",
          "height": 350
        },
        "id": "KPhy7O8aiuT0",
        "outputId": "1e27d1d6-104d-4121-dfb7-f9f62e93361e"
      },
      "execution_count": 13,
      "outputs": [
        {
          "output_type": "display_data",
          "data": {
            "image/png": "[encoded data removed]",
            "text/plain": [
              "<Figure size 720x360 with 1 Axes>"
            ]
          },
          "metadata": {
            "needs_background": "light"
          }
        }
      ]
    },
    {
      "cell_type": "markdown",
      "metadata": {
        "id": "K9T5iinHX7Qw"
      },
      "source": [
        "Model Performance Evaluation    "
      ]
    },
    {
      "cell_type": "code",
      "source": [
        "model.save('Model_1H_AUG2017_DEC2021.h5')"
      ],
      "metadata": {
        "id": "1YUw4M6yg3RG"
      },
      "execution_count": 14,
      "outputs": []
    },
    {
      "cell_type": "code",
      "execution_count": 15,
      "metadata": {
        "colab": {
          "base_uri": "https://localhost:8080/"
        },
        "id": "te7dOYe3X7Qz",
        "outputId": "b90ad1c1-8240-4a0a-d999-c280595148f1"
      },
      "outputs": [
        {
          "output_type": "stream",
          "name": "stdout",
          "text": [
            "Median Absolute Error (MAE): 4458.06\n",
            "Mean Absolute Percentage Error (MAPE): 76.06 %\n",
            "Median Absolute Percentage Error (MDAPE): 62.14 %\n"
          ]
        }
      ],
      "source": [
        "# Get the predicted values\n",
        "y_pred_scaled = model.predict(x_test)\n",
        "\n",
        "# Unscale the predicted values\n",
        "y_pred = scaler_pred.inverse_transform(y_pred_scaled)\n",
        "y_test_unscaled = scaler_pred.inverse_transform(y_test).reshape(-1, output_sequence_length)\n",
        "y_test_unscaled.shape\n",
        "\n",
        "# Mean Absolute Error (MAE)\n",
        "MAE = mean_absolute_error(y_test_unscaled, y_pred)\n",
        "print(f'Median Absolute Error (MAE): {np.round(MAE, 2)}')\n",
        "\n",
        "# Mean Absolute Percentage Error (MAPE)\n",
        "MAPE = np.mean((np.abs(np.subtract(y_test_unscaled, y_pred)/ y_test_unscaled))) * 100\n",
        "print(f'Mean Absolute Percentage Error (MAPE): {np.round(MAPE, 2)} %')\n",
        "\n",
        "# Median Absolute Percentage Error (MDAPE)\n",
        "MDAPE = np.median((np.abs(np.subtract(y_test_unscaled, y_pred)/ y_test_unscaled)) ) * 100\n",
        "print(f'Median Absolute Percentage Error (MDAPE): {np.round(MDAPE, 2)} %')"
      ]
    },
    {
      "cell_type": "markdown",
      "metadata": {
        "id": "wsJ349YSX7Q1"
      },
      "source": [
        "Multi Test Forecast"
      ]
    },
    {
      "cell_type": "code",
      "execution_count": 16,
      "metadata": {
        "colab": {
          "base_uri": "https://localhost:8080/",
          "height": 545
        },
        "id": "9ebER3a8X7Q2",
        "outputId": "4f5f74f8-205d-4575-a0e1-eba7f2b95f66"
      },
      "outputs": [
        {
          "output_type": "display_data",
          "data": {
            "image/png": "[encoded data removed]",
            "text/plain": [
              "<Figure size 576x288 with 1 Axes>"
            ]
          },
          "metadata": {
            "needs_background": "light"
          }
        },
        {
          "output_type": "display_data",
          "data": {
            "image/png": "[encoded data removed]",
            "text/plain": [
              "<Figure size 576x288 with 1 Axes>"
            ]
          },
          "metadata": {
            "needs_background": "light"
          }
        }
      ],
      "source": [
        "def plot_multi_test_forecast(i, s, x_test, y_test_unscaled, y_pred_unscaled): \n",
        "    \n",
        "    # reshape the testset into a one-dimensional array, so that it fits to the pred scaler\n",
        "    x_test_scaled_reshaped = np.array(pd.DataFrame(x_test[i])[index_Close]).reshape(-1, 1)\n",
        "    \n",
        "    # undo the scaling on the testset\n",
        "    df_test = pd.DataFrame(scaler_pred.inverse_transform(x_test_scaled_reshaped) )\n",
        "\n",
        "    # set the max index \n",
        "    test_max_index = df_test.shape[0]\n",
        "    pred_max_index = y_pred_unscaled[0].shape[0]\n",
        "    test_index = range(i, i + test_max_index)\n",
        "    pred_index = range(i + test_max_index, i + test_max_index + pred_max_index)\n",
        "    \n",
        "    # package y_pred_unscaled and y_test_unscaled into a dataframe with columns pred and true\n",
        "    data = pd.DataFrame(list(zip(y_pred_unscaled[s], y_test_unscaled[i])), columns=['pred', 'true']) #\n",
        "    \n",
        "    fig, ax = plt.subplots(figsize=(8, 4))\n",
        "    plt.title(f\"Predictions vs Ground Truth {pred_index}\", fontsize=12)\n",
        "    ax.set(ylabel =  \"BTC Price USDT\")\n",
        "    \n",
        "    sns.lineplot(data = df_test,  y = df_test[0], x=test_index, color=\"#039dfc\", linewidth=1.0, label='test')\n",
        "    sns.lineplot(data = data,  y='true', x=pred_index, color=\"g\", linewidth=1.0, label='true')\n",
        "    sns.lineplot(data = data,  y='pred', x=pred_index, color=\"r\", linewidth=1.0, label='pred')\n",
        "\n",
        "x_test_unscaled = scaler_pred.inverse_transform(np.array(pd.DataFrame(x_test[0])[index_Close]).reshape(-1, 1)) \n",
        "df_test = pd.DataFrame(x_test_unscaled)\n",
        "    \n",
        "for i in range(5, 7): #i is the starting point for the batch in the time-series\n",
        "    #data = pd.DataFrame(list(zip(y_pred[i], y_test_unscaled[i])), columns=['pred', 'true'], index=range(55,65))\n",
        "    plot_multi_test_forecast(i, i, x_test, y_test_unscaled, y_pred)"
      ]
    },
    {
      "cell_type": "markdown",
      "metadata": {
        "id": "46lUFqAOX7Q5"
      },
      "source": [
        "New Forecast "
      ]
    },
    {
      "cell_type": "code",
      "execution_count": 18,
      "metadata": {
        "colab": {
          "base_uri": "https://localhost:8080/",
          "height": 281
        },
        "id": "1xTnlSCuX7Q6",
        "outputId": "3b78e6eb-5595-4cc5-b4ef-bbe83fa21a76"
      },
      "outputs": [
        {
          "output_type": "display_data",
          "data": {
            "image/png": "[encoded data removed]",
            "text/plain": [
              "<Figure size 576x288 with 1 Axes>"
            ]
          },
          "metadata": {
            "needs_background": "light"
          }
        }
      ],
      "source": [
        "def plot_new_multi_forecast(i_test, i_pred, x_test, y_pred_unscaled): \n",
        "    \n",
        "    # reshape the testset into a one-dimensional array, so that it fits to the pred scaler\n",
        "    x_test_scaled_reshaped = np.array(pd.DataFrame(x_test[i_test])[index_Close]).reshape(-1, 1)\n",
        "    \n",
        "    # undo the scaling on the testset\n",
        "    df_test = pd.DataFrame(scaler_pred.inverse_transform(x_test_scaled_reshaped) )\n",
        "\n",
        "    # set the max index \n",
        "    test_max_index = df_test.shape[0]\n",
        "    pred_max_index = y_pred_unscaled[0].shape[0]\n",
        "    test_index = range(i_test, i_test + test_max_index)\n",
        "    pred_index = range(i_test + test_max_index, i_test + test_max_index + pred_max_index)\n",
        "    \n",
        "    data = pd.DataFrame(list(zip(y_pred_unscaled[i_pred])), columns=['pred']) #\n",
        "    \n",
        "    fig, ax = plt.subplots(figsize=(8, 4))\n",
        "    plt.title(f\"Predictions vs Ground Truth {pred_index}\", fontsize=12)\n",
        "    ax.set(ylabel =  \"BTC Price USDT\")\n",
        "    \n",
        "    sns.lineplot(data = df_test,  y = df_test[0], x=test_index, color=\"#039dfc\", linewidth=1.0, label='test')\n",
        "    sns.lineplot(data = data,  y='pred', x=pred_index, color=\"r\", linewidth=1.0, label='pred')\n",
        "    \n",
        "# get the highest index from the x_test dataset\n",
        "index_max = x_test.shape[0]\n",
        "x_test_new = np_scaled[-51:-1,:].reshape(1,50,5)\n",
        "\n",
        "# undo the scaling of the predictions\n",
        "y_pred_scaled = model.predict(x_test_new)\n",
        "y_pred = scaler_pred.inverse_transform(y_pred_scaled)\n",
        "\n",
        "# plot the predictions\n",
        "plot_new_multi_forecast(0, 0, x_test_new, y_pred)"
      ]
    },
    {
      "cell_type": "code",
      "source": [
        "#Actual Prediction\n",
        "\n",
        "def prediction(crypto):\n",
        "  #Choose between BTCUSDT ETHUSDT XMRUSDT\n",
        "\n",
        "  #Fetch Last Day 1HR Candles Data\n",
        "  klines = client.get_historical_klines(crypto, Client.KLINE_INTERVAL_1HOUR, \"1 day ago UTC\")\n",
        "\n",
        "  pred_df = pd.DataFrame(klines)\n",
        "  pred_df.columns = (['Open Time', 'Open', 'High', 'Low', 'Close', 'Volume', 'Close Time', 'Quote Asset Volume','Nb of Trade', 'TakerBuyBaseVolume', 'TakerBuyQuoteVolume','Ignored'])\n",
        "  # hist_df.drop(labels = ['TakerBuyBaseVolume', 'TakerBuyQuoteVolume', 'Ignored', 'Quote Asset Volume'], inplace = True,axis = 1)\n",
        "  pred_df['Close Time'] = pd.to_datetime(pred_df['Close Time']/1000, unit='s')\n",
        "  # hist_df['Open Time'] = pd.to_datetime(hist_df['Open Time']/1000, unit='s')\n",
        "  pred_df.drop(['Ignored', 'TakerBuyBaseVolume', 'TakerBuyQuoteVolume', 'Quote Asset Volume'], inplace= True, axis = 1)\n",
        "  # hist_df['Open Time'] = hist_df.index\n",
        "\n",
        "  # hist_df = hist_df.reset_index().set_index('Open Time', drop=False)\n",
        "  # hist_df.index.name = None\n",
        "\n",
        "  pred_df = pred_df.apply(pd.to_numeric)\n",
        "  pred = np_scaled[-51:-1,:].reshape(1,50,5)\n",
        "\n",
        "  # pred_df.to_csv('5H_avg_pred_df')\n",
        "  # pred_df\n",
        "\n",
        "  y_pred_scaled = model.predict(pred)\n",
        "  y_pred = scaler_pred.inverse_transform(y_pred_scaled)\n",
        "\n",
        "  print(y_pred, pred_df)\n",
        "\n",
        "prediction(\"BTCUSDT\")\n",
        "\n",
        "\n",
        "\n",
        "# [[ 8629.145   9355.863  11853.738  13433.332  13547.479  13394.084\n",
        "#   12253.178  10282.858   8911.003   8255.8545]]"
      ],
      "metadata": {
        "colab": {
          "base_uri": "https://localhost:8080/"
        },
        "id": "vvkib1Ndbzi7",
        "outputId": "de6dde61-b825-4591-cb4d-ed19e4e41f63"
      },
      "execution_count": 30,
      "outputs": [
        {
          "output_type": "stream",
          "name": "stdout",
          "text": [
            "[[ 8629.145   9355.863  11853.738  13433.332  13547.479  13394.084\n",
            "  12253.178  10282.858   8911.003   8255.8545]]         Open Time      Open  ...           Close Time  Nb of Trade\n",
            "0   1639342800000  50266.13  ...  1639346399999000072        32021\n",
            "1   1639346400000  49950.05  ...  1639349999999000072        28668\n",
            "2   1639350000000  50272.02  ...  1639353599999000072        25867\n",
            "3   1639353600000  50053.90  ...  1639357199999000072        43114\n",
            "4   1639357200000  49630.66  ...  1639360799999000072        67080\n",
            "5   1639360800000  48597.51  ...  1639364399999000072        41383\n",
            "6   1639364400000  48770.42  ...  1639367999999000072        33377\n",
            "7   1639368000000  48873.20  ...  1639371599999000072        26616\n",
            "8   1639371600000  49026.65  ...  1639375199999000072        32537\n",
            "9   1639375200000  49238.03  ...  1639378799999000072        33093\n",
            "10  1639378800000  48936.88  ...  1639382399999000072        41664\n",
            "11  1639382400000  48740.01  ...  1639385999999000072        56490\n",
            "12  1639386000000  49015.00  ...  1639389599999000072        31946\n",
            "13  1639389600000  48859.29  ...  1639393199999000072        32086\n",
            "14  1639393200000  48688.03  ...  1639396799999000072        34661\n",
            "15  1639396800000  48845.00  ...  1639400399999000072        39996\n",
            "16  1639400400000  48588.51  ...  1639403999999000072        53210\n",
            "17  1639404000000  48420.97  ...  1639407599999000072        82312\n",
            "18  1639407600000  47960.09  ...  1639411199999000072       101659\n",
            "19  1639411200000  47252.02  ...  1639414799999000072       115251\n",
            "20  1639414800000  47141.41  ...  1639418399999000072        71602\n",
            "21  1639418400000  47513.16  ...  1639421999999000072        39345\n",
            "22  1639422000000  47444.55  ...  1639425599999000072       192657\n",
            "23  1639425600000  46739.35  ...  1639429199999000072        50583\n",
            "\n",
            "[24 rows x 8 columns]\n"
          ]
        }
      ]
    }
  ],
  "metadata": {
    "interpreter": {
      "hash": "3bff544f8a8073c4167e9b2cc33d981654572eb557f5e5f174774942b3a02b19"
    },
    "kernelspec": {
      "display_name": "Python 3.8.5 64-bit",
      "language": "python",
      "name": "python3"
    },
    "language_info": {
      "codemirror_mode": {
        "name": "ipython",
        "version": 3
      },
      "file_extension": ".py",
      "mimetype": "text/x-python",
      "name": "python",
      "nbconvert_exporter": "python",
      "pygments_lexer": "ipython3",
      "version": "3.8.5"
    },
    "orig_nbformat": 4,
    "colab": {
      "name": "Taly_Model_1h_Aug172017_Dec2021.ipynb",
      "provenance": [],
      "machine_shape": "hm"
    },
    "accelerator": "GPU"
  },
  "nbformat": 4,
  "nbformat_minor": 0
}