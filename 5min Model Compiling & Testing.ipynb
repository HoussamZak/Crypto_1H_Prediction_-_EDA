{
 "cells": [
  {
   "cell_type": "markdown",
   "metadata": {},
   "source": [
    "Compiling 1 minute model in order to assess the performance/loss in comparison to the 1hr model"
   ]
  },
  {
   "cell_type": "code",
   "execution_count": 1,
   "metadata": {},
   "outputs": [],
   "source": [
    "# Data retrieval for cryptocurrencies BTCUSDT ETHUSDT XMRUSDT \n",
    "# Binance API credentials \n",
    "apikey = '2ZaEiNukiFtPHqnYdCGMANNimHdcCF0nvv4L9eYXMIdr4ovveQrca4NWKsZ7DxAy'\n",
    "secretkey = '9zjousoyG0t2wblcGkm0tVGLBfz6Woo3paakGh49Vhj0IxrGGXl332b1KQaxlJKY'\n",
    "\n",
    "from binance import Client, ThreadedWebsocketManager, ThreadedDepthCacheManager\n",
    "# #API Initialization \n",
    "client = Client(apikey, secretkey)"
   ]
  },
  {
   "cell_type": "code",
   "execution_count": 2,
   "metadata": {},
   "outputs": [],
   "source": [
    "import os\n",
    "import numpy as np\n",
    "import tensorflow as tf\n",
    "from tensorflow import keras\n",
    "import pandas as pd\n",
    "import seaborn as sns \n",
    "from pylab import rcParams\n",
    "import matplotlib.pyplot as plt\n",
    "from matplotlib import rc\n",
    "\n",
    "from sklearn.preprocessing import MinMaxScaler\n",
    "from tensorflow.keras.layers import Bidirectional, Dropout, Activation, Dense, LSTM\n",
    "from tensorflow.python.keras.layers import CuDNNLSTM\n",
    "from tensorflow.keras.models import Sequential\n",
    "\n",
    "%matplotlib inline\n",
    "\n",
    "sns.set(style = \"whitegrid\", palette = \"muted\") #front_scale = 1.5 \n",
    "rcParams['figure.figsize'] = 28, 10\n",
    "RANDOM_SEED = 42\n",
    "np.random.seed(RANDOM_SEED)"
   ]
  },
  {
   "cell_type": "code",
   "execution_count": 3,
   "metadata": {},
   "outputs": [],
   "source": [
    "from datetime import datetime\n",
    "from pandas_datareader.data import DataReader"
   ]
  },
  {
   "cell_type": "code",
   "execution_count": 4,
   "metadata": {},
   "outputs": [
    {
     "data": {
      "text/html": [
       "<div>\n",
       "<style scoped>\n",
       "    .dataframe tbody tr th:only-of-type {\n",
       "        vertical-align: middle;\n",
       "    }\n",
       "\n",
       "    .dataframe tbody tr th {\n",
       "        vertical-align: top;\n",
       "    }\n",
       "\n",
       "    .dataframe thead th {\n",
       "        text-align: right;\n",
       "    }\n",
       "</style>\n",
       "<table border=\"1\" class=\"dataframe\">\n",
       "  <thead>\n",
       "    <tr style=\"text-align: right;\">\n",
       "      <th></th>\n",
       "      <th>Open Time</th>\n",
       "      <th>Open</th>\n",
       "      <th>High</th>\n",
       "      <th>Low</th>\n",
       "      <th>Close</th>\n",
       "      <th>Volume</th>\n",
       "      <th>Close Time</th>\n",
       "      <th>Nb of Trade</th>\n",
       "    </tr>\n",
       "  </thead>\n",
       "  <tbody>\n",
       "    <tr>\n",
       "      <th>0</th>\n",
       "      <td>1630454400000</td>\n",
       "      <td>47100.89000000</td>\n",
       "      <td>47103.64000000</td>\n",
       "      <td>46851.00000000</td>\n",
       "      <td>47046.73000000</td>\n",
       "      <td>281.59977000</td>\n",
       "      <td>1630454699999</td>\n",
       "      <td>8200</td>\n",
       "    </tr>\n",
       "    <tr>\n",
       "      <th>1</th>\n",
       "      <td>1630454700000</td>\n",
       "      <td>47046.73000000</td>\n",
       "      <td>47321.42000000</td>\n",
       "      <td>47046.73000000</td>\n",
       "      <td>47214.72000000</td>\n",
       "      <td>330.11524000</td>\n",
       "      <td>1630454999999</td>\n",
       "      <td>8204</td>\n",
       "    </tr>\n",
       "    <tr>\n",
       "      <th>2</th>\n",
       "      <td>1630455000000</td>\n",
       "      <td>47216.34000000</td>\n",
       "      <td>47216.83000000</td>\n",
       "      <td>47000.00000000</td>\n",
       "      <td>47023.09000000</td>\n",
       "      <td>173.72074000</td>\n",
       "      <td>1630455299999</td>\n",
       "      <td>4870</td>\n",
       "    </tr>\n",
       "    <tr>\n",
       "      <th>3</th>\n",
       "      <td>1630455300000</td>\n",
       "      <td>47023.10000000</td>\n",
       "      <td>47136.00000000</td>\n",
       "      <td>47020.00000000</td>\n",
       "      <td>47043.56000000</td>\n",
       "      <td>111.80270000</td>\n",
       "      <td>1630455599999</td>\n",
       "      <td>3604</td>\n",
       "    </tr>\n",
       "    <tr>\n",
       "      <th>4</th>\n",
       "      <td>1630455600000</td>\n",
       "      <td>47043.56000000</td>\n",
       "      <td>47107.76000000</td>\n",
       "      <td>46912.33000000</td>\n",
       "      <td>46930.39000000</td>\n",
       "      <td>158.57686000</td>\n",
       "      <td>1630455899999</td>\n",
       "      <td>3919</td>\n",
       "    </tr>\n",
       "    <tr>\n",
       "      <th>...</th>\n",
       "      <td>...</td>\n",
       "      <td>...</td>\n",
       "      <td>...</td>\n",
       "      <td>...</td>\n",
       "      <td>...</td>\n",
       "      <td>...</td>\n",
       "      <td>...</td>\n",
       "      <td>...</td>\n",
       "    </tr>\n",
       "    <tr>\n",
       "      <th>26180</th>\n",
       "      <td>1638315600000</td>\n",
       "      <td>57073.14000000</td>\n",
       "      <td>57151.63000000</td>\n",
       "      <td>57065.40000000</td>\n",
       "      <td>57121.35000000</td>\n",
       "      <td>51.62138000</td>\n",
       "      <td>1638315899999</td>\n",
       "      <td>2714</td>\n",
       "    </tr>\n",
       "    <tr>\n",
       "      <th>26181</th>\n",
       "      <td>1638315900000</td>\n",
       "      <td>57121.35000000</td>\n",
       "      <td>57155.66000000</td>\n",
       "      <td>56839.74000000</td>\n",
       "      <td>56886.27000000</td>\n",
       "      <td>152.05996000</td>\n",
       "      <td>1638316199999</td>\n",
       "      <td>4387</td>\n",
       "    </tr>\n",
       "    <tr>\n",
       "      <th>26182</th>\n",
       "      <td>1638316200000</td>\n",
       "      <td>56882.14000000</td>\n",
       "      <td>57054.09000000</td>\n",
       "      <td>56762.39000000</td>\n",
       "      <td>57008.36000000</td>\n",
       "      <td>221.71295000</td>\n",
       "      <td>1638316499999</td>\n",
       "      <td>5969</td>\n",
       "    </tr>\n",
       "    <tr>\n",
       "      <th>26183</th>\n",
       "      <td>1638316500000</td>\n",
       "      <td>57008.36000000</td>\n",
       "      <td>57012.79000000</td>\n",
       "      <td>56835.92000000</td>\n",
       "      <td>56950.56000000</td>\n",
       "      <td>84.76522000</td>\n",
       "      <td>1638316799999</td>\n",
       "      <td>2868</td>\n",
       "    </tr>\n",
       "    <tr>\n",
       "      <th>26184</th>\n",
       "      <td>1638316800000</td>\n",
       "      <td>56950.56000000</td>\n",
       "      <td>57011.08000000</td>\n",
       "      <td>56630.00000000</td>\n",
       "      <td>56813.62000000</td>\n",
       "      <td>291.49974000</td>\n",
       "      <td>1638317099999</td>\n",
       "      <td>8145</td>\n",
       "    </tr>\n",
       "  </tbody>\n",
       "</table>\n",
       "<p>26185 rows × 8 columns</p>\n",
       "</div>"
      ],
      "text/plain": [
       "           Open Time            Open            High             Low  \\\n",
       "0      1630454400000  47100.89000000  47103.64000000  46851.00000000   \n",
       "1      1630454700000  47046.73000000  47321.42000000  47046.73000000   \n",
       "2      1630455000000  47216.34000000  47216.83000000  47000.00000000   \n",
       "3      1630455300000  47023.10000000  47136.00000000  47020.00000000   \n",
       "4      1630455600000  47043.56000000  47107.76000000  46912.33000000   \n",
       "...              ...             ...             ...             ...   \n",
       "26180  1638315600000  57073.14000000  57151.63000000  57065.40000000   \n",
       "26181  1638315900000  57121.35000000  57155.66000000  56839.74000000   \n",
       "26182  1638316200000  56882.14000000  57054.09000000  56762.39000000   \n",
       "26183  1638316500000  57008.36000000  57012.79000000  56835.92000000   \n",
       "26184  1638316800000  56950.56000000  57011.08000000  56630.00000000   \n",
       "\n",
       "                Close        Volume     Close Time  Nb of Trade  \n",
       "0      47046.73000000  281.59977000  1630454699999         8200  \n",
       "1      47214.72000000  330.11524000  1630454999999         8204  \n",
       "2      47023.09000000  173.72074000  1630455299999         4870  \n",
       "3      47043.56000000  111.80270000  1630455599999         3604  \n",
       "4      46930.39000000  158.57686000  1630455899999         3919  \n",
       "...               ...           ...            ...          ...  \n",
       "26180  57121.35000000   51.62138000  1638315899999         2714  \n",
       "26181  56886.27000000  152.05996000  1638316199999         4387  \n",
       "26182  57008.36000000  221.71295000  1638316499999         5969  \n",
       "26183  56950.56000000   84.76522000  1638316799999         2868  \n",
       "26184  56813.62000000  291.49974000  1638317099999         8145  \n",
       "\n",
       "[26185 rows x 8 columns]"
      ]
     },
     "execution_count": 4,
     "metadata": {},
     "output_type": "execute_result"
    }
   ],
   "source": [
    "#Data collection: BTCUSDT \n",
    "\n",
    "klines = client.get_historical_klines(\"BTCUSDT\", Client.KLINE_INTERVAL_5MINUTE, \"1 Sep, 2021\", \"1 Dec, 2021\")\n",
    "\n",
    "# for candle in klines:\n",
    "#   print(candle)\n",
    "\n",
    "hist_df = pd.DataFrame(klines)\n",
    "hist_df.columns = (['Open Time', 'Open', 'High', 'Low', 'Close', 'Volume', 'Close Time', 'Quote Asset Volume','Nb of Trade', 'TakerBuyBaseVolume', 'TakerBuyQuoteVolume','Ignored'])\n",
    "# hist_df.drop(labels = ['TakerBuyBaseVolume', 'TakerBuyQuoteVolume', 'Ignored', 'Quote Asset Volume'], inplace = True,axis = 1)\n",
    "# hist_df['Close Time'] = pd.to_datetime(hist_df['Close Time']/1000, unit='s')\n",
    "# hist_df['Open Time'] = pd.to_datetime(hist_df['Open Time']/1000, unit='s')\n",
    "hist_df.drop(['Ignored', 'TakerBuyBaseVolume', 'TakerBuyQuoteVolume', 'Quote Asset Volume'], inplace= True, axis = 1)\n",
    "hist_df.to_csv('5min_BTCUSDT')\n",
    "hist_df"
   ]
  },
  {
   "cell_type": "code",
   "execution_count": 5,
   "metadata": {},
   "outputs": [
    {
     "data": {
      "text/plain": [
       "Open Time        int64\n",
       "Open           float64\n",
       "High           float64\n",
       "Low            float64\n",
       "Close          float64\n",
       "Volume         float64\n",
       "Close Time       int64\n",
       "Nb of Trade      int64\n",
       "dtype: object"
      ]
     },
     "execution_count": 5,
     "metadata": {},
     "output_type": "execute_result"
    }
   ],
   "source": [
    "#Convert all the dataframe into numeric \n",
    "hist_df = hist_df.apply(pd.to_numeric)\n",
    "hist_df\n",
    "\n",
    "#Know the various data types\n",
    "hist_df.dtypes"
   ]
  },
  {
   "cell_type": "code",
   "execution_count": 6,
   "metadata": {},
   "outputs": [
    {
     "data": {
      "text/plain": [
       "(26185, 1)"
      ]
     },
     "execution_count": 6,
     "metadata": {},
     "output_type": "execute_result"
    }
   ],
   "source": [
    "scaler = MinMaxScaler()\n",
    "close_price = hist_df.Close.values.reshape(-1,1)\n",
    "scaled_close = scaler.fit_transform(close_price)\n",
    "\n",
    "scaled_close.shape"
   ]
  },
  {
   "cell_type": "code",
   "execution_count": 7,
   "metadata": {},
   "outputs": [
    {
     "data": {
      "text/plain": [
       "False"
      ]
     },
     "execution_count": 7,
     "metadata": {},
     "output_type": "execute_result"
    }
   ],
   "source": [
    "#Checking if any shitty NaN values\n",
    "np.isnan(scaled_close).any()"
   ]
  },
  {
   "cell_type": "code",
   "execution_count": 8,
   "metadata": {},
   "outputs": [],
   "source": [
    "scaled_close = scaled_close[~np.isnan(scaled_close)]\n",
    "scaled_close = scaled_close.reshape(-1,1)"
   ]
  },
  {
   "cell_type": "code",
   "execution_count": 9,
   "metadata": {},
   "outputs": [
    {
     "data": {
      "text/plain": [
       "False"
      ]
     },
     "execution_count": 9,
     "metadata": {},
     "output_type": "execute_result"
    }
   ],
   "source": [
    "np.isnan(scaled_close).any()"
   ]
  },
  {
   "cell_type": "markdown",
   "metadata": {},
   "source": [
    "Preprocessing our scaled data"
   ]
  },
  {
   "cell_type": "code",
   "execution_count": 10,
   "metadata": {},
   "outputs": [],
   "source": [
    "SEQ_LEN = 100\n",
    "\n",
    "def sequentization(data, seq_len):\n",
    "    d = []\n",
    "    \n",
    "    for index in range(len(data) - seq_len):\n",
    "        d.append(data[index: index + seq_len])\n",
    "    return np.array(d)\n",
    "\n",
    "def preprocessing(data_raw, seq_len, train_split):\n",
    "    data = sequentization(data_raw, seq_len)\n",
    "    num_train = int(train_split * data.shape[0])\n",
    "\n",
    "    x_train = data[:num_train, :-1, :]\n",
    "    y_train = data[:num_train, -1, :]\n",
    "    x_test = data[num_train:, :-1, :]\n",
    "    y_test = data[num_train:, -1, :]\n",
    "\n",
    "    return x_train, y_train, x_test, y_test\n",
    "x_train, y_train, x_test, y_test = preprocessing(scaled_close, SEQ_LEN, train_split = 0.95)"
   ]
  },
  {
   "cell_type": "code",
   "execution_count": 11,
   "metadata": {},
   "outputs": [
    {
     "data": {
      "text/plain": [
       "((24780, 99, 1), (24780, 1), (1305, 99, 1), (1305, 1))"
      ]
     },
     "execution_count": 11,
     "metadata": {},
     "output_type": "execute_result"
    }
   ],
   "source": [
    "#Verify shapes of training & testing sets\n",
    "x_train.shape, y_train.shape, x_test.shape, y_test.shape"
   ]
  },
  {
   "cell_type": "markdown",
   "metadata": {},
   "source": [
    "LSTM MODEL"
   ]
  },
  {
   "cell_type": "code",
   "execution_count": 12,
   "metadata": {},
   "outputs": [],
   "source": [
    "DROPOUT = 0.2\n",
    "WINDOW_SIZE = SEQ_LEN - 1\n",
    "\n",
    "model = keras.Sequential()\n",
    "model.add(Bidirectional(LSTM(WINDOW_SIZE, return_sequences = True), \n",
    "                        input_shape = (WINDOW_SIZE, x_train.shape[-1])))\n",
    "model.add(Dropout(rate = DROPOUT))\n",
    "\n",
    "model.add(Bidirectional(LSTM((WINDOW_SIZE * 2), return_sequences = True)))\n",
    "model.add(Dropout(rate = DROPOUT))\n",
    "\n",
    "model.add(Bidirectional(LSTM(WINDOW_SIZE, return_sequences = False)))\n",
    "model.add(Dense(units=1))\n",
    "model.add(Activation('linear'))\n"
   ]
  },
  {
   "cell_type": "markdown",
   "metadata": {},
   "source": [
    "Compiling the 5Minute Model"
   ]
  },
  {
   "cell_type": "code",
   "execution_count": 13,
   "metadata": {},
   "outputs": [],
   "source": [
    "model.compile(\n",
    "    loss = \"mean_squared_error\",\n",
    "    optimizer = \"adam\"\n",
    ")"
   ]
  },
  {
   "cell_type": "code",
   "execution_count": 15,
   "metadata": {},
   "outputs": [
    {
     "name": "stdout",
     "output_type": "stream",
     "text": [
      "Epoch 1/10\n",
      "349/349 [==============================] - 752s 2s/step - loss: 0.0020 - val_loss: 0.0042\n",
      "Epoch 2/10\n",
      "349/349 [==============================] - 721s 2s/step - loss: 0.0031 - val_loss: 0.0018\n",
      "Epoch 3/10\n",
      "349/349 [==============================] - 751s 2s/step - loss: 0.0033 - val_loss: 0.0017\n",
      "Epoch 4/10\n",
      "349/349 [==============================] - 753s 2s/step - loss: 0.0050 - val_loss: 0.0026\n",
      "Epoch 5/10\n",
      "349/349 [==============================] - 749s 2s/step - loss: 0.0063 - val_loss: 0.0115\n",
      "Epoch 6/10\n",
      "349/349 [==============================] - 751s 2s/step - loss: 0.0077 - val_loss: 0.0213\n",
      "Epoch 7/10\n",
      "349/349 [==============================] - 742s 2s/step - loss: 0.0086 - val_loss: 0.0209\n",
      "Epoch 8/10\n",
      "349/349 [==============================] - 743s 2s/step - loss: 0.0079 - val_loss: 0.0223\n",
      "Epoch 9/10\n",
      "349/349 [==============================] - 743s 2s/step - loss: 0.0065 - val_loss: 0.0229\n",
      "Epoch 10/10\n",
      "349/349 [==============================] - 752s 2s/step - loss: 0.0077 - val_loss: 0.0179\n"
     ]
    }
   ],
   "source": [
    "BATCH_SIZE = 64\n",
    "history = model.fit(\n",
    "    x_train,\n",
    "    y_train,\n",
    "    epochs = 10,\n",
    "    batch_size = BATCH_SIZE,\n",
    "    shuffle = False,\n",
    "    validation_split = 0.1\n",
    ")"
   ]
  },
  {
   "cell_type": "code",
   "execution_count": null,
   "metadata": {},
   "outputs": [],
   "source": []
  }
 ],
 "metadata": {
  "interpreter": {
   "hash": "3bff544f8a8073c4167e9b2cc33d981654572eb557f5e5f174774942b3a02b19"
  },
  "kernelspec": {
   "display_name": "Python 3.8.5 64-bit",
   "language": "python",
   "name": "python3"
  },
  "language_info": {
   "codemirror_mode": {
    "name": "ipython",
    "version": 3
   },
   "file_extension": ".py",
   "mimetype": "text/x-python",
   "name": "python",
   "nbconvert_exporter": "python",
   "pygments_lexer": "ipython3",
   "version": "3.8.5"
  },
  "orig_nbformat": 4
 },
 "nbformat": 4,
 "nbformat_minor": 2
}
