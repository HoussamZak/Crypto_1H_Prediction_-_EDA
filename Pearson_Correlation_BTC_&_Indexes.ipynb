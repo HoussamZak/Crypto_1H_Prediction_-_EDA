{
 "cells": [
  {
   "cell_type": "markdown",
   "metadata": {},
   "source": [
    "Exploratory Data Analysis:\n",
    "Exploring potential correlations between BTC price and financial market indexes such as:\n",
    "\n",
    "DXY : which is a measure of the American Dollar strength in comparison to a basket of the strongest currencies in the world\n",
    "    on yahoo finance DXY the ticker is 'DX-Y.NYB'\n",
    "S&P 500, on yahoo finance the ticker is GSPC\n",
    "Nasdaq, on yahoo finance the ticker is IXIC\n",
    "DowJones, on yahoo finance the ticker is DJI \n",
    "Nikkei, on yahoo finance the ticker is N225\n",
    "\n",
    "The indexes data will be fetched from yahoo finance.\n",
    "\n",
    "We will rely on the Pearson correlation matrix for this part of our project.\n",
    "If any strong correlation is revealed we will attempt to use the findings in our prediction bot."
   ]
  },
  {
   "cell_type": "code",
   "execution_count": null,
   "metadata": {},
   "outputs": [],
   "source": []
  }
 ],
 "metadata": {
  "language_info": {
   "name": "python"
  },
  "orig_nbformat": 4
 },
 "nbformat": 4,
 "nbformat_minor": 2
}
