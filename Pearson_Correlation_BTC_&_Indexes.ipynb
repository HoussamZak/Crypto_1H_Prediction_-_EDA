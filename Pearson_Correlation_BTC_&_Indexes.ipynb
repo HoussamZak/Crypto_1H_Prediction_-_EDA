{
 "cells": [
  {
   "cell_type": "markdown",
   "metadata": {},
   "source": [
    "Exploratory Data Analysis:\n",
    "Exploring potential correlations between BTC price and financial market indexes such as:\n",
    "\n",
    "DXY : which is a measure of the American Dollar strength in comparison to a basket of the strongest currencies in the world\n",
    "    on yahoo finance DXY the ticker is 'DX-Y.NYB'\n",
    "S&P 500, on yahoo finance the ticker is GSPC\n",
    "Nasdaq, on yahoo finance the ticker is IXIC\n",
    "DowJones, on yahoo finance the ticker is DJI \n",
    "Nikkei, on yahoo finance the ticker is N225\n",
    "\n",
    "The indexes data will be fetched from yahoo finance.\n",
    "\n",
    "We will rely on the Pearson correlation matrix for this part of our project.\n",
    "If any strong correlation is revealed we will attempt to use the findings in our prediction bot."
   ]
  },
  {
   "cell_type": "code",
   "execution_count": 4,
   "metadata": {},
   "outputs": [
    {
     "name": "stderr",
     "output_type": "stream",
     "text": [
      "Exception in thread Thread-8:\n",
      "Traceback (most recent call last):\n",
      "  File \"C:\\Users\\Fluffy\\AppData\\Local\\Programs\\PythonCodingPack\\lib\\threading.py\", line 932, in _bootstrap_inner\n",
      "    self.run()\n",
      "  File \"C:\\Users\\Fluffy\\AppData\\Local\\Programs\\PythonCodingPack\\lib\\threading.py\", line 870, in run\n",
      "    self._target(*self._args, **self._kwargs)\n",
      "  File \"C:\\Users\\Fluffy\\AppData\\Local\\Programs\\PythonCodingPack\\lib\\site-packages\\multitasking\\__init__.py\", line 102, in _run_via_pool\n",
      "    return callee(*args, **kwargs)\n",
      "  File \"C:\\Users\\Fluffy\\AppData\\Local\\Programs\\PythonCodingPack\\lib\\site-packages\\yfinance\\multi.py\", line 169, in _download_one_threaded\n",
      "    data = _download_one(ticker, start, end, auto_adjust, back_adjust,\n",
      "  File \"C:\\Users\\Fluffy\\AppData\\Local\\Programs\\PythonCodingPack\\lib\\site-packages\\yfinance\\multi.py\", line 181, in _download_one\n",
      "    return Ticker(ticker).history(period=period, interval=interval,\n",
      "  File \"C:\\Users\\Fluffy\\AppData\\Local\\Programs\\PythonCodingPack\\lib\\site-packages\\yfinance\\base.py\", line 123, in history\n",
      "    _time.strptime(str(start), '%Y-%m-%d')))\n",
      "  File \"C:\\Users\\Fluffy\\AppData\\Local\\Programs\\PythonCodingPack\\lib\\_strptime.py\", line 562, in _strptime_time\n",
      "    tt = _strptime(data_string, format)[0]\n",
      "  File \"C:\\Users\\Fluffy\\AppData\\Local\\Programs\\PythonCodingPack\\lib\\_strptime.py\", line 349, in _strptime\n",
      "    raise ValueError(\"time data %r does not match format %r\" %\n",
      "ValueError: time data \"('2021-06-01',)\" does not match format '%Y-%m-%d'\n"
     ]
    },
    {
     "ename": "KeyboardInterrupt",
     "evalue": "",
     "output_type": "error",
     "traceback": [
      "\u001b[1;31m---------------------------------------------------------------------------\u001b[0m",
      "\u001b[1;31mKeyboardInterrupt\u001b[0m                         Traceback (most recent call last)",
      "\u001b[1;32m~\\AppData\\Local\\Temp/ipykernel_14172/1107103013.py\u001b[0m in \u001b[0;36m<module>\u001b[1;34m\u001b[0m\n\u001b[0;32m     12\u001b[0m \u001b[1;33m\u001b[0m\u001b[0m\n\u001b[0;32m     13\u001b[0m \u001b[1;32mfor\u001b[0m \u001b[0mindex\u001b[0m \u001b[1;32min\u001b[0m \u001b[0mindex_list\u001b[0m\u001b[1;33m:\u001b[0m\u001b[1;33m\u001b[0m\u001b[1;33m\u001b[0m\u001b[0m\n\u001b[1;32m---> 14\u001b[1;33m     index_data[index] = yf.download(index,\n\u001b[0m\u001b[0;32m     15\u001b[0m                                     \u001b[0mstart_date\u001b[0m\u001b[1;33m,\u001b[0m\u001b[1;33m\u001b[0m\u001b[1;33m\u001b[0m\u001b[0m\n\u001b[0;32m     16\u001b[0m                                     end_date)['Adj Close']\n",
      "\u001b[1;32m~\\AppData\\Local\\Programs\\PythonCodingPack\\lib\\site-packages\\yfinance\\multi.py\u001b[0m in \u001b[0;36mdownload\u001b[1;34m(tickers, start, end, actions, threads, group_by, auto_adjust, back_adjust, progress, period, show_errors, interval, prepost, proxy, rounding, **kwargs)\u001b[0m\n\u001b[0;32m     95\u001b[0m                                    rounding=rounding)\n\u001b[0;32m     96\u001b[0m         \u001b[1;32mwhile\u001b[0m \u001b[0mlen\u001b[0m\u001b[1;33m(\u001b[0m\u001b[0mshared\u001b[0m\u001b[1;33m.\u001b[0m\u001b[0m_DFS\u001b[0m\u001b[1;33m)\u001b[0m \u001b[1;33m<\u001b[0m \u001b[0mlen\u001b[0m\u001b[1;33m(\u001b[0m\u001b[0mtickers\u001b[0m\u001b[1;33m)\u001b[0m\u001b[1;33m:\u001b[0m\u001b[1;33m\u001b[0m\u001b[1;33m\u001b[0m\u001b[0m\n\u001b[1;32m---> 97\u001b[1;33m             \u001b[0m_time\u001b[0m\u001b[1;33m.\u001b[0m\u001b[0msleep\u001b[0m\u001b[1;33m(\u001b[0m\u001b[1;36m0.01\u001b[0m\u001b[1;33m)\u001b[0m\u001b[1;33m\u001b[0m\u001b[1;33m\u001b[0m\u001b[0m\n\u001b[0m\u001b[0;32m     98\u001b[0m \u001b[1;33m\u001b[0m\u001b[0m\n\u001b[0;32m     99\u001b[0m     \u001b[1;31m# download synchronously\u001b[0m\u001b[1;33m\u001b[0m\u001b[1;33m\u001b[0m\u001b[1;33m\u001b[0m\u001b[0m\n",
      "\u001b[1;31mKeyboardInterrupt\u001b[0m: "
     ]
    }
   ],
   "source": [
    "#Importing Packages for index data fetching\n",
    "import yfinance as yf\n",
    "import pandas as pd\n",
    "\n",
    "# DXY, S&P 500 , NIKKEI & DOW JONES DATA COLLECTION FROM YAHOO FINANCE\n",
    "\n",
    "index_list = ['DX-Y.NYB'] # add those if DX-Y.NYB works ['GSPC', 'IXIC','DJI','N225']\n",
    "start_date = '2021-06-01', \n",
    "end_date = '2021-11-01'\n",
    "\n",
    "index_data = pd.DataFrame(columns = index_list)\n",
    "\n",
    "for index in index_list:\n",
    "    index_data[index] = yf.download(index,\n",
    "                                    start_date,\n",
    "                                    end_date)['Adj Close']\n",
    "index_data.head()"
   ]
  }
 ],
 "metadata": {
  "interpreter": {
   "hash": "3bff544f8a8073c4167e9b2cc33d981654572eb557f5e5f174774942b3a02b19"
  },
  "kernelspec": {
   "display_name": "Python 3.8.5 64-bit",
   "language": "python",
   "name": "python3"
  },
  "language_info": {
   "codemirror_mode": {
    "name": "ipython",
    "version": 3
   },
   "file_extension": ".py",
   "mimetype": "text/x-python",
   "name": "python",
   "nbconvert_exporter": "python",
   "pygments_lexer": "ipython3",
   "version": "3.8.5"
  },
  "orig_nbformat": 4
 },
 "nbformat": 4,
 "nbformat_minor": 2
}
