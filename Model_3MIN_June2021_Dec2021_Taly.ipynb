{
  "cells": [
    {
      "cell_type": "code",
      "execution_count": 36,
      "metadata": {
        "id": "HNDtzvYZX7Pg"
      },
      "outputs": [],
      "source": [
        "#import pandas_datareader as webreader # Remote data access for pandas\n",
        "import math # Mathematical functions \n",
        "import numpy as np # Fundamental package for scientific computing with Python\n",
        "import pandas as pd # Additional functions for analysing and manipulating data\n",
        "from datetime import date, timedelta, datetime # Date Functions\n",
        "from pandas.plotting import register_matplotlib_converters # This function adds plotting functions for calender dates\n",
        "import matplotlib.pyplot as plt # Important package for visualization - we use this to plot the market data\n",
        "import matplotlib.dates as mdates # Formatting dates\n",
        "from sklearn.metrics import mean_absolute_error, mean_squared_error # Packages for measuring model performance / errors\n",
        "from keras.models import Sequential # Deep learning library, used for neural networks\n",
        "from keras.layers import LSTM, Dense, Dropout # Deep learning classes for recurrent and regular densely-connected layers\n",
        "from keras.callbacks import EarlyStopping # EarlyStopping during model training\n",
        "from sklearn.preprocessing import RobustScaler, MinMaxScaler # This Scaler removes the median and scales the data according to the quantile range to normalize the price data \n",
        "import seaborn as sns"
      ]
    },
    {
      "cell_type": "code",
      "source": [
        "pip install python-binance"
      ],
      "metadata": {
        "colab": {
          "base_uri": "https://localhost:8080/"
        },
        "id": "2upkEN1YYM-d",
        "outputId": "d237df37-4716-4793-d8f9-09e8f7aaeb4b"
      },
      "execution_count": 37,
      "outputs": [
        {
          "output_type": "stream",
          "name": "stdout",
          "text": [
            "Requirement already satisfied: python-binance in /usr/local/lib/python3.7/dist-packages (1.0.15)\n",
            "Requirement already satisfied: dateparser in /usr/local/lib/python3.7/dist-packages (from python-binance) (1.1.0)\n",
            "Requirement already satisfied: requests in /usr/local/lib/python3.7/dist-packages (from python-binance) (2.23.0)\n",
            "Requirement already satisfied: six in /usr/local/lib/python3.7/dist-packages (from python-binance) (1.15.0)\n",
            "Requirement already satisfied: websockets==9.1 in /usr/local/lib/python3.7/dist-packages (from python-binance) (9.1)\n",
            "Requirement already satisfied: aiohttp in /usr/local/lib/python3.7/dist-packages (from python-binance) (3.8.1)\n",
            "Requirement already satisfied: ujson in /usr/local/lib/python3.7/dist-packages (from python-binance) (4.3.0)\n",
            "Requirement already satisfied: frozenlist>=1.1.1 in /usr/local/lib/python3.7/dist-packages (from aiohttp->python-binance) (1.2.0)\n",
            "Requirement already satisfied: yarl<2.0,>=1.0 in /usr/local/lib/python3.7/dist-packages (from aiohttp->python-binance) (1.7.2)\n",
            "Requirement already satisfied: asynctest==0.13.0 in /usr/local/lib/python3.7/dist-packages (from aiohttp->python-binance) (0.13.0)\n",
            "Requirement already satisfied: async-timeout<5.0,>=4.0.0a3 in /usr/local/lib/python3.7/dist-packages (from aiohttp->python-binance) (4.0.1)\n",
            "Requirement already satisfied: typing-extensions>=3.7.4 in /usr/local/lib/python3.7/dist-packages (from aiohttp->python-binance) (3.10.0.2)\n",
            "Requirement already satisfied: charset-normalizer<3.0,>=2.0 in /usr/local/lib/python3.7/dist-packages (from aiohttp->python-binance) (2.0.8)\n",
            "Requirement already satisfied: aiosignal>=1.1.2 in /usr/local/lib/python3.7/dist-packages (from aiohttp->python-binance) (1.2.0)\n",
            "Requirement already satisfied: attrs>=17.3.0 in /usr/local/lib/python3.7/dist-packages (from aiohttp->python-binance) (21.2.0)\n",
            "Requirement already satisfied: multidict<7.0,>=4.5 in /usr/local/lib/python3.7/dist-packages (from aiohttp->python-binance) (5.2.0)\n",
            "Requirement already satisfied: idna>=2.0 in /usr/local/lib/python3.7/dist-packages (from yarl<2.0,>=1.0->aiohttp->python-binance) (2.10)\n",
            "Requirement already satisfied: regex!=2019.02.19,!=2021.8.27 in /usr/local/lib/python3.7/dist-packages (from dateparser->python-binance) (2019.12.20)\n",
            "Requirement already satisfied: pytz in /usr/local/lib/python3.7/dist-packages (from dateparser->python-binance) (2018.9)\n",
            "Requirement already satisfied: tzlocal in /usr/local/lib/python3.7/dist-packages (from dateparser->python-binance) (1.5.1)\n",
            "Requirement already satisfied: python-dateutil in /usr/local/lib/python3.7/dist-packages (from dateparser->python-binance) (2.8.2)\n",
            "Requirement already satisfied: certifi>=2017.4.17 in /usr/local/lib/python3.7/dist-packages (from requests->python-binance) (2021.10.8)\n",
            "Requirement already satisfied: urllib3!=1.25.0,!=1.25.1,<1.26,>=1.21.1 in /usr/local/lib/python3.7/dist-packages (from requests->python-binance) (1.24.3)\n",
            "Requirement already satisfied: chardet<4,>=3.0.2 in /usr/local/lib/python3.7/dist-packages (from requests->python-binance) (3.0.4)\n"
          ]
        }
      ]
    },
    {
      "cell_type": "code",
      "execution_count": 38,
      "metadata": {
        "id": "v3mj3tYwX7QH"
      },
      "outputs": [],
      "source": [
        "from datetime import datetime\n",
        "from pandas_datareader.data import DataReader"
      ]
    },
    {
      "cell_type": "code",
      "execution_count": 39,
      "metadata": {
        "id": "lSs5MuQtX7QL"
      },
      "outputs": [],
      "source": [
        "# Data retrieval for cryptocurrencies BTCUSDT ETHUSDT XMRUSDT \n",
        "# Binance API credentials \n",
        "apikey = '2ZaEiNukiFtPHqnYdCGMANNimHdcCF0nvv4L9eYXMIdr4ovveQrca4NWKsZ7DxAy'\n",
        "secretkey = '9zjousoyG0t2wblcGkm0tVGLBfz6Woo3paakGh49Vhj0IxrGGXl332b1KQaxlJKY'\n",
        "\n",
        "from binance import Client, ThreadedWebsocketManager, ThreadedDepthCacheManager\n",
        "#API Initialization \n",
        "client = Client(apikey, secretkey)"
      ]
    },
    {
      "cell_type": "code",
      "execution_count": 40,
      "metadata": {
        "colab": {
          "base_uri": "https://localhost:8080/",
          "height": 424
        },
        "id": "squpnHF3X7QN",
        "outputId": "354ec409-0a8e-4c19-c45a-4362e6b07353"
      },
      "outputs": [
        {
          "output_type": "execute_result",
          "data": {
            "text/html": [
              "<div>\n",
              "<style scoped>\n",
              "    .dataframe tbody tr th:only-of-type {\n",
              "        vertical-align: middle;\n",
              "    }\n",
              "\n",
              "    .dataframe tbody tr th {\n",
              "        vertical-align: top;\n",
              "    }\n",
              "\n",
              "    .dataframe thead th {\n",
              "        text-align: right;\n",
              "    }\n",
              "</style>\n",
              "<table border=\"1\" class=\"dataframe\">\n",
              "  <thead>\n",
              "    <tr style=\"text-align: right;\">\n",
              "      <th></th>\n",
              "      <th>index</th>\n",
              "      <th>Open Time</th>\n",
              "      <th>Open</th>\n",
              "      <th>High</th>\n",
              "      <th>Low</th>\n",
              "      <th>Close</th>\n",
              "      <th>Volume</th>\n",
              "      <th>Close Time</th>\n",
              "      <th>Nb of Trade</th>\n",
              "    </tr>\n",
              "  </thead>\n",
              "  <tbody>\n",
              "    <tr>\n",
              "      <th>1622505600000</th>\n",
              "      <td>0</td>\n",
              "      <td>1622505600000</td>\n",
              "      <td>37253.82000000</td>\n",
              "      <td>37456.17000000</td>\n",
              "      <td>37100.00000000</td>\n",
              "      <td>37451.49000000</td>\n",
              "      <td>337.16321300</td>\n",
              "      <td>1622505779999</td>\n",
              "      <td>8759</td>\n",
              "    </tr>\n",
              "    <tr>\n",
              "      <th>1622505780000</th>\n",
              "      <td>1</td>\n",
              "      <td>1622505780000</td>\n",
              "      <td>37451.48000000</td>\n",
              "      <td>37665.56000000</td>\n",
              "      <td>37424.07000000</td>\n",
              "      <td>37624.56000000</td>\n",
              "      <td>1007.53698600</td>\n",
              "      <td>1622505959999</td>\n",
              "      <td>16211</td>\n",
              "    </tr>\n",
              "    <tr>\n",
              "      <th>1622505960000</th>\n",
              "      <td>2</td>\n",
              "      <td>1622505960000</td>\n",
              "      <td>37624.56000000</td>\n",
              "      <td>37631.62000000</td>\n",
              "      <td>37502.59000000</td>\n",
              "      <td>37595.74000000</td>\n",
              "      <td>184.45904200</td>\n",
              "      <td>1622506139999</td>\n",
              "      <td>6391</td>\n",
              "    </tr>\n",
              "    <tr>\n",
              "      <th>1622506140000</th>\n",
              "      <td>3</td>\n",
              "      <td>1622506140000</td>\n",
              "      <td>37595.74000000</td>\n",
              "      <td>37649.04000000</td>\n",
              "      <td>37528.74000000</td>\n",
              "      <td>37591.40000000</td>\n",
              "      <td>175.46544300</td>\n",
              "      <td>1622506319999</td>\n",
              "      <td>5286</td>\n",
              "    </tr>\n",
              "    <tr>\n",
              "      <th>1622506320000</th>\n",
              "      <td>4</td>\n",
              "      <td>1622506320000</td>\n",
              "      <td>37586.55000000</td>\n",
              "      <td>37590.00000000</td>\n",
              "      <td>37520.01000000</td>\n",
              "      <td>37531.12000000</td>\n",
              "      <td>172.63326900</td>\n",
              "      <td>1622506499999</td>\n",
              "      <td>4728</td>\n",
              "    </tr>\n",
              "    <tr>\n",
              "      <th>...</th>\n",
              "      <td>...</td>\n",
              "      <td>...</td>\n",
              "      <td>...</td>\n",
              "      <td>...</td>\n",
              "      <td>...</td>\n",
              "      <td>...</td>\n",
              "      <td>...</td>\n",
              "      <td>...</td>\n",
              "      <td>...</td>\n",
              "    </tr>\n",
              "    <tr>\n",
              "      <th>1638316080000</th>\n",
              "      <td>87706</td>\n",
              "      <td>1638316080000</td>\n",
              "      <td>56963.07000000</td>\n",
              "      <td>56989.16000000</td>\n",
              "      <td>56839.74000000</td>\n",
              "      <td>56843.19000000</td>\n",
              "      <td>121.60075000</td>\n",
              "      <td>1638316259999</td>\n",
              "      <td>3237</td>\n",
              "    </tr>\n",
              "    <tr>\n",
              "      <th>1638316260000</th>\n",
              "      <td>87707</td>\n",
              "      <td>1638316260000</td>\n",
              "      <td>56850.01000000</td>\n",
              "      <td>57053.90000000</td>\n",
              "      <td>56762.39000000</td>\n",
              "      <td>57046.04000000</td>\n",
              "      <td>171.24335000</td>\n",
              "      <td>1638316439999</td>\n",
              "      <td>4405</td>\n",
              "    </tr>\n",
              "    <tr>\n",
              "      <th>1638316440000</th>\n",
              "      <td>87708</td>\n",
              "      <td>1638316440000</td>\n",
              "      <td>57046.05000000</td>\n",
              "      <td>57054.09000000</td>\n",
              "      <td>56967.15000000</td>\n",
              "      <td>57000.01000000</td>\n",
              "      <td>57.74293000</td>\n",
              "      <td>1638316619999</td>\n",
              "      <td>1645</td>\n",
              "    </tr>\n",
              "    <tr>\n",
              "      <th>1638316620000</th>\n",
              "      <td>87709</td>\n",
              "      <td>1638316620000</td>\n",
              "      <td>57000.01000000</td>\n",
              "      <td>57012.20000000</td>\n",
              "      <td>56835.92000000</td>\n",
              "      <td>56950.56000000</td>\n",
              "      <td>55.53555000</td>\n",
              "      <td>1638316799999</td>\n",
              "      <td>1864</td>\n",
              "    </tr>\n",
              "    <tr>\n",
              "      <th>1638316800000</th>\n",
              "      <td>87710</td>\n",
              "      <td>1638316800000</td>\n",
              "      <td>56950.56000000</td>\n",
              "      <td>57011.08000000</td>\n",
              "      <td>56650.00000000</td>\n",
              "      <td>56667.73000000</td>\n",
              "      <td>218.73433000</td>\n",
              "      <td>1638316979999</td>\n",
              "      <td>5330</td>\n",
              "    </tr>\n",
              "  </tbody>\n",
              "</table>\n",
              "<p>87711 rows × 9 columns</p>\n",
              "</div>"
            ],
            "text/plain": [
              "               index      Open Time  ...     Close Time Nb of Trade\n",
              "1622505600000      0  1622505600000  ...  1622505779999        8759\n",
              "1622505780000      1  1622505780000  ...  1622505959999       16211\n",
              "1622505960000      2  1622505960000  ...  1622506139999        6391\n",
              "1622506140000      3  1622506140000  ...  1622506319999        5286\n",
              "1622506320000      4  1622506320000  ...  1622506499999        4728\n",
              "...              ...            ...  ...            ...         ...\n",
              "1638316080000  87706  1638316080000  ...  1638316259999        3237\n",
              "1638316260000  87707  1638316260000  ...  1638316439999        4405\n",
              "1638316440000  87708  1638316440000  ...  1638316619999        1645\n",
              "1638316620000  87709  1638316620000  ...  1638316799999        1864\n",
              "1638316800000  87710  1638316800000  ...  1638316979999        5330\n",
              "\n",
              "[87711 rows x 9 columns]"
            ]
          },
          "metadata": {},
          "execution_count": 40
        }
      ],
      "source": [
        "#Data collection: BTCUSDT \n",
        "#The idea is to focus on smaller time frames, specifically since the last crypto crash, mid-May 2021, to eliminate this skewing event\n",
        "\n",
        "klines = client.get_historical_klines(\"BTCUSDT\", Client.KLINE_INTERVAL_3MINUTE, \"1 Jun, 2021\", \"1 Dec, 2021\")\n",
        "\n",
        "# for candle in klines:\n",
        "#   print(candle)\n",
        "\n",
        "hist_df = pd.DataFrame(klines)\n",
        "hist_df.columns = (['Open Time', 'Open', 'High', 'Low', 'Close', 'Volume', 'Close Time', 'Quote Asset Volume','Nb of Trade', 'TakerBuyBaseVolume', 'TakerBuyQuoteVolume','Ignored'])\n",
        "# hist_df.drop(labels = ['TakerBuyBaseVolume', 'TakerBuyQuoteVolume', 'Ignored', 'Quote Asset Volume'], inplace = True,axis = 1)\n",
        "# hist_df['Close Time'] = pd.to_datetime(hist_df['Close Time']/1000, unit='s')\n",
        "# hist_df['Open Time'] = pd.to_datetime(hist_df['Open Time']/1000, unit='s')\n",
        "hist_df.drop(['Ignored', 'TakerBuyBaseVolume', 'TakerBuyQuoteVolume', 'Quote Asset Volume'], inplace= True, axis = 1)\n",
        "# hist_df['Open Time'] = hist_df.index\n",
        "\n",
        "hist_df = hist_df.reset_index().set_index('Open Time', drop=False)\n",
        "hist_df.index.name = None\n",
        "df = hist_df\n",
        "\n",
        "df.to_csv('BTCUSDT_3MIN_Jun2021_DEC2021')\n",
        "df"
      ]
    },
    {
      "cell_type": "code",
      "execution_count": 41,
      "metadata": {
        "colab": {
          "base_uri": "https://localhost:8080/",
          "height": 206
        },
        "id": "At157IqIX7QT",
        "outputId": "7f16e089-03e6-434b-c2e4-4c2a827e79e9"
      },
      "outputs": [
        {
          "output_type": "execute_result",
          "data": {
            "text/html": [
              "<div>\n",
              "<style scoped>\n",
              "    .dataframe tbody tr th:only-of-type {\n",
              "        vertical-align: middle;\n",
              "    }\n",
              "\n",
              "    .dataframe tbody tr th {\n",
              "        vertical-align: top;\n",
              "    }\n",
              "\n",
              "    .dataframe thead th {\n",
              "        text-align: right;\n",
              "    }\n",
              "</style>\n",
              "<table border=\"1\" class=\"dataframe\">\n",
              "  <thead>\n",
              "    <tr style=\"text-align: right;\">\n",
              "      <th></th>\n",
              "      <th>Open Time</th>\n",
              "      <th>Open</th>\n",
              "      <th>High</th>\n",
              "      <th>Low</th>\n",
              "      <th>Close</th>\n",
              "      <th>Volume</th>\n",
              "      <th>Close Time</th>\n",
              "      <th>Nb of Trade</th>\n",
              "    </tr>\n",
              "  </thead>\n",
              "  <tbody>\n",
              "    <tr>\n",
              "      <th>87706</th>\n",
              "      <td>1638316080000</td>\n",
              "      <td>56963.07000000</td>\n",
              "      <td>56989.16000000</td>\n",
              "      <td>56839.74000000</td>\n",
              "      <td>56843.19000000</td>\n",
              "      <td>121.60075000</td>\n",
              "      <td>1638316259999</td>\n",
              "      <td>3237</td>\n",
              "    </tr>\n",
              "    <tr>\n",
              "      <th>87707</th>\n",
              "      <td>1638316260000</td>\n",
              "      <td>56850.01000000</td>\n",
              "      <td>57053.90000000</td>\n",
              "      <td>56762.39000000</td>\n",
              "      <td>57046.04000000</td>\n",
              "      <td>171.24335000</td>\n",
              "      <td>1638316439999</td>\n",
              "      <td>4405</td>\n",
              "    </tr>\n",
              "    <tr>\n",
              "      <th>87708</th>\n",
              "      <td>1638316440000</td>\n",
              "      <td>57046.05000000</td>\n",
              "      <td>57054.09000000</td>\n",
              "      <td>56967.15000000</td>\n",
              "      <td>57000.01000000</td>\n",
              "      <td>57.74293000</td>\n",
              "      <td>1638316619999</td>\n",
              "      <td>1645</td>\n",
              "    </tr>\n",
              "    <tr>\n",
              "      <th>87709</th>\n",
              "      <td>1638316620000</td>\n",
              "      <td>57000.01000000</td>\n",
              "      <td>57012.20000000</td>\n",
              "      <td>56835.92000000</td>\n",
              "      <td>56950.56000000</td>\n",
              "      <td>55.53555000</td>\n",
              "      <td>1638316799999</td>\n",
              "      <td>1864</td>\n",
              "    </tr>\n",
              "    <tr>\n",
              "      <th>87710</th>\n",
              "      <td>1638316800000</td>\n",
              "      <td>56950.56000000</td>\n",
              "      <td>57011.08000000</td>\n",
              "      <td>56650.00000000</td>\n",
              "      <td>56667.73000000</td>\n",
              "      <td>218.73433000</td>\n",
              "      <td>1638316979999</td>\n",
              "      <td>5330</td>\n",
              "    </tr>\n",
              "  </tbody>\n",
              "</table>\n",
              "</div>"
            ],
            "text/plain": [
              "           Open Time            Open  ...     Close Time Nb of Trade\n",
              "87706  1638316080000  56963.07000000  ...  1638316259999        3237\n",
              "87707  1638316260000  56850.01000000  ...  1638316439999        4405\n",
              "87708  1638316440000  57046.05000000  ...  1638316619999        1645\n",
              "87709  1638316620000  57000.01000000  ...  1638316799999        1864\n",
              "87710  1638316800000  56950.56000000  ...  1638316979999        5330\n",
              "\n",
              "[5 rows x 8 columns]"
            ]
          },
          "metadata": {},
          "execution_count": 41
        }
      ],
      "source": [
        "# Indexing Batches\n",
        "df_train = df.sort_values(by=['Open Time']).copy()\n",
        "\n",
        "# Saving a copy of the dates index, before we need to reset it to numbers\n",
        "date_index = df_train.index\n",
        "\n",
        "# We reset the index, so we can convert the date-index to a number-index\n",
        "df_train = df_train.reset_index(drop=True).copy()\n",
        "df_train.drop(columns=['index'], inplace=True, axis = 1)\n",
        "df_train.tail(5)"
      ]
    },
    {
      "cell_type": "code",
      "execution_count": 42,
      "metadata": {
        "colab": {
          "base_uri": "https://localhost:8080/"
        },
        "id": "9lpTTQiRX7QX",
        "outputId": "6a2a5aa5-445e-4694-98ad-0a6cb97e8ff9"
      },
      "outputs": [
        {
          "output_type": "stream",
          "name": "stdout",
          "text": [
            "FEATURE LIST\n",
            "['Open', 'High', 'Low', 'Close', 'Volume']\n",
            "(87711, 5)\n"
          ]
        }
      ],
      "source": [
        "def prepare_data(df):\n",
        "\n",
        "    # List of considered Features\n",
        "    FEATURES = ['Open', 'High', 'Low', 'Close', 'Volume']\n",
        "\n",
        "    print('FEATURE LIST')\n",
        "    print([f for f in FEATURES])\n",
        "\n",
        "    # Create the dataset with features and filter the data to the list of FEATURES\n",
        "    df_filter = df[FEATURES]\n",
        "    \n",
        "    # Convert the data to numpy values\n",
        "    np_filter_unscaled = np.array(df_filter)\n",
        "    #np_filter_unscaled = np.reshape(np_unscaled, (df_filter.shape[0], -1))\n",
        "    print(np_filter_unscaled.shape)\n",
        "\n",
        "    np_c_unscaled = np.array(df['Close']).reshape(-1, 1)\n",
        "    \n",
        "    return np_filter_unscaled, np_c_unscaled\n",
        "    \n",
        "np_filter_unscaled, np_c_unscaled = prepare_data(df_train)\n",
        "                                          \n",
        "# Creating a separate scaler that works on a single column for scaling predictions\n",
        "# Scale each feature to a range between 0 and 1\n",
        "scaler_train = MinMaxScaler()\n",
        "np_scaled = scaler_train.fit_transform(np_filter_unscaled)\n",
        "    \n",
        "# Create a separate scaler for a single column\n",
        "scaler_pred = MinMaxScaler()\n",
        "np_scaled_c = scaler_pred.fit_transform(np_c_unscaled)   "
      ]
    },
    {
      "cell_type": "code",
      "execution_count": 43,
      "metadata": {
        "colab": {
          "base_uri": "https://localhost:8080/",
          "height": 480
        },
        "id": "L8W_u897X7Qd",
        "outputId": "86da48fc-1616-4e4e-e9b6-cfb5019422c5"
      },
      "outputs": [
        {
          "output_type": "stream",
          "name": "stdout",
          "text": [
            "(70109, 50, 5) (70109, 10)\n",
            "(17532, 50, 5) (17532, 10)\n"
          ]
        },
        {
          "output_type": "execute_result",
          "data": {
            "text/plain": [
              "<function matplotlib.pyplot.show>"
            ]
          },
          "metadata": {},
          "execution_count": 43
        },
        {
          "output_type": "display_data",
          "data": {
            "image/png": "[encoded data removed]",
            "text/plain": [
              "<Figure size 1008x504 with 3 Axes>"
            ]
          },
          "metadata": {
            "needs_background": "light"
          }
        }
      ],
      "source": [
        "# Set the input_sequence_length length - this is the timeframe used to make a single prediction\n",
        "input_sequence_length = 50\n",
        "# The output sequence length is the number of steps that the neural network predicts\n",
        "output_sequence_length = 10 #\n",
        "\n",
        "# Prediction Index\n",
        "index_Close = df_train.columns.get_loc(\"Close\")\n",
        "\n",
        "# Split the training data into train and train data sets\n",
        "# As a first step, we get the number of rows to train the model on 80% of the data \n",
        "train_data_length = math.ceil(np_scaled.shape[0] * 0.8)\n",
        "\n",
        "# Create the training and test data\n",
        "train_data = np_scaled[0:train_data_length, :]\n",
        "test_data = np_scaled[train_data_length - input_sequence_length:, :]\n",
        "\n",
        "# The RNN needs data with the format of [samples, time steps, features]\n",
        "# Here, we create N samples, input_sequence_length time steps per sample, and f features\n",
        "def partition_dataset(input_sequence_length, output_sequence_length, data):\n",
        "    x, y = [], []\n",
        "    data_len = data.shape[0]\n",
        "    for i in range(input_sequence_length, data_len - output_sequence_length):\n",
        "        x.append(data[i-input_sequence_length:i,:]) #contains input_sequence_length values 0-input_sequence_length * columns\n",
        "        y.append(data[i:i + output_sequence_length, index_Close]) #contains the prediction values for validation (3rd column = Close),  for single-step prediction\n",
        "    \n",
        "    # Convert the x and y to numpy arrays\n",
        "    x = np.array(x)\n",
        "    y = np.array(y)\n",
        "    return x, y\n",
        "\n",
        "# Generate training data and test data\n",
        "x_train, y_train = partition_dataset(input_sequence_length, output_sequence_length, train_data)\n",
        "x_test, y_test = partition_dataset(input_sequence_length, output_sequence_length, test_data)\n",
        "\n",
        "# Print the shapes: the result is: (rows, training_sequence, features) (prediction value, )\n",
        "print(x_train.shape, y_train.shape)\n",
        "print(x_test.shape, y_test.shape)\n",
        "\n",
        "# Validate that the prediction value and the input match up\n",
        "# The last close price of the second input sample should equal the first prediction value\n",
        "nrows = 3 # number of shifted plots\n",
        "fig, ax = plt.subplots(nrows=nrows, ncols=1, figsize=(14, 7))\n",
        "for i in range(nrows):\n",
        "    sns.lineplot(y = pd.DataFrame(x_train[i])[index_Close], x = range(input_sequence_length), ax = ax[i])\n",
        "    sns.lineplot(y = y_train[i], x = range(input_sequence_length -1, input_sequence_length + output_sequence_length - 1), ax = ax[i])\n",
        "plt.show"
      ]
    },
    {
      "cell_type": "markdown",
      "metadata": {
        "id": "x4bMq8PLX7Qi"
      },
      "source": [
        "Model Training "
      ]
    },
    {
      "cell_type": "code",
      "execution_count": 44,
      "metadata": {
        "colab": {
          "base_uri": "https://localhost:8080/"
        },
        "id": "oMIl6OdUX7Qp",
        "outputId": "2d8fd167-9d9f-47e9-9cde-37966c5bebbe"
      },
      "outputs": [
        {
          "output_type": "stream",
          "name": "stdout",
          "text": [
            "250 50 5\n"
          ]
        }
      ],
      "source": [
        "# Configure the neural network model\n",
        "model = Sequential()\n",
        "n_output_neurons = output_sequence_length\n",
        "\n",
        "# Model with n_neurons = inputshape Timestamps, each with x_train.shape[2] variables\n",
        "n_input_neurons = x_train.shape[1] * x_train.shape[2]\n",
        "print(n_input_neurons, x_train.shape[1], x_train.shape[2])\n",
        "model.add(LSTM(n_input_neurons, return_sequences=True, input_shape=(x_train.shape[1], x_train.shape[2]))) \n",
        "model.add(LSTM(n_input_neurons, return_sequences=False))\n",
        "model.add(Dense(5))\n",
        "model.add(Dense(n_output_neurons))\n",
        "\n",
        "# Compile the model\n",
        "model.compile(optimizer='adam', loss='mse')"
      ]
    },
    {
      "cell_type": "code",
      "execution_count": 45,
      "metadata": {
        "colab": {
          "base_uri": "https://localhost:8080/"
        },
        "id": "Rr_JBEIoX7Qt",
        "outputId": "36e30a97-57bf-4f22-b71d-a414f5e971a3"
      },
      "outputs": [
        {
          "output_type": "stream",
          "name": "stdout",
          "text": [
            "Epoch 1/100\n",
            "2191/2191 [==============================] - 33s 13ms/step - loss: 8.7096e-04 - val_loss: 4.3942e-04\n",
            "Epoch 2/100\n",
            "2191/2191 [==============================] - 28s 13ms/step - loss: 8.2711e-04 - val_loss: 4.4726e-04\n",
            "Epoch 3/100\n",
            "2191/2191 [==============================] - 28s 13ms/step - loss: 8.2266e-04 - val_loss: 4.0014e-04\n",
            "Epoch 4/100\n",
            "2191/2191 [==============================] - 28s 13ms/step - loss: 8.1859e-04 - val_loss: 4.2224e-04\n",
            "Epoch 5/100\n",
            "2191/2191 [==============================] - 28s 13ms/step - loss: 8.1476e-04 - val_loss: 4.5197e-04\n",
            "Epoch 6/100\n",
            "2191/2191 [==============================] - 28s 13ms/step - loss: 8.1553e-04 - val_loss: 4.0047e-04\n",
            "Epoch 7/100\n",
            "2191/2191 [==============================] - 28s 13ms/step - loss: 8.1382e-04 - val_loss: 4.0238e-04\n",
            "Epoch 8/100\n",
            "2191/2191 [==============================] - 28s 13ms/step - loss: 8.1225e-04 - val_loss: 3.9612e-04\n",
            "Epoch 9/100\n",
            "2191/2191 [==============================] - 28s 13ms/step - loss: 8.1093e-04 - val_loss: 4.0457e-04\n",
            "Epoch 10/100\n",
            "2191/2191 [==============================] - 28s 13ms/step - loss: 8.0999e-04 - val_loss: 4.0124e-04\n",
            "Epoch 11/100\n",
            "2191/2191 [==============================] - 28s 13ms/step - loss: 8.0949e-04 - val_loss: 4.1748e-04\n",
            "Epoch 12/100\n",
            "2191/2191 [==============================] - 28s 13ms/step - loss: 8.0894e-04 - val_loss: 4.0423e-04\n",
            "Epoch 13/100\n",
            "2191/2191 [==============================] - 28s 13ms/step - loss: 8.0760e-04 - val_loss: 3.9584e-04\n",
            "Epoch 14/100\n",
            "2191/2191 [==============================] - 28s 13ms/step - loss: 8.0668e-04 - val_loss: 4.0527e-04\n",
            "Epoch 15/100\n",
            "2191/2191 [==============================] - 28s 13ms/step - loss: 8.0716e-04 - val_loss: 4.2057e-04\n",
            "Epoch 16/100\n",
            "2191/2191 [==============================] - 28s 13ms/step - loss: 8.0548e-04 - val_loss: 3.9588e-04\n",
            "Epoch 17/100\n",
            "2191/2191 [==============================] - 28s 13ms/step - loss: 8.0387e-04 - val_loss: 3.9724e-04\n",
            "Epoch 18/100\n",
            "2191/2191 [==============================] - 28s 13ms/step - loss: 8.0412e-04 - val_loss: 3.9519e-04\n",
            "Epoch 19/100\n",
            "2191/2191 [==============================] - 28s 13ms/step - loss: 8.0319e-04 - val_loss: 3.9542e-04\n",
            "Epoch 20/100\n",
            "2191/2191 [==============================] - 28s 13ms/step - loss: 8.0181e-04 - val_loss: 4.0306e-04\n",
            "Epoch 21/100\n",
            "2191/2191 [==============================] - 28s 13ms/step - loss: 8.0075e-04 - val_loss: 3.9700e-04\n",
            "Epoch 22/100\n",
            "2191/2191 [==============================] - 28s 13ms/step - loss: 7.9944e-04 - val_loss: 4.0706e-04\n",
            "Epoch 23/100\n",
            "2191/2191 [==============================] - 28s 13ms/step - loss: 7.9791e-04 - val_loss: 4.0834e-04\n",
            "Epoch 24/100\n",
            "2191/2191 [==============================] - 28s 13ms/step - loss: 7.9661e-04 - val_loss: 4.0994e-04\n",
            "Epoch 25/100\n",
            "2191/2191 [==============================] - 28s 13ms/step - loss: 7.9437e-04 - val_loss: 4.0650e-04\n",
            "Epoch 26/100\n",
            "2191/2191 [==============================] - 28s 13ms/step - loss: 7.9400e-04 - val_loss: 4.2686e-04\n",
            "Epoch 27/100\n",
            "2191/2191 [==============================] - 28s 13ms/step - loss: 7.9160e-04 - val_loss: 3.9895e-04\n",
            "Epoch 28/100\n",
            "2191/2191 [==============================] - 28s 13ms/step - loss: 7.9254e-04 - val_loss: 4.0247e-04\n",
            "Epoch 29/100\n",
            "2191/2191 [==============================] - 28s 13ms/step - loss: 7.8993e-04 - val_loss: 4.0310e-04\n",
            "Epoch 30/100\n",
            "2191/2191 [==============================] - 28s 13ms/step - loss: 7.8763e-04 - val_loss: 4.0769e-04\n",
            "Epoch 31/100\n",
            "2191/2191 [==============================] - 28s 13ms/step - loss: 7.8925e-04 - val_loss: 4.3536e-04\n",
            "Epoch 32/100\n",
            "2191/2191 [==============================] - 28s 13ms/step - loss: 7.8412e-04 - val_loss: 4.4494e-04\n",
            "Epoch 33/100\n",
            "2191/2191 [==============================] - 28s 13ms/step - loss: 7.8498e-04 - val_loss: 3.9879e-04\n",
            "Epoch 34/100\n",
            "2191/2191 [==============================] - 28s 13ms/step - loss: 7.8467e-04 - val_loss: 4.0771e-04\n",
            "Epoch 35/100\n",
            "2191/2191 [==============================] - 28s 13ms/step - loss: 7.8251e-04 - val_loss: 4.0554e-04\n",
            "Epoch 36/100\n",
            "2191/2191 [==============================] - 28s 13ms/step - loss: 7.8470e-04 - val_loss: 4.0602e-04\n",
            "Epoch 37/100\n",
            "2191/2191 [==============================] - 28s 13ms/step - loss: 7.8431e-04 - val_loss: 4.0625e-04\n",
            "Epoch 38/100\n",
            "2191/2191 [==============================] - 28s 13ms/step - loss: 7.8141e-04 - val_loss: 4.1814e-04\n",
            "Epoch 39/100\n",
            "2191/2191 [==============================] - 28s 13ms/step - loss: 7.8024e-04 - val_loss: 4.2966e-04\n",
            "Epoch 40/100\n",
            "2191/2191 [==============================] - 28s 13ms/step - loss: 7.8129e-04 - val_loss: 4.2270e-04\n",
            "Epoch 41/100\n",
            "2191/2191 [==============================] - 28s 13ms/step - loss: 7.7955e-04 - val_loss: 4.3104e-04\n",
            "Epoch 42/100\n",
            "2191/2191 [==============================] - 28s 13ms/step - loss: 7.7673e-04 - val_loss: 4.0936e-04\n",
            "Epoch 43/100\n",
            "2191/2191 [==============================] - 28s 13ms/step - loss: 7.7859e-04 - val_loss: 4.5779e-04\n",
            "Epoch 44/100\n",
            "2191/2191 [==============================] - 28s 13ms/step - loss: 7.7859e-04 - val_loss: 4.1263e-04\n",
            "Epoch 45/100\n",
            "2191/2191 [==============================] - 28s 13ms/step - loss: 7.7468e-04 - val_loss: 4.3762e-04\n",
            "Epoch 46/100\n",
            "2191/2191 [==============================] - 28s 13ms/step - loss: 7.7428e-04 - val_loss: 4.4206e-04\n",
            "Epoch 47/100\n",
            "2191/2191 [==============================] - 28s 13ms/step - loss: 7.7123e-04 - val_loss: 5.2952e-04\n",
            "Epoch 48/100\n",
            "2191/2191 [==============================] - 28s 13ms/step - loss: 7.6916e-04 - val_loss: 4.2973e-04\n",
            "Epoch 49/100\n",
            "2191/2191 [==============================] - 28s 13ms/step - loss: 7.7083e-04 - val_loss: 4.3625e-04\n",
            "Epoch 50/100\n",
            "2191/2191 [==============================] - 28s 13ms/step - loss: 7.6643e-04 - val_loss: 4.3452e-04\n",
            "Epoch 51/100\n",
            "2191/2191 [==============================] - 28s 13ms/step - loss: 7.6810e-04 - val_loss: 4.1796e-04\n",
            "Epoch 52/100\n",
            "2191/2191 [==============================] - 28s 13ms/step - loss: 7.6078e-04 - val_loss: 4.1736e-04\n",
            "Epoch 53/100\n",
            "2191/2191 [==============================] - 28s 13ms/step - loss: 7.6423e-04 - val_loss: 4.3838e-04\n",
            "Epoch 54/100\n",
            "2191/2191 [==============================] - 28s 13ms/step - loss: 7.6705e-04 - val_loss: 4.1292e-04\n",
            "Epoch 55/100\n",
            "2191/2191 [==============================] - 28s 13ms/step - loss: 7.6235e-04 - val_loss: 4.0636e-04\n",
            "Epoch 56/100\n",
            "2191/2191 [==============================] - 28s 13ms/step - loss: 7.6379e-04 - val_loss: 4.2066e-04\n",
            "Epoch 57/100\n",
            "2191/2191 [==============================] - 28s 13ms/step - loss: 7.5478e-04 - val_loss: 4.0285e-04\n",
            "Epoch 58/100\n",
            "2191/2191 [==============================] - 28s 13ms/step - loss: 7.5676e-04 - val_loss: 4.0447e-04\n",
            "Epoch 59/100\n",
            "2191/2191 [==============================] - 28s 13ms/step - loss: 7.5780e-04 - val_loss: 4.5754e-04\n",
            "Epoch 60/100\n",
            "2191/2191 [==============================] - 28s 13ms/step - loss: 7.5025e-04 - val_loss: 4.1111e-04\n",
            "Epoch 61/100\n",
            "2191/2191 [==============================] - 28s 13ms/step - loss: 7.4612e-04 - val_loss: 4.4373e-04\n",
            "Epoch 62/100\n",
            "2191/2191 [==============================] - 28s 13ms/step - loss: 7.4902e-04 - val_loss: 4.2872e-04\n",
            "Epoch 63/100\n",
            "2191/2191 [==============================] - 28s 13ms/step - loss: 7.4537e-04 - val_loss: 4.3391e-04\n",
            "Epoch 64/100\n",
            "2191/2191 [==============================] - 28s 13ms/step - loss: 7.4150e-04 - val_loss: 4.6076e-04\n",
            "Epoch 65/100\n",
            "2191/2191 [==============================] - 28s 13ms/step - loss: 7.4248e-04 - val_loss: 7.2922e-04\n",
            "Epoch 66/100\n",
            "2191/2191 [==============================] - 28s 13ms/step - loss: 7.3531e-04 - val_loss: 4.7130e-04\n",
            "Epoch 67/100\n",
            "2191/2191 [==============================] - 28s 13ms/step - loss: 7.3364e-04 - val_loss: 4.8092e-04\n",
            "Epoch 68/100\n",
            "2191/2191 [==============================] - 28s 13ms/step - loss: 7.2879e-04 - val_loss: 4.2408e-04\n",
            "Epoch 69/100\n",
            "2191/2191 [==============================] - 28s 13ms/step - loss: 7.2438e-04 - val_loss: 4.4856e-04\n",
            "Epoch 70/100\n",
            "2191/2191 [==============================] - 28s 13ms/step - loss: 7.1577e-04 - val_loss: 4.3760e-04\n",
            "Epoch 71/100\n",
            "2191/2191 [==============================] - 28s 13ms/step - loss: 7.0746e-04 - val_loss: 4.2355e-04\n",
            "Epoch 72/100\n",
            "2191/2191 [==============================] - 28s 13ms/step - loss: 7.0813e-04 - val_loss: 4.2768e-04\n",
            "Epoch 73/100\n",
            "2191/2191 [==============================] - 28s 13ms/step - loss: 6.9957e-04 - val_loss: 4.3886e-04\n",
            "Epoch 74/100\n",
            "2191/2191 [==============================] - 28s 13ms/step - loss: 6.8998e-04 - val_loss: 4.2884e-04\n",
            "Epoch 75/100\n",
            "2191/2191 [==============================] - 28s 13ms/step - loss: 6.8716e-04 - val_loss: 4.5376e-04\n",
            "Epoch 76/100\n",
            "2191/2191 [==============================] - 28s 13ms/step - loss: 6.8305e-04 - val_loss: 4.3351e-04\n",
            "Epoch 77/100\n",
            "2191/2191 [==============================] - 28s 13ms/step - loss: 6.8179e-04 - val_loss: 4.3598e-04\n",
            "Epoch 78/100\n",
            "2191/2191 [==============================] - 28s 13ms/step - loss: 6.7612e-04 - val_loss: 4.4130e-04\n",
            "Epoch 79/100\n",
            "2191/2191 [==============================] - 28s 13ms/step - loss: 6.7101e-04 - val_loss: 4.2046e-04\n",
            "Epoch 80/100\n",
            "2191/2191 [==============================] - 28s 13ms/step - loss: 6.6988e-04 - val_loss: 4.3167e-04\n",
            "Epoch 81/100\n",
            "2191/2191 [==============================] - 28s 13ms/step - loss: 6.6967e-04 - val_loss: 4.4060e-04\n",
            "Epoch 82/100\n",
            "2191/2191 [==============================] - 28s 13ms/step - loss: 6.5787e-04 - val_loss: 4.9747e-04\n",
            "Epoch 83/100\n",
            "2191/2191 [==============================] - 28s 13ms/step - loss: 6.6314e-04 - val_loss: 4.4267e-04\n",
            "Epoch 84/100\n",
            "2191/2191 [==============================] - 28s 13ms/step - loss: 6.5780e-04 - val_loss: 4.6173e-04\n",
            "Epoch 85/100\n",
            "2191/2191 [==============================] - 28s 13ms/step - loss: 6.5046e-04 - val_loss: 4.3064e-04\n",
            "Epoch 86/100\n",
            "2191/2191 [==============================] - 28s 13ms/step - loss: 6.4499e-04 - val_loss: 4.3107e-04\n",
            "Epoch 87/100\n",
            "2191/2191 [==============================] - 28s 13ms/step - loss: 6.5075e-04 - val_loss: 4.7929e-04\n",
            "Epoch 88/100\n",
            "2191/2191 [==============================] - 28s 13ms/step - loss: 6.3856e-04 - val_loss: 4.9130e-04\n",
            "Epoch 89/100\n",
            "2191/2191 [==============================] - 28s 13ms/step - loss: 6.4233e-04 - val_loss: 4.6831e-04\n",
            "Epoch 90/100\n",
            "2191/2191 [==============================] - 28s 13ms/step - loss: 6.3006e-04 - val_loss: 4.4668e-04\n",
            "Epoch 91/100\n",
            "2191/2191 [==============================] - 28s 13ms/step - loss: 6.2788e-04 - val_loss: 4.6324e-04\n",
            "Epoch 92/100\n",
            "2191/2191 [==============================] - 28s 13ms/step - loss: 6.2325e-04 - val_loss: 4.4299e-04\n",
            "Epoch 93/100\n",
            "2191/2191 [==============================] - 28s 13ms/step - loss: 6.1229e-04 - val_loss: 4.7238e-04\n",
            "Epoch 94/100\n",
            "2191/2191 [==============================] - 28s 13ms/step - loss: 6.1794e-04 - val_loss: 4.5584e-04\n",
            "Epoch 95/100\n",
            "2191/2191 [==============================] - 28s 13ms/step - loss: 6.0416e-04 - val_loss: 4.4158e-04\n",
            "Epoch 96/100\n",
            "2191/2191 [==============================] - 28s 13ms/step - loss: 6.0869e-04 - val_loss: 4.6840e-04\n",
            "Epoch 97/100\n",
            "2191/2191 [==============================] - 28s 13ms/step - loss: 5.9610e-04 - val_loss: 4.4325e-04\n",
            "Epoch 98/100\n",
            "2191/2191 [==============================] - 28s 13ms/step - loss: 5.8791e-04 - val_loss: 4.4651e-04\n",
            "Epoch 99/100\n",
            "2191/2191 [==============================] - 28s 13ms/step - loss: 5.8707e-04 - val_loss: 4.6708e-04\n",
            "Epoch 100/100\n",
            "2191/2191 [==============================] - 28s 13ms/step - loss: 5.7981e-04 - val_loss: 4.5120e-04\n"
          ]
        }
      ],
      "source": [
        "# Training the model\n",
        "epochs = 100\n",
        "batch_size = 32\n",
        "early_stop = EarlyStopping(monitor='loss', patience=5, verbose=1)\n",
        "history = model.fit(x_train, y_train, \n",
        "                    batch_size=batch_size, \n",
        "                    epochs=epochs,\n",
        "                    validation_data=(x_test, y_test)\n",
        "                   )\n",
        "                    \n",
        "                    #callbacks=[early_stop])"
      ]
    },
    {
      "cell_type": "code",
      "source": [
        "# Plot training & validation loss values\n",
        "fig, ax = plt.subplots(figsize=(10, 5), sharex=True)\n",
        "plt.plot(history.history[\"loss\"])\n",
        "plt.title(\"Model loss\")\n",
        "plt.ylabel(\"Loss\")\n",
        "plt.xlabel(\"Epoch\")\n",
        "ax.xaxis.set_major_locator(plt.MaxNLocator(epochs))\n",
        "plt.legend([\"Train\", \"Test\"], loc=\"upper left\")\n",
        "plt.grid()\n",
        "plt.show()"
      ],
      "metadata": {
        "id": "KPhy7O8aiuT0",
        "colab": {
          "base_uri": "https://localhost:8080/",
          "height": 350
        },
        "outputId": "04f0f2eb-9795-4917-c7dd-5b905b4034c2"
      },
      "execution_count": 46,
      "outputs": [
        {
          "output_type": "display_data",
          "data": {
            "image/png": "[encoded data removed]",
            "text/plain": [
              "<Figure size 720x360 with 1 Axes>"
            ]
          },
          "metadata": {
            "needs_background": "light"
          }
        }
      ]
    },
    {
      "cell_type": "markdown",
      "metadata": {
        "id": "K9T5iinHX7Qw"
      },
      "source": [
        "Model Performance Evaluation    "
      ]
    },
    {
      "cell_type": "code",
      "source": [
        "model.save('Model_3MIN_JUN2021_DEC2021.h5')"
      ],
      "metadata": {
        "id": "1YUw4M6yg3RG"
      },
      "execution_count": 47,
      "outputs": []
    },
    {
      "cell_type": "code",
      "execution_count": 48,
      "metadata": {
        "id": "te7dOYe3X7Qz",
        "colab": {
          "base_uri": "https://localhost:8080/"
        },
        "outputId": "4dac2614-6c8a-4c92-cbd5-c0892ccaa7eb"
      },
      "outputs": [
        {
          "output_type": "stream",
          "name": "stdout",
          "text": [
            "Median Absolute Error (MAE): 418.6\n",
            "Mean Absolute Percentage Error (MAPE): 1.36 %\n",
            "Median Absolute Percentage Error (MDAPE): 0.93 %\n"
          ]
        }
      ],
      "source": [
        "# Get the predicted values\n",
        "y_pred_scaled = model.predict(x_test)\n",
        "\n",
        "# Unscale the predicted values\n",
        "y_pred = scaler_pred.inverse_transform(y_pred_scaled)\n",
        "y_test_unscaled = scaler_pred.inverse_transform(y_test).reshape(-1, output_sequence_length)\n",
        "y_test_unscaled.shape\n",
        "\n",
        "# Mean Absolute Error (MAE)\n",
        "MAE = mean_absolute_error(y_test_unscaled, y_pred)\n",
        "print(f'Median Absolute Error (MAE): {np.round(MAE, 2)}')\n",
        "\n",
        "# Mean Absolute Percentage Error (MAPE)\n",
        "MAPE = np.mean((np.abs(np.subtract(y_test_unscaled, y_pred)/ y_test_unscaled))) * 100\n",
        "print(f'Mean Absolute Percentage Error (MAPE): {np.round(MAPE, 2)} %')\n",
        "\n",
        "# Median Absolute Percentage Error (MDAPE)\n",
        "MDAPE = np.median((np.abs(np.subtract(y_test_unscaled, y_pred)/ y_test_unscaled)) ) * 100\n",
        "print(f'Median Absolute Percentage Error (MDAPE): {np.round(MDAPE, 2)} %')"
      ]
    },
    {
      "cell_type": "markdown",
      "metadata": {
        "id": "wsJ349YSX7Q1"
      },
      "source": [
        "Multi Test Forecast"
      ]
    },
    {
      "cell_type": "code",
      "execution_count": 49,
      "metadata": {
        "id": "9ebER3a8X7Q2",
        "colab": {
          "base_uri": "https://localhost:8080/",
          "height": 545
        },
        "outputId": "f80436f8-f75a-4a83-e694-8a13cd6c192b"
      },
      "outputs": [
        {
          "output_type": "display_data",
          "data": {
            "image/png": "[encoded data removed]",
            "text/plain": [
              "<Figure size 576x288 with 1 Axes>"
            ]
          },
          "metadata": {
            "needs_background": "light"
          }
        },
        {
          "output_type": "display_data",
          "data": {
            "image/png": "[encoded data removed]",
            "text/plain": [
              "<Figure size 576x288 with 1 Axes>"
            ]
          },
          "metadata": {
            "needs_background": "light"
          }
        }
      ],
      "source": [
        "def plot_multi_test_forecast(i, s, x_test, y_test_unscaled, y_pred_unscaled): \n",
        "    \n",
        "    # reshape the testset into a one-dimensional array, so that it fits to the pred scaler\n",
        "    x_test_scaled_reshaped = np.array(pd.DataFrame(x_test[i])[index_Close]).reshape(-1, 1)\n",
        "    \n",
        "    # undo the scaling on the testset\n",
        "    df_test = pd.DataFrame(scaler_pred.inverse_transform(x_test_scaled_reshaped) )\n",
        "\n",
        "    # set the max index \n",
        "    test_max_index = df_test.shape[0]\n",
        "    pred_max_index = y_pred_unscaled[0].shape[0]\n",
        "    test_index = range(i, i + test_max_index)\n",
        "    pred_index = range(i + test_max_index, i + test_max_index + pred_max_index)\n",
        "    \n",
        "    # package y_pred_unscaled and y_test_unscaled into a dataframe with columns pred and true\n",
        "    data = pd.DataFrame(list(zip(y_pred_unscaled[s], y_test_unscaled[i])), columns=['pred', 'true']) #\n",
        "    \n",
        "    fig, ax = plt.subplots(figsize=(8, 4))\n",
        "    plt.title(f\"Predictions vs Ground Truth {pred_index}\", fontsize=12)\n",
        "    ax.set(ylabel =  \"BTC Price USDT\")\n",
        "    \n",
        "    sns.lineplot(data = df_test,  y = df_test[0], x=test_index, color=\"#039dfc\", linewidth=1.0, label='test')\n",
        "    sns.lineplot(data = data,  y='true', x=pred_index, color=\"g\", linewidth=1.0, label='true')\n",
        "    sns.lineplot(data = data,  y='pred', x=pred_index, color=\"r\", linewidth=1.0, label='pred')\n",
        "\n",
        "x_test_unscaled = scaler_pred.inverse_transform(np.array(pd.DataFrame(x_test[0])[index_Close]).reshape(-1, 1)) \n",
        "df_test = pd.DataFrame(x_test_unscaled)\n",
        "    \n",
        "for i in range(5, 7): #i is the starting point for the batch in the time-series\n",
        "    #data = pd.DataFrame(list(zip(y_pred[i], y_test_unscaled[i])), columns=['pred', 'true'], index=range(55,65))\n",
        "    plot_multi_test_forecast(i, i, x_test, y_test_unscaled, y_pred)"
      ]
    },
    {
      "cell_type": "markdown",
      "metadata": {
        "id": "46lUFqAOX7Q5"
      },
      "source": [
        "New Forecast "
      ]
    },
    {
      "cell_type": "code",
      "execution_count": 50,
      "metadata": {
        "id": "1xTnlSCuX7Q6",
        "colab": {
          "base_uri": "https://localhost:8080/",
          "height": 281
        },
        "outputId": "2d96e686-1eff-4344-b078-6d5b924320ef"
      },
      "outputs": [
        {
          "output_type": "display_data",
          "data": {
            "image/png": "[encoded data removed]",
            "text/plain": [
              "<Figure size 576x288 with 1 Axes>"
            ]
          },
          "metadata": {
            "needs_background": "light"
          }
        }
      ],
      "source": [
        "def plot_new_multi_forecast(i_test, i_pred, x_test, y_pred_unscaled): \n",
        "    \n",
        "    # reshape the testset into a one-dimensional array, so that it fits to the pred scaler\n",
        "    x_test_scaled_reshaped = np.array(pd.DataFrame(x_test[i_test])[index_Close]).reshape(-1, 1)\n",
        "    \n",
        "    # undo the scaling on the testset\n",
        "    df_test = pd.DataFrame(scaler_pred.inverse_transform(x_test_scaled_reshaped) )\n",
        "\n",
        "    # set the max index \n",
        "    test_max_index = df_test.shape[0]\n",
        "    pred_max_index = y_pred_unscaled[0].shape[0]\n",
        "    test_index = range(i_test, i_test + test_max_index)\n",
        "    pred_index = range(i_test + test_max_index, i_test + test_max_index + pred_max_index)\n",
        "    \n",
        "    data = pd.DataFrame(list(zip(y_pred_unscaled[i_pred])), columns=['pred']) #\n",
        "    \n",
        "    fig, ax = plt.subplots(figsize=(8, 4))\n",
        "    plt.title(f\"Predictions vs Ground Truth {pred_index}\", fontsize=12)\n",
        "    ax.set(ylabel =  \"BTC Price USDT\")\n",
        "    \n",
        "    sns.lineplot(data = df_test,  y = df_test[0], x=test_index, color=\"#039dfc\", linewidth=1.0, label='test')\n",
        "    sns.lineplot(data = data,  y='pred', x=pred_index, color=\"r\", linewidth=1.0, label='pred')\n",
        "    \n",
        "# get the highest index from the x_test dataset\n",
        "index_max = x_test.shape[0]\n",
        "x_test_new = np_scaled[-51:-1,:].reshape(1,50,5)\n",
        "\n",
        "# undo the scaling of the predictions\n",
        "y_pred_scaled = model.predict(x_test_new)\n",
        "y_pred = scaler_pred.inverse_transform(y_pred_scaled)\n",
        "\n",
        "# plot the predictions\n",
        "plot_new_multi_forecast(0, 0, x_test_new, y_pred)"
      ]
    },
    {
      "cell_type": "code",
      "source": [
        "#Actual Prediction\n",
        "\n",
        "def prediction(crypto):\n",
        "  #Choose between BTCUSDT ETHUSDT XMRUSDT\n",
        "\n",
        "  #Fetch Last Day 1HR Candles Data\n",
        "  klines = client.get_historical_klines(crypto, Client.KLINE_INTERVAL_1HOUR, \"1 day ago UTC\")\n",
        "\n",
        "  pred_df = pd.DataFrame(klines)\n",
        "  pred_df.columns = (['Open Time', 'Open', 'High', 'Low', 'Close', 'Volume', 'Close Time', 'Quote Asset Volume','Nb of Trade', 'TakerBuyBaseVolume', 'TakerBuyQuoteVolume','Ignored'])\n",
        "  # hist_df.drop(labels = ['TakerBuyBaseVolume', 'TakerBuyQuoteVolume', 'Ignored', 'Quote Asset Volume'], inplace = True,axis = 1)\n",
        "  pred_df['Close Time'] = pd.to_datetime(pred_df['Close Time']/1000, unit='s')\n",
        "  # hist_df['Open Time'] = pd.to_datetime(hist_df['Open Time']/1000, unit='s')\n",
        "  pred_df.drop(['Ignored', 'TakerBuyBaseVolume', 'TakerBuyQuoteVolume', 'Quote Asset Volume'], inplace= True, axis = 1)\n",
        "  # hist_df['Open Time'] = hist_df.index\n",
        "\n",
        "  # hist_df = hist_df.reset_index().set_index('Open Time', drop=False)\n",
        "  # hist_df.index.name = None\n",
        "\n",
        "  pred_df = pred_df.apply(pd.to_numeric)\n",
        "  pred = np_scaled[-51:-1,:].reshape(1,50,5)\n",
        "\n",
        "  # pred_df.to_csv('5H_avg_pred_df')\n",
        "  # pred_df\n",
        "\n",
        "  y_pred_scaled = model.predict(pred)\n",
        "  y_pred = scaler_pred.inverse_transform(y_pred_scaled)\n",
        "\n",
        "  print(y_pred)\n",
        "\n",
        "prediction(\"BTCUSDT\")\n"
      ],
      "metadata": {
        "id": "vvkib1Ndbzi7",
        "colab": {
          "base_uri": "https://localhost:8080/"
        },
        "outputId": "63e6866b-0c5f-43a8-ec75-5b470bba7d08"
      },
      "execution_count": 52,
      "outputs": [
        {
          "output_type": "stream",
          "name": "stdout",
          "text": [
            "[[29498.697 29489.803 29476.67  29551.21  29555.6   29596.059 29634.236\n",
            "  29485.799 29589.375 29647.781]]\n"
          ]
        }
      ]
    }
  ],
  "metadata": {
    "interpreter": {
      "hash": "3bff544f8a8073c4167e9b2cc33d981654572eb557f5e5f174774942b3a02b19"
    },
    "kernelspec": {
      "display_name": "Python 3.8.5 64-bit",
      "language": "python",
      "name": "python3"
    },
    "language_info": {
      "codemirror_mode": {
        "name": "ipython",
        "version": 3
      },
      "file_extension": ".py",
      "mimetype": "text/x-python",
      "name": "python",
      "nbconvert_exporter": "python",
      "pygments_lexer": "ipython3",
      "version": "3.8.5"
    },
    "orig_nbformat": 4,
    "colab": {
      "name": "Model_3MIN_June2021_Dec2021_Taly.ipynb",
      "provenance": [],
      "machine_shape": "hm"
    },
    "accelerator": "GPU"
  },
  "nbformat": 4,
  "nbformat_minor": 0
}