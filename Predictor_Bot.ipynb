{
  "cells": [
    {
      "cell_type": "markdown",
      "metadata": {},
      "source": [
        "Predictor Bot : Predicting Crypto Prices for the next 10 candles on the 3 minute chart using LSTM "
      ]
    },
    {
      "cell_type": "code",
      "execution_count": 47,
      "metadata": {
        "id": "HNDtzvYZX7Pg"
      },
      "outputs": [],
      "source": [
        "#Packages Import\n",
        "import math # Mathematical functions \n",
        "import numpy as np \n",
        "import pandas as pd \n",
        "from datetime import date, timedelta, datetime \n",
        "from pandas.plotting import register_matplotlib_converters\n",
        "import matplotlib.pyplot as plt # Important package for visualization - we use this to plot the market data\n",
        "import matplotlib.dates as mdates # Formatting dates\n",
        "from sklearn.metrics import mean_absolute_error, mean_squared_error # Packages for measuring model performance / errors\n",
        "from keras.models import Sequential # Deep learning library, used for neural networks\n",
        "from keras.layers import LSTM, Dense, Dropout # Deep learning classes for recurrent and regular densely-connected layers\n",
        "from keras.callbacks import EarlyStopping # EarlyStopping during model training\n",
        "from sklearn.preprocessing import RobustScaler, MinMaxScaler # This Scaler removes the median and scales the data according to the quantile range to normalize the price data \n",
        "import seaborn as sns"
      ]
    },
    {
      "cell_type": "code",
      "execution_count": 48,
      "metadata": {
        "colab": {
          "base_uri": "https://localhost:8080/"
        },
        "id": "2upkEN1YYM-d",
        "outputId": "e569da94-3924-4108-c0c1-9303a21b04d3"
      },
      "outputs": [
        {
          "name": "stdout",
          "output_type": "stream",
          "text": [
            "Requirement already satisfied: python-binance in c:\\users\\fluffy\\appdata\\local\\programs\\pythoncodingpack\\lib\\site-packages (1.0.15)\n",
            "Requirement already satisfied: ujson in c:\\users\\fluffy\\appdata\\local\\programs\\pythoncodingpack\\lib\\site-packages (from python-binance) (4.3.0)\n",
            "Requirement already satisfied: aiohttp in c:\\users\\fluffy\\appdata\\local\\programs\\pythoncodingpack\\lib\\site-packages (from python-binance) (3.8.1)\n",
            "Requirement already satisfied: dateparser in c:\\users\\fluffy\\appdata\\local\\programs\\pythoncodingpack\\lib\\site-packages (from python-binance) (1.1.0)\n",
            "Requirement already satisfied: six in c:\\users\\fluffy\\appdata\\local\\programs\\pythoncodingpack\\lib\\site-packages (from python-binance) (1.15.0)\n",
            "Requirement already satisfied: requests in c:\\users\\fluffy\\appdata\\local\\programs\\pythoncodingpack\\lib\\site-packages (from python-binance) (2.26.0)\n",
            "Requirement already satisfied: websockets==9.1 in c:\\users\\fluffy\\appdata\\local\\programs\\pythoncodingpack\\lib\\site-packages (from python-binance) (9.1)\n",
            "Requirement already satisfied: attrs>=17.3.0 in c:\\users\\fluffy\\appdata\\local\\programs\\pythoncodingpack\\lib\\site-packages (from aiohttp->python-binance) (19.3.0)\n",
            "Requirement already satisfied: charset-normalizer<3.0,>=2.0 in c:\\users\\fluffy\\appdata\\local\\programs\\pythoncodingpack\\lib\\site-packages (from aiohttp->python-binance) (2.0.6)\n",
            "Requirement already satisfied: async-timeout<5.0,>=4.0.0a3 in c:\\users\\fluffy\\appdata\\local\\programs\\pythoncodingpack\\lib\\site-packages (from aiohttp->python-binance) (4.0.1)\n",
            "Requirement already satisfied: aiosignal>=1.1.2 in c:\\users\\fluffy\\appdata\\local\\programs\\pythoncodingpack\\lib\\site-packages (from aiohttp->python-binance) (1.2.0)\n",
            "Requirement already satisfied: frozenlist>=1.1.1 in c:\\users\\fluffy\\appdata\\local\\programs\\pythoncodingpack\\lib\\site-packages (from aiohttp->python-binance) (1.2.0)\n",
            "Requirement already satisfied: multidict<7.0,>=4.5 in c:\\users\\fluffy\\appdata\\local\\programs\\pythoncodingpack\\lib\\site-packages (from aiohttp->python-binance) (5.2.0)\n",
            "Requirement already satisfied: yarl<2.0,>=1.0 in c:\\users\\fluffy\\appdata\\local\\programs\\pythoncodingpack\\lib\\site-packages (from aiohttp->python-binance) (1.7.2)\n",
            "Requirement already satisfied: regex!=2019.02.19,!=2021.8.27 in c:\\users\\fluffy\\appdata\\local\\programs\\pythoncodingpack\\lib\\site-packages (from dateparser->python-binance) (2021.10.23)\n",
            "Requirement already satisfied: tzlocal in c:\\users\\fluffy\\appdata\\local\\programs\\pythoncodingpack\\lib\\site-packages (from dateparser->python-binance) (4.1)\n",
            "Requirement already satisfied: pytz in c:\\users\\fluffy\\appdata\\local\\programs\\pythoncodingpack\\lib\\site-packages (from dateparser->python-binance) (2020.1)\n",
            "Requirement already satisfied: python-dateutil in c:\\users\\fluffy\\appdata\\local\\programs\\pythoncodingpack\\lib\\site-packages (from dateparser->python-binance) (2.8.1)\n",
            "Requirement already satisfied: idna<4,>=2.5 in c:\\users\\fluffy\\appdata\\local\\programs\\pythoncodingpack\\lib\\site-packages (from requests->python-binance) (3.2)\n",
            "Requirement already satisfied: urllib3<1.27,>=1.21.1 in c:\\users\\fluffy\\appdata\\local\\programs\\pythoncodingpack\\lib\\site-packages (from requests->python-binance) (1.26.7)\n",
            "Requirement already satisfied: certifi>=2017.4.17 in c:\\users\\fluffy\\appdata\\local\\programs\\pythoncodingpack\\lib\\site-packages (from requests->python-binance) (2020.6.20)\n",
            "Requirement already satisfied: typing-extensions>=3.6.5 in c:\\users\\fluffy\\appdata\\local\\programs\\pythoncodingpack\\lib\\site-packages (from async-timeout<5.0,>=4.0.0a3->aiohttp->python-binance) (4.0.0)\n",
            "Requirement already satisfied: backports.zoneinfo in c:\\users\\fluffy\\appdata\\local\\programs\\pythoncodingpack\\lib\\site-packages (from tzlocal->dateparser->python-binance) (0.2.1)\n",
            "Requirement already satisfied: tzdata in c:\\users\\fluffy\\appdata\\local\\programs\\pythoncodingpack\\lib\\site-packages (from tzlocal->dateparser->python-binance) (2021.5)\n",
            "Requirement already satisfied: pytz-deprecation-shim in c:\\users\\fluffy\\appdata\\local\\programs\\pythoncodingpack\\lib\\site-packages (from tzlocal->dateparser->python-binance) (0.1.0.post0)\n",
            "Note: you may need to restart the kernel to use updated packages.\n"
          ]
        }
      ],
      "source": [
        "pip install python-binance"
      ]
    },
    {
      "cell_type": "code",
      "execution_count": 49,
      "metadata": {
        "id": "v3mj3tYwX7QH"
      },
      "outputs": [],
      "source": [
        "from datetime import datetime\n",
        "from pandas_datareader.data import DataReader"
      ]
    },
    {
      "cell_type": "code",
      "execution_count": 50,
      "metadata": {
        "id": "lSs5MuQtX7QL"
      },
      "outputs": [],
      "source": [
        "# Data retrieval for cryptocurrencies BTCUSDT ETHUSDT XMRUSDT \n",
        "# Binance API credentials \n",
        "apikey = '2ZaEiNukiFtPHqnYdCGMANNimHdcCF0nvv4L9eYXMIdr4ovveQrca4NWKsZ7DxAy'\n",
        "secretkey = '9zjousoyG0t2wblcGkm0tVGLBfz6Woo3paakGh49Vhj0IxrGGXl332b1KQaxlJKY'\n",
        "\n",
        "from binance import Client, ThreadedWebsocketManager, ThreadedDepthCacheManager\n",
        "#API Initialization \n",
        "client = Client(apikey, secretkey)"
      ]
    },
    {
      "cell_type": "code",
      "execution_count": 51,
      "metadata": {
        "colab": {
          "base_uri": "https://localhost:8080/"
        },
        "id": "4uGFVCvfquxE",
        "outputId": "7269a755-fd47-4f58-b387-3c6cfcf6809e"
      },
      "outputs": [
        {
          "name": "stdout",
          "output_type": "stream",
          "text": [
            "Requirement already satisfied: tf in c:\\users\\fluffy\\appdata\\local\\programs\\pythoncodingpack\\lib\\site-packages (1.0.0)\n",
            "Note: you may need to restart the kernel to use updated packages.\n"
          ]
        }
      ],
      "source": [
        "pip install tf"
      ]
    },
    {
      "cell_type": "markdown",
      "metadata": {
        "id": "wsJ349YSX7Q1"
      },
      "source": [
        "Real Forecast for BTCUSDT, ETHUSDT or XMRUSDT as inputs"
      ]
    },
    {
      "cell_type": "code",
      "execution_count": 56,
      "metadata": {
        "id": "vvkib1Ndbzi7"
      },
      "outputs": [],
      "source": [
        "#Actual Prediction\n",
        "\n",
        "#Packages to load previously scaled data in array format for each crypto prediction in the below if statements\n",
        "# load numpy array from npy file\n",
        "import keras\n",
        "from numpy import load\n",
        "\n",
        "def prediction(crypto):\n",
        "  #Choose between BTCUSDT ETHUSDT XMRUSDT\n",
        "  if crypto == \"BTCUSDT\":\n",
        "    #Fetch Last Day 3min Candles Data\n",
        "    klines = client.get_historical_klines(crypto, Client.KLINE_INTERVAL_3MINUTE, \"1 day ago UTC\")\n",
        "\n",
        "    pred_df = pd.DataFrame(klines)\n",
        "    pred_df.columns = (['Open Time', 'Open', 'High', 'Low', 'Close', 'Volume', 'Close Time', 'Quote Asset Volume','Nb of Trade', 'TakerBuyBaseVolume', 'TakerBuyQuoteVolume','Ignored'])\n",
        "    # hist_df.drop(labels = ['TakerBuyBaseVolume', 'TakerBuyQuoteVolume', 'Ignored', 'Quote Asset Volume'], inplace = True,axis = 1)\n",
        "    pred_df['Close Time'] = pd.to_datetime(pred_df['Close Time']/1000, unit='s')\n",
        "    # hist_df['Open Time'] = pd.to_datetime(hist_df['Open Time']/1000, unit='s')\n",
        "    pred_df.drop(['Ignored', 'TakerBuyBaseVolume', 'TakerBuyQuoteVolume', 'Quote Asset Volume'], inplace= True, axis = 1)\n",
        "\n",
        "    #load scaled xmr array\n",
        "    np_scaled = load('scaled/btc_np_scaled.npy')\n",
        "\n",
        "    pred_df = pred_df.apply(pd.to_numeric)\n",
        "    pred = np_scaled[-51:-1,:].reshape(1,50,5)\n",
        "\n",
        "    # pred_df.to_csv('5H_avg_pred_df')\n",
        "    # pred_df\n",
        "    model = keras.models.load_model('Models\\BTC_Model_3MIN.h5')\n",
        "    btc_y_pred_scaled = model(pred)\n",
        "    btc_y_pred = scaler_pred.inverse_transform(btc_y_pred_scaled)\n",
        "\n",
        "    print(btc_y_pred)\n",
        "\n",
        "  elif crypto == \"XMRUSDT\":\n",
        "\n",
        "    #Fetch Last Day 3MINUTE Candles Data\n",
        "    klines = client.get_historical_klines(crypto, Client.KLINE_INTERVAL_3MINUTE, \"1 day ago UTC\")\n",
        "\n",
        "    pred_df = pd.DataFrame(klines)\n",
        "    pred_df.columns = (['Open Time', 'Open', 'High', 'Low', 'Close', 'Volume', 'Close Time', 'Quote Asset Volume','Nb of Trade', 'TakerBuyBaseVolume', 'TakerBuyQuoteVolume','Ignored'])\n",
        "    # hist_df.drop(labels = ['TakerBuyBaseVolume', 'TakerBuyQuoteVolume', 'Ignored', 'Quote Asset Volume'], inplace = True,axis = 1)\n",
        "    pred_df['Close Time'] = pd.to_datetime(pred_df['Close Time']/1000, unit='s')\n",
        "    # hist_df['Open Time'] = pd.to_datetime(hist_df['Open Time']/1000, unit='s')\n",
        "    pred_df.drop(['Ignored', 'TakerBuyBaseVolume', 'TakerBuyQuoteVolume', 'Quote Asset Volume'], inplace= True, axis = 1)\n",
        "\n",
        "    #load scaled xmr array\n",
        "    np_scaled = load(r'scaled\\xmr_np_scaled.npy')\n",
        "\n",
        "    xmr_pred_df = pred_df.apply(pd.to_numeric)\n",
        "    xmr_pred = np_scaled[-51:-1,:].reshape(1,50,5)\n",
        "\n",
        "    # pred_df.to_csv('5H_avg_pred_df')\n",
        "    # pred_df\n",
        "    xmr_model = keras.models.load_model('Models\\XMR_Model_3MIN.h5')\n",
        "    xmr_y_pred_scaled = xmr_model(xmr_pred)\n",
        "    xmr_y_pred = scaler_pred.inverse_transform(xmr_y_pred_scaled)\n",
        "\n",
        "    print(xmr_y_pred)\n",
        "      \n",
        "  elif crypto == \"ETHUSDT\":\n",
        "    #Fetch Last Day  3min Candles Data\n",
        "    klines = client.get_historical_klines(crypto, Client.KLINE_INTERVAL_3MINUTE, \"1 day ago UTC\")\n",
        "\n",
        "    pred_df = pd.DataFrame(klines)\n",
        "    pred_df.columns = (['Open Time', 'Open', 'High', 'Low', 'Close', 'Volume', 'Close Time', 'Quote Asset Volume','Nb of Trade', 'TakerBuyBaseVolume', 'TakerBuyQuoteVolume','Ignored'])\n",
        "    # hist_df.drop(labels = ['TakerBuyBaseVolume', 'TakerBuyQuoteVolume', 'Ignored', 'Quote Asset Volume'], inplace = True,axis = 1)\n",
        "    pred_df['Close Time'] = pd.to_datetime(pred_df['Close Time']/1000, unit='s')\n",
        "    # hist_df['Open Time'] = pd.to_datetime(hist_df['Open Time']/1000, unit='s')\n",
        "    pred_df.drop(['Ignored', 'TakerBuyBaseVolume', 'TakerBuyQuoteVolume', 'Quote Asset Volume'], inplace= True, axis = 1)\n",
        "    # hist_df['Open Time'] = hist_df.index\n",
        "\n",
        "    #load scaled xmr array\n",
        "    np_scaled = load(r'scaled/eth_np_scaled.npy')\n",
        "    eth_pred_df = pred_df.apply(pd.to_numeric)\n",
        "    eth_pred = np_scaled[-51:-1,:].reshape(1,50,5)\n",
        "\n",
        "    eth_model = keras.models.load_model('Models\\ETH_Model_3MIN.h5')\n",
        "    eth_y_pred_scaled = eth_model(eth_pred)\n",
        "    eth_y_pred = scaler_pred.inverse_transform(eth_y_pred_scaled)\n",
        "\n",
        "    print(eth_y_pred)\n"
      ]
    },
    {
      "cell_type": "code",
      "execution_count": 59,
      "metadata": {
        "colab": {
          "base_uri": "https://localhost:8080/"
        },
        "id": "dvQcmcEmbHQn",
        "outputId": "2691d058-cff6-44ac-fa65-04132da494f1"
      },
      "outputs": [],
      "source": [
        "prediction(\"ETHSDT\")"
      ]
    }
  ],
  "metadata": {
    "colab": {
      "name": "Predictor_Bot.ipynb",
      "provenance": []
    },
    "kernelspec": {
      "display_name": "Python 3",
      "name": "python3"
    },
    "language_info": {
      "codemirror_mode": {
        "name": "ipython",
        "version": 3
      },
      "file_extension": ".py",
      "mimetype": "text/x-python",
      "name": "python",
      "nbconvert_exporter": "python",
      "pygments_lexer": "ipython3",
      "version": "3.8.5"
    }
  },
  "nbformat": 4,
  "nbformat_minor": 0
}
