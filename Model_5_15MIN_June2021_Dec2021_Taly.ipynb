{
  "cells": [
    {
      "cell_type": "code",
      "execution_count": null,
      "metadata": {
        "id": "HNDtzvYZX7Pg"
      },
      "outputs": [],
      "source": [
        "#import pandas_datareader as webreader # Remote data access for pandas\n",
        "import math # Mathematical functions \n",
        "import numpy as np # Fundamental package for scientific computing with Python\n",
        "import pandas as pd # Additional functions for analysing and manipulating data\n",
        "from datetime import date, timedelta, datetime # Date Functions\n",
        "from pandas.plotting import register_matplotlib_converters # This function adds plotting functions for calender dates\n",
        "import matplotlib.pyplot as plt # Important package for visualization - we use this to plot the market data\n",
        "import matplotlib.dates as mdates # Formatting dates\n",
        "from sklearn.metrics import mean_absolute_error, mean_squared_error # Packages for measuring model performance / errors\n",
        "from keras.models import Sequential # Deep learning library, used for neural networks\n",
        "from keras.layers import LSTM, Dense, Dropout # Deep learning classes for recurrent and regular densely-connected layers\n",
        "from keras.callbacks import EarlyStopping # EarlyStopping during model training\n",
        "from sklearn.preprocessing import RobustScaler, MinMaxScaler # This Scaler removes the median and scales the data according to the quantile range to normalize the price data \n",
        "import seaborn as sns"
      ]
    },
    {
      "cell_type": "code",
      "source": [
        ""
      ],
      "metadata": {
        "id": "WEc1KBGdYRiP"
      },
      "execution_count": null,
      "outputs": []
    },
    {
      "cell_type": "code",
      "source": [
        ""
      ],
      "metadata": {
        "id": "lS7cWOHqYRe3"
      },
      "execution_count": null,
      "outputs": []
    },
    {
      "cell_type": "code",
      "source": [
        "pip install python-binance"
      ],
      "metadata": {
        "colab": {
          "base_uri": "https://localhost:8080/"
        },
        "id": "2upkEN1YYM-d",
        "outputId": "e4f71138-0e5b-4434-f15e-02e3ddd0f81c"
      },
      "execution_count": null,
      "outputs": [
        {
          "output_type": "stream",
          "name": "stdout",
          "text": [
            "Collecting python-binance\n",
            "  Downloading python_binance-1.0.15-py2.py3-none-any.whl (63 kB)\n",
            "\u001b[K     |████████████████████████████████| 63 kB 897 kB/s \n",
            "\u001b[?25hCollecting aiohttp\n",
            "  Downloading aiohttp-3.8.1-cp37-cp37m-manylinux_2_5_x86_64.manylinux1_x86_64.manylinux_2_12_x86_64.manylinux2010_x86_64.whl (1.1 MB)\n",
            "\u001b[K     |████████████████████████████████| 1.1 MB 14.2 MB/s \n",
            "\u001b[?25hCollecting websockets==9.1\n",
            "  Downloading websockets-9.1-cp37-cp37m-manylinux2010_x86_64.whl (103 kB)\n",
            "\u001b[K     |████████████████████████████████| 103 kB 76.6 MB/s \n",
            "\u001b[?25hCollecting ujson\n",
            "  Downloading ujson-4.3.0-cp37-cp37m-manylinux_2_17_x86_64.manylinux2014_x86_64.whl (216 kB)\n",
            "\u001b[K     |████████████████████████████████| 216 kB 57.9 MB/s \n",
            "\u001b[?25hRequirement already satisfied: requests in /usr/local/lib/python3.7/dist-packages (from python-binance) (2.23.0)\n",
            "Requirement already satisfied: six in /usr/local/lib/python3.7/dist-packages (from python-binance) (1.15.0)\n",
            "Collecting dateparser\n",
            "  Downloading dateparser-1.1.0-py2.py3-none-any.whl (288 kB)\n",
            "\u001b[K     |████████████████████████████████| 288 kB 41.3 MB/s \n",
            "\u001b[?25hCollecting asynctest==0.13.0\n",
            "  Downloading asynctest-0.13.0-py3-none-any.whl (26 kB)\n",
            "Requirement already satisfied: typing-extensions>=3.7.4 in /usr/local/lib/python3.7/dist-packages (from aiohttp->python-binance) (3.10.0.2)\n",
            "Collecting multidict<7.0,>=4.5\n",
            "  Downloading multidict-5.2.0-cp37-cp37m-manylinux_2_5_x86_64.manylinux1_x86_64.manylinux_2_12_x86_64.manylinux2010_x86_64.whl (160 kB)\n",
            "\u001b[K     |████████████████████████████████| 160 kB 42.9 MB/s \n",
            "\u001b[?25hCollecting async-timeout<5.0,>=4.0.0a3\n",
            "  Downloading async_timeout-4.0.1-py3-none-any.whl (5.7 kB)\n",
            "Collecting yarl<2.0,>=1.0\n",
            "  Downloading yarl-1.7.2-cp37-cp37m-manylinux_2_5_x86_64.manylinux1_x86_64.manylinux_2_12_x86_64.manylinux2010_x86_64.whl (271 kB)\n",
            "\u001b[K     |████████████████████████████████| 271 kB 59.0 MB/s \n",
            "\u001b[?25hRequirement already satisfied: attrs>=17.3.0 in /usr/local/lib/python3.7/dist-packages (from aiohttp->python-binance) (21.2.0)\n",
            "Collecting aiosignal>=1.1.2\n",
            "  Downloading aiosignal-1.2.0-py3-none-any.whl (8.2 kB)\n",
            "Collecting frozenlist>=1.1.1\n",
            "  Downloading frozenlist-1.2.0-cp37-cp37m-manylinux_2_5_x86_64.manylinux1_x86_64.manylinux_2_12_x86_64.manylinux2010_x86_64.whl (192 kB)\n",
            "\u001b[K     |████████████████████████████████| 192 kB 69.2 MB/s \n",
            "\u001b[?25hRequirement already satisfied: charset-normalizer<3.0,>=2.0 in /usr/local/lib/python3.7/dist-packages (from aiohttp->python-binance) (2.0.8)\n",
            "Requirement already satisfied: idna>=2.0 in /usr/local/lib/python3.7/dist-packages (from yarl<2.0,>=1.0->aiohttp->python-binance) (2.10)\n",
            "Requirement already satisfied: pytz in /usr/local/lib/python3.7/dist-packages (from dateparser->python-binance) (2018.9)\n",
            "Requirement already satisfied: regex!=2019.02.19,!=2021.8.27 in /usr/local/lib/python3.7/dist-packages (from dateparser->python-binance) (2019.12.20)\n",
            "Requirement already satisfied: tzlocal in /usr/local/lib/python3.7/dist-packages (from dateparser->python-binance) (1.5.1)\n",
            "Requirement already satisfied: python-dateutil in /usr/local/lib/python3.7/dist-packages (from dateparser->python-binance) (2.8.2)\n",
            "Requirement already satisfied: chardet<4,>=3.0.2 in /usr/local/lib/python3.7/dist-packages (from requests->python-binance) (3.0.4)\n",
            "Requirement already satisfied: certifi>=2017.4.17 in /usr/local/lib/python3.7/dist-packages (from requests->python-binance) (2021.10.8)\n",
            "Requirement already satisfied: urllib3!=1.25.0,!=1.25.1,<1.26,>=1.21.1 in /usr/local/lib/python3.7/dist-packages (from requests->python-binance) (1.24.3)\n",
            "Installing collected packages: multidict, frozenlist, yarl, asynctest, async-timeout, aiosignal, websockets, ujson, dateparser, aiohttp, python-binance\n",
            "Successfully installed aiohttp-3.8.1 aiosignal-1.2.0 async-timeout-4.0.1 asynctest-0.13.0 dateparser-1.1.0 frozenlist-1.2.0 multidict-5.2.0 python-binance-1.0.15 ujson-4.3.0 websockets-9.1 yarl-1.7.2\n"
          ]
        }
      ]
    },
    {
      "cell_type": "code",
      "execution_count": null,
      "metadata": {
        "id": "v3mj3tYwX7QH"
      },
      "outputs": [],
      "source": [
        "from datetime import datetime\n",
        "from pandas_datareader.data import DataReader"
      ]
    },
    {
      "cell_type": "code",
      "execution_count": null,
      "metadata": {
        "id": "lSs5MuQtX7QL"
      },
      "outputs": [],
      "source": [
        "# Data retrieval for cryptocurrencies BTCUSDT ETHUSDT XMRUSDT \n",
        "# Binance API credentials \n",
        "apikey = '2ZaEiNukiFtPHqnYdCGMANNimHdcCF0nvv4L9eYXMIdr4ovveQrca4NWKsZ7DxAy'\n",
        "secretkey = '9zjousoyG0t2wblcGkm0tVGLBfz6Woo3paakGh49Vhj0IxrGGXl332b1KQaxlJKY'\n",
        "\n",
        "from binance import Client, ThreadedWebsocketManager, ThreadedDepthCacheManager\n",
        "#API Initialization \n",
        "client = Client(apikey, secretkey)"
      ]
    },
    {
      "cell_type": "code",
      "execution_count": null,
      "metadata": {
        "colab": {
          "base_uri": "https://localhost:8080/",
          "height": 424
        },
        "id": "squpnHF3X7QN",
        "outputId": "3e8df780-9c09-4389-aead-334713bc204b"
      },
      "outputs": [
        {
          "output_type": "execute_result",
          "data": {
            "text/html": [
              "<div>\n",
              "<style scoped>\n",
              "    .dataframe tbody tr th:only-of-type {\n",
              "        vertical-align: middle;\n",
              "    }\n",
              "\n",
              "    .dataframe tbody tr th {\n",
              "        vertical-align: top;\n",
              "    }\n",
              "\n",
              "    .dataframe thead th {\n",
              "        text-align: right;\n",
              "    }\n",
              "</style>\n",
              "<table border=\"1\" class=\"dataframe\">\n",
              "  <thead>\n",
              "    <tr style=\"text-align: right;\">\n",
              "      <th></th>\n",
              "      <th>index</th>\n",
              "      <th>Open Time</th>\n",
              "      <th>Open</th>\n",
              "      <th>High</th>\n",
              "      <th>Low</th>\n",
              "      <th>Close</th>\n",
              "      <th>Volume</th>\n",
              "      <th>Close Time</th>\n",
              "      <th>Nb of Trade</th>\n",
              "    </tr>\n",
              "  </thead>\n",
              "  <tbody>\n",
              "    <tr>\n",
              "      <th>1622505600000</th>\n",
              "      <td>0</td>\n",
              "      <td>1622505600000</td>\n",
              "      <td>37253.82000000</td>\n",
              "      <td>37665.56000000</td>\n",
              "      <td>37100.00000000</td>\n",
              "      <td>37531.12000000</td>\n",
              "      <td>1877.25795300</td>\n",
              "      <td>1622506499999</td>\n",
              "      <td>41375</td>\n",
              "    </tr>\n",
              "    <tr>\n",
              "      <th>1622506500000</th>\n",
              "      <td>1</td>\n",
              "      <td>1622506500000</td>\n",
              "      <td>37531.13000000</td>\n",
              "      <td>37745.21000000</td>\n",
              "      <td>37456.00000000</td>\n",
              "      <td>37732.79000000</td>\n",
              "      <td>991.03288400</td>\n",
              "      <td>1622507399999</td>\n",
              "      <td>23471</td>\n",
              "    </tr>\n",
              "    <tr>\n",
              "      <th>1622507400000</th>\n",
              "      <td>2</td>\n",
              "      <td>1622507400000</td>\n",
              "      <td>37725.19000000</td>\n",
              "      <td>37800.00000000</td>\n",
              "      <td>37558.48000000</td>\n",
              "      <td>37723.99000000</td>\n",
              "      <td>1201.17831100</td>\n",
              "      <td>1622508299999</td>\n",
              "      <td>25041</td>\n",
              "    </tr>\n",
              "    <tr>\n",
              "      <th>1622508300000</th>\n",
              "      <td>3</td>\n",
              "      <td>1622508300000</td>\n",
              "      <td>37724.00000000</td>\n",
              "      <td>37894.81000000</td>\n",
              "      <td>37649.20000000</td>\n",
              "      <td>37798.31000000</td>\n",
              "      <td>1164.60358700</td>\n",
              "      <td>1622509199999</td>\n",
              "      <td>23664</td>\n",
              "    </tr>\n",
              "    <tr>\n",
              "      <th>1622509200000</th>\n",
              "      <td>4</td>\n",
              "      <td>1622509200000</td>\n",
              "      <td>37798.32000000</td>\n",
              "      <td>37803.49000000</td>\n",
              "      <td>37583.83000000</td>\n",
              "      <td>37684.52000000</td>\n",
              "      <td>673.44700000</td>\n",
              "      <td>1622510099999</td>\n",
              "      <td>16728</td>\n",
              "    </tr>\n",
              "    <tr>\n",
              "      <th>...</th>\n",
              "      <td>...</td>\n",
              "      <td>...</td>\n",
              "      <td>...</td>\n",
              "      <td>...</td>\n",
              "      <td>...</td>\n",
              "      <td>...</td>\n",
              "      <td>...</td>\n",
              "      <td>...</td>\n",
              "      <td>...</td>\n",
              "    </tr>\n",
              "    <tr>\n",
              "      <th>1638313200000</th>\n",
              "      <td>17538</td>\n",
              "      <td>1638313200000</td>\n",
              "      <td>57267.90000000</td>\n",
              "      <td>57424.23000000</td>\n",
              "      <td>57003.67000000</td>\n",
              "      <td>57085.48000000</td>\n",
              "      <td>281.67624000</td>\n",
              "      <td>1638314099999</td>\n",
              "      <td>9304</td>\n",
              "    </tr>\n",
              "    <tr>\n",
              "      <th>1638314100000</th>\n",
              "      <td>17539</td>\n",
              "      <td>1638314100000</td>\n",
              "      <td>57085.48000000</td>\n",
              "      <td>57360.49000000</td>\n",
              "      <td>57084.92000000</td>\n",
              "      <td>57247.46000000</td>\n",
              "      <td>182.01237000</td>\n",
              "      <td>1638314999999</td>\n",
              "      <td>8799</td>\n",
              "    </tr>\n",
              "    <tr>\n",
              "      <th>1638315000000</th>\n",
              "      <td>17540</td>\n",
              "      <td>1638315000000</td>\n",
              "      <td>57247.46000000</td>\n",
              "      <td>57276.69000000</td>\n",
              "      <td>57005.10000000</td>\n",
              "      <td>57121.35000000</td>\n",
              "      <td>182.11661000</td>\n",
              "      <td>1638315899999</td>\n",
              "      <td>8309</td>\n",
              "    </tr>\n",
              "    <tr>\n",
              "      <th>1638315900000</th>\n",
              "      <td>17541</td>\n",
              "      <td>1638315900000</td>\n",
              "      <td>57121.35000000</td>\n",
              "      <td>57155.66000000</td>\n",
              "      <td>56762.39000000</td>\n",
              "      <td>56950.56000000</td>\n",
              "      <td>458.53813000</td>\n",
              "      <td>1638316799999</td>\n",
              "      <td>13224</td>\n",
              "    </tr>\n",
              "    <tr>\n",
              "      <th>1638316800000</th>\n",
              "      <td>17542</td>\n",
              "      <td>1638316800000</td>\n",
              "      <td>56950.56000000</td>\n",
              "      <td>57530.96000000</td>\n",
              "      <td>56630.00000000</td>\n",
              "      <td>57198.47000000</td>\n",
              "      <td>691.98605000</td>\n",
              "      <td>1638317699999</td>\n",
              "      <td>21389</td>\n",
              "    </tr>\n",
              "  </tbody>\n",
              "</table>\n",
              "<p>17543 rows × 9 columns</p>\n",
              "</div>"
            ],
            "text/plain": [
              "               index      Open Time  ...     Close Time Nb of Trade\n",
              "1622505600000      0  1622505600000  ...  1622506499999       41375\n",
              "1622506500000      1  1622506500000  ...  1622507399999       23471\n",
              "1622507400000      2  1622507400000  ...  1622508299999       25041\n",
              "1622508300000      3  1622508300000  ...  1622509199999       23664\n",
              "1622509200000      4  1622509200000  ...  1622510099999       16728\n",
              "...              ...            ...  ...            ...         ...\n",
              "1638313200000  17538  1638313200000  ...  1638314099999        9304\n",
              "1638314100000  17539  1638314100000  ...  1638314999999        8799\n",
              "1638315000000  17540  1638315000000  ...  1638315899999        8309\n",
              "1638315900000  17541  1638315900000  ...  1638316799999       13224\n",
              "1638316800000  17542  1638316800000  ...  1638317699999       21389\n",
              "\n",
              "[17543 rows x 9 columns]"
            ]
          },
          "metadata": {},
          "execution_count": 5
        }
      ],
      "source": [
        "#Data collection: BTCUSDT \n",
        "#The idea is to focus on smaller time frames, specifically since the last crypto crash, mid-May 2021, to eliminate this skewing event\n",
        "\n",
        "klines = client.get_historical_klines(\"BTCUSDT\", Client.KLINE_INTERVAL_5MINUTE, \"1 Jun, 2021\", \"1 Dec, 2021\")\n",
        "\n",
        "# for candle in klines:\n",
        "#   print(candle)\n",
        "\n",
        "hist_df = pd.DataFrame(klines)\n",
        "hist_df.columns = (['Open Time', 'Open', 'High', 'Low', 'Close', 'Volume', 'Close Time', 'Quote Asset Volume','Nb of Trade', 'TakerBuyBaseVolume', 'TakerBuyQuoteVolume','Ignored'])\n",
        "# hist_df.drop(labels = ['TakerBuyBaseVolume', 'TakerBuyQuoteVolume', 'Ignored', 'Quote Asset Volume'], inplace = True,axis = 1)\n",
        "# hist_df['Close Time'] = pd.to_datetime(hist_df['Close Time']/1000, unit='s')\n",
        "# hist_df['Open Time'] = pd.to_datetime(hist_df['Open Time']/1000, unit='s')\n",
        "hist_df.drop(['Ignored', 'TakerBuyBaseVolume', 'TakerBuyQuoteVolume', 'Quote Asset Volume'], inplace= True, axis = 1)\n",
        "# hist_df['Open Time'] = hist_df.index\n",
        "\n",
        "hist_df = hist_df.reset_index().set_index('Open Time', drop=False)\n",
        "hist_df.index.name = None\n",
        "df = hist_df\n",
        "\n",
        "df.to_csv('BTCUSDT_5MIN_Jun2021_DEC2021')\n",
        "df"
      ]
    },
    {
      "cell_type": "code",
      "execution_count": null,
      "metadata": {
        "colab": {
          "base_uri": "https://localhost:8080/",
          "height": 206
        },
        "id": "At157IqIX7QT",
        "outputId": "a5c0f665-c718-4145-d75b-0e1bde2372c4"
      },
      "outputs": [
        {
          "output_type": "execute_result",
          "data": {
            "text/html": [
              "<div>\n",
              "<style scoped>\n",
              "    .dataframe tbody tr th:only-of-type {\n",
              "        vertical-align: middle;\n",
              "    }\n",
              "\n",
              "    .dataframe tbody tr th {\n",
              "        vertical-align: top;\n",
              "    }\n",
              "\n",
              "    .dataframe thead th {\n",
              "        text-align: right;\n",
              "    }\n",
              "</style>\n",
              "<table border=\"1\" class=\"dataframe\">\n",
              "  <thead>\n",
              "    <tr style=\"text-align: right;\">\n",
              "      <th></th>\n",
              "      <th>Open Time</th>\n",
              "      <th>Open</th>\n",
              "      <th>High</th>\n",
              "      <th>Low</th>\n",
              "      <th>Close</th>\n",
              "      <th>Volume</th>\n",
              "      <th>Close Time</th>\n",
              "      <th>Nb of Trade</th>\n",
              "    </tr>\n",
              "  </thead>\n",
              "  <tbody>\n",
              "    <tr>\n",
              "      <th>17538</th>\n",
              "      <td>1638313200000</td>\n",
              "      <td>57267.90000000</td>\n",
              "      <td>57424.23000000</td>\n",
              "      <td>57003.67000000</td>\n",
              "      <td>57085.48000000</td>\n",
              "      <td>281.67624000</td>\n",
              "      <td>1638314099999</td>\n",
              "      <td>9304</td>\n",
              "    </tr>\n",
              "    <tr>\n",
              "      <th>17539</th>\n",
              "      <td>1638314100000</td>\n",
              "      <td>57085.48000000</td>\n",
              "      <td>57360.49000000</td>\n",
              "      <td>57084.92000000</td>\n",
              "      <td>57247.46000000</td>\n",
              "      <td>182.01237000</td>\n",
              "      <td>1638314999999</td>\n",
              "      <td>8799</td>\n",
              "    </tr>\n",
              "    <tr>\n",
              "      <th>17540</th>\n",
              "      <td>1638315000000</td>\n",
              "      <td>57247.46000000</td>\n",
              "      <td>57276.69000000</td>\n",
              "      <td>57005.10000000</td>\n",
              "      <td>57121.35000000</td>\n",
              "      <td>182.11661000</td>\n",
              "      <td>1638315899999</td>\n",
              "      <td>8309</td>\n",
              "    </tr>\n",
              "    <tr>\n",
              "      <th>17541</th>\n",
              "      <td>1638315900000</td>\n",
              "      <td>57121.35000000</td>\n",
              "      <td>57155.66000000</td>\n",
              "      <td>56762.39000000</td>\n",
              "      <td>56950.56000000</td>\n",
              "      <td>458.53813000</td>\n",
              "      <td>1638316799999</td>\n",
              "      <td>13224</td>\n",
              "    </tr>\n",
              "    <tr>\n",
              "      <th>17542</th>\n",
              "      <td>1638316800000</td>\n",
              "      <td>56950.56000000</td>\n",
              "      <td>57530.96000000</td>\n",
              "      <td>56630.00000000</td>\n",
              "      <td>57198.47000000</td>\n",
              "      <td>691.98605000</td>\n",
              "      <td>1638317699999</td>\n",
              "      <td>21389</td>\n",
              "    </tr>\n",
              "  </tbody>\n",
              "</table>\n",
              "</div>"
            ],
            "text/plain": [
              "           Open Time            Open  ...     Close Time Nb of Trade\n",
              "17538  1638313200000  57267.90000000  ...  1638314099999        9304\n",
              "17539  1638314100000  57085.48000000  ...  1638314999999        8799\n",
              "17540  1638315000000  57247.46000000  ...  1638315899999        8309\n",
              "17541  1638315900000  57121.35000000  ...  1638316799999       13224\n",
              "17542  1638316800000  56950.56000000  ...  1638317699999       21389\n",
              "\n",
              "[5 rows x 8 columns]"
            ]
          },
          "metadata": {},
          "execution_count": 6
        }
      ],
      "source": [
        "# Indexing Batches\n",
        "df_train = df.sort_values(by=['Open Time']).copy()\n",
        "\n",
        "# Saving a copy of the dates index, before we need to reset it to numbers\n",
        "date_index = df_train.index\n",
        "\n",
        "# We reset the index, so we can convert the date-index to a number-index\n",
        "df_train = df_train.reset_index(drop=True).copy()\n",
        "df_train.drop(columns=['index'], inplace=True, axis = 1)\n",
        "df_train.tail(5)"
      ]
    },
    {
      "cell_type": "code",
      "execution_count": null,
      "metadata": {
        "colab": {
          "base_uri": "https://localhost:8080/"
        },
        "id": "9lpTTQiRX7QX",
        "outputId": "b5ed0507-861b-44a2-e3c7-4c72010ca187"
      },
      "outputs": [
        {
          "output_type": "stream",
          "name": "stdout",
          "text": [
            "FEATURE LIST\n",
            "['Open', 'High', 'Low', 'Close', 'Volume']\n",
            "(17543, 5)\n"
          ]
        }
      ],
      "source": [
        "def prepare_data(df):\n",
        "\n",
        "    # List of considered Features\n",
        "    FEATURES = ['Open', 'High', 'Low', 'Close', 'Volume']\n",
        "\n",
        "    print('FEATURE LIST')\n",
        "    print([f for f in FEATURES])\n",
        "\n",
        "    # Create the dataset with features and filter the data to the list of FEATURES\n",
        "    df_filter = df[FEATURES]\n",
        "    \n",
        "    # Convert the data to numpy values\n",
        "    np_filter_unscaled = np.array(df_filter)\n",
        "    #np_filter_unscaled = np.reshape(np_unscaled, (df_filter.shape[0], -1))\n",
        "    print(np_filter_unscaled.shape)\n",
        "\n",
        "    np_c_unscaled = np.array(df['Close']).reshape(-1, 1)\n",
        "    \n",
        "    return np_filter_unscaled, np_c_unscaled\n",
        "    \n",
        "np_filter_unscaled, np_c_unscaled = prepare_data(df_train)\n",
        "                                          \n",
        "# Creating a separate scaler that works on a single column for scaling predictions\n",
        "# Scale each feature to a range between 0 and 1\n",
        "scaler_train = MinMaxScaler()\n",
        "np_scaled = scaler_train.fit_transform(np_filter_unscaled)\n",
        "    \n",
        "# Create a separate scaler for a single column\n",
        "scaler_pred = MinMaxScaler()\n",
        "np_scaled_c = scaler_pred.fit_transform(np_c_unscaled)   "
      ]
    },
    {
      "cell_type": "code",
      "execution_count": null,
      "metadata": {
        "colab": {
          "base_uri": "https://localhost:8080/",
          "height": 480
        },
        "id": "L8W_u897X7Qd",
        "outputId": "70f74063-36c5-4cc0-b244-a9e7b07cce99"
      },
      "outputs": [
        {
          "output_type": "stream",
          "name": "stdout",
          "text": [
            "(13975, 50, 5) (13975, 10)\n",
            "(3498, 50, 5) (3498, 10)\n"
          ]
        },
        {
          "output_type": "execute_result",
          "data": {
            "text/plain": [
              "<function matplotlib.pyplot.show>"
            ]
          },
          "metadata": {},
          "execution_count": 8
        },
        {
          "output_type": "display_data",
          "data": {
            "image/png": "[encoded data removed]",
            "text/plain": [
              "<Figure size 1008x504 with 3 Axes>"
            ]
          },
          "metadata": {
            "needs_background": "light"
          }
        }
      ],
      "source": [
        "# Set the input_sequence_length length - this is the timeframe used to make a single prediction\n",
        "input_sequence_length = 50\n",
        "# The output sequence length is the number of steps that the neural network predicts\n",
        "output_sequence_length = 10 #\n",
        "\n",
        "# Prediction Index\n",
        "index_Close = df_train.columns.get_loc(\"Close\")\n",
        "\n",
        "# Split the training data into train and train data sets\n",
        "# As a first step, we get the number of rows to train the model on 80% of the data \n",
        "train_data_length = math.ceil(np_scaled.shape[0] * 0.8)\n",
        "\n",
        "# Create the training and test data\n",
        "train_data = np_scaled[0:train_data_length, :]\n",
        "test_data = np_scaled[train_data_length - input_sequence_length:, :]\n",
        "\n",
        "# The RNN needs data with the format of [samples, time steps, features]\n",
        "# Here, we create N samples, input_sequence_length time steps per sample, and f features\n",
        "def partition_dataset(input_sequence_length, output_sequence_length, data):\n",
        "    x, y = [], []\n",
        "    data_len = data.shape[0]\n",
        "    for i in range(input_sequence_length, data_len - output_sequence_length):\n",
        "        x.append(data[i-input_sequence_length:i,:]) #contains input_sequence_length values 0-input_sequence_length * columns\n",
        "        y.append(data[i:i + output_sequence_length, index_Close]) #contains the prediction values for validation (3rd column = Close),  for single-step prediction\n",
        "    \n",
        "    # Convert the x and y to numpy arrays\n",
        "    x = np.array(x)\n",
        "    y = np.array(y)\n",
        "    return x, y\n",
        "\n",
        "# Generate training data and test data\n",
        "x_train, y_train = partition_dataset(input_sequence_length, output_sequence_length, train_data)\n",
        "x_test, y_test = partition_dataset(input_sequence_length, output_sequence_length, test_data)\n",
        "\n",
        "# Print the shapes: the result is: (rows, training_sequence, features) (prediction value, )\n",
        "print(x_train.shape, y_train.shape)\n",
        "print(x_test.shape, y_test.shape)\n",
        "\n",
        "# Validate that the prediction value and the input match up\n",
        "# The last close price of the second input sample should equal the first prediction value\n",
        "nrows = 3 # number of shifted plots\n",
        "fig, ax = plt.subplots(nrows=nrows, ncols=1, figsize=(14, 7))\n",
        "for i in range(nrows):\n",
        "    sns.lineplot(y = pd.DataFrame(x_train[i])[index_Close], x = range(input_sequence_length), ax = ax[i])\n",
        "    sns.lineplot(y = y_train[i], x = range(input_sequence_length -1, input_sequence_length + output_sequence_length - 1), ax = ax[i])\n",
        "plt.show"
      ]
    },
    {
      "cell_type": "markdown",
      "metadata": {
        "id": "x4bMq8PLX7Qi"
      },
      "source": [
        "Model Training "
      ]
    },
    {
      "cell_type": "code",
      "execution_count": null,
      "metadata": {
        "colab": {
          "base_uri": "https://localhost:8080/"
        },
        "id": "oMIl6OdUX7Qp",
        "outputId": "c1e13766-8a04-4cb9-87d0-04b5745c6017"
      },
      "outputs": [
        {
          "output_type": "stream",
          "name": "stdout",
          "text": [
            "250 50 5\n"
          ]
        }
      ],
      "source": [
        "# Configure the neural network model\n",
        "model = Sequential()\n",
        "n_output_neurons = output_sequence_length\n",
        "\n",
        "# Model with n_neurons = inputshape Timestamps, each with x_train.shape[2] variables\n",
        "n_input_neurons = x_train.shape[1] * x_train.shape[2]\n",
        "print(n_input_neurons, x_train.shape[1], x_train.shape[2])\n",
        "model.add(LSTM(n_input_neurons, return_sequences=True, input_shape=(x_train.shape[1], x_train.shape[2]))) \n",
        "model.add(LSTM(n_input_neurons, return_sequences=False))\n",
        "model.add(Dense(5))\n",
        "model.add(Dense(n_output_neurons))\n",
        "\n",
        "# Compile the model\n",
        "model.compile(optimizer='adam', loss='mse')"
      ]
    },
    {
      "cell_type": "code",
      "execution_count": 10,
      "metadata": {
        "colab": {
          "base_uri": "https://localhost:8080/"
        },
        "id": "Rr_JBEIoX7Qt",
        "outputId": "d7aae34f-9556-4d73-bffe-bb03a06cebcd"
      },
      "outputs": [
        {
          "output_type": "stream",
          "name": "stdout",
          "text": [
            "Epoch 1/100\n",
            "437/437 [==============================] - 12s 14ms/step - loss: 0.0018 - val_loss: 8.2698e-04\n",
            "Epoch 2/100\n",
            "437/437 [==============================] - 6s 13ms/step - loss: 0.0015 - val_loss: 8.7090e-04\n",
            "Epoch 3/100\n",
            "437/437 [==============================] - 6s 13ms/step - loss: 0.0015 - val_loss: 7.5876e-04\n",
            "Epoch 4/100\n",
            "437/437 [==============================] - 6s 13ms/step - loss: 0.0014 - val_loss: 7.6801e-04\n",
            "Epoch 5/100\n",
            "437/437 [==============================] - 6s 13ms/step - loss: 0.0014 - val_loss: 7.5450e-04\n",
            "Epoch 6/100\n",
            "437/437 [==============================] - 6s 13ms/step - loss: 0.0014 - val_loss: 7.6559e-04\n",
            "Epoch 7/100\n",
            "437/437 [==============================] - 6s 13ms/step - loss: 0.0014 - val_loss: 7.6644e-04\n",
            "Epoch 8/100\n",
            "437/437 [==============================] - 6s 13ms/step - loss: 0.0014 - val_loss: 7.5969e-04\n",
            "Epoch 9/100\n",
            "437/437 [==============================] - 6s 13ms/step - loss: 0.0014 - val_loss: 7.4545e-04\n",
            "Epoch 10/100\n",
            "437/437 [==============================] - 6s 13ms/step - loss: 0.0014 - val_loss: 7.4171e-04\n",
            "Epoch 11/100\n",
            "437/437 [==============================] - 6s 13ms/step - loss: 0.0014 - val_loss: 7.5693e-04\n",
            "Epoch 12/100\n",
            "437/437 [==============================] - 5s 13ms/step - loss: 0.0014 - val_loss: 7.6149e-04\n",
            "Epoch 13/100\n",
            "437/437 [==============================] - 6s 13ms/step - loss: 0.0014 - val_loss: 7.4437e-04\n",
            "Epoch 14/100\n",
            "437/437 [==============================] - 6s 13ms/step - loss: 0.0014 - val_loss: 7.4535e-04\n",
            "Epoch 15/100\n",
            "437/437 [==============================] - 6s 13ms/step - loss: 0.0014 - val_loss: 8.6632e-04\n",
            "Epoch 16/100\n",
            "437/437 [==============================] - 6s 13ms/step - loss: 0.0014 - val_loss: 7.4835e-04\n",
            "Epoch 17/100\n",
            "437/437 [==============================] - 6s 13ms/step - loss: 0.0014 - val_loss: 7.6060e-04\n",
            "Epoch 18/100\n",
            "437/437 [==============================] - 6s 13ms/step - loss: 0.0014 - val_loss: 8.2068e-04\n",
            "Epoch 19/100\n",
            "437/437 [==============================] - 6s 13ms/step - loss: 0.0014 - val_loss: 7.3684e-04\n",
            "Epoch 20/100\n",
            "437/437 [==============================] - 5s 13ms/step - loss: 0.0014 - val_loss: 7.7577e-04\n",
            "Epoch 21/100\n",
            "437/437 [==============================] - 6s 13ms/step - loss: 0.0014 - val_loss: 7.3861e-04\n",
            "Epoch 22/100\n",
            "437/437 [==============================] - 6s 13ms/step - loss: 0.0014 - val_loss: 7.3607e-04\n",
            "Epoch 23/100\n",
            "437/437 [==============================] - 6s 13ms/step - loss: 0.0014 - val_loss: 7.3048e-04\n",
            "Epoch 24/100\n",
            "437/437 [==============================] - 6s 13ms/step - loss: 0.0014 - val_loss: 7.3347e-04\n",
            "Epoch 25/100\n",
            "437/437 [==============================] - 6s 13ms/step - loss: 0.0014 - val_loss: 7.3641e-04\n",
            "Epoch 26/100\n",
            "437/437 [==============================] - 6s 13ms/step - loss: 0.0014 - val_loss: 7.3876e-04\n",
            "Epoch 27/100\n",
            "437/437 [==============================] - 6s 13ms/step - loss: 0.0014 - val_loss: 7.8186e-04\n",
            "Epoch 28/100\n",
            "437/437 [==============================] - 6s 13ms/step - loss: 0.0014 - val_loss: 7.3640e-04\n",
            "Epoch 29/100\n",
            "437/437 [==============================] - 6s 13ms/step - loss: 0.0014 - val_loss: 7.3705e-04\n",
            "Epoch 30/100\n",
            "437/437 [==============================] - 5s 13ms/step - loss: 0.0014 - val_loss: 7.4775e-04\n",
            "Epoch 31/100\n",
            "437/437 [==============================] - 5s 13ms/step - loss: 0.0014 - val_loss: 7.4857e-04\n",
            "Epoch 32/100\n",
            "437/437 [==============================] - 6s 13ms/step - loss: 0.0014 - val_loss: 7.3552e-04\n",
            "Epoch 33/100\n",
            "437/437 [==============================] - 6s 13ms/step - loss: 0.0014 - val_loss: 7.3407e-04\n",
            "Epoch 34/100\n",
            "437/437 [==============================] - 6s 13ms/step - loss: 0.0014 - val_loss: 7.3379e-04\n",
            "Epoch 35/100\n",
            "437/437 [==============================] - 6s 13ms/step - loss: 0.0014 - val_loss: 7.3387e-04\n",
            "Epoch 36/100\n",
            "437/437 [==============================] - 6s 13ms/step - loss: 0.0014 - val_loss: 7.3857e-04\n",
            "Epoch 37/100\n",
            "437/437 [==============================] - 6s 13ms/step - loss: 0.0014 - val_loss: 7.3582e-04\n",
            "Epoch 38/100\n",
            "437/437 [==============================] - 5s 13ms/step - loss: 0.0014 - val_loss: 7.3649e-04\n",
            "Epoch 39/100\n",
            "437/437 [==============================] - 5s 13ms/step - loss: 0.0014 - val_loss: 7.4981e-04\n",
            "Epoch 40/100\n",
            "437/437 [==============================] - 5s 13ms/step - loss: 0.0014 - val_loss: 7.4527e-04\n",
            "Epoch 41/100\n",
            "437/437 [==============================] - 5s 13ms/step - loss: 0.0014 - val_loss: 7.3194e-04\n",
            "Epoch 42/100\n",
            "437/437 [==============================] - 5s 13ms/step - loss: 0.0014 - val_loss: 7.4111e-04\n",
            "Epoch 43/100\n",
            "437/437 [==============================] - 5s 13ms/step - loss: 0.0014 - val_loss: 7.4064e-04\n",
            "Epoch 44/100\n",
            "437/437 [==============================] - 5s 13ms/step - loss: 0.0013 - val_loss: 7.4070e-04\n",
            "Epoch 45/100\n",
            "437/437 [==============================] - 6s 13ms/step - loss: 0.0014 - val_loss: 7.5112e-04\n",
            "Epoch 46/100\n",
            "437/437 [==============================] - 6s 13ms/step - loss: 0.0013 - val_loss: 7.9557e-04\n",
            "Epoch 47/100\n",
            "437/437 [==============================] - 6s 13ms/step - loss: 0.0013 - val_loss: 7.5612e-04\n",
            "Epoch 48/100\n",
            "437/437 [==============================] - 5s 13ms/step - loss: 0.0013 - val_loss: 8.0969e-04\n",
            "Epoch 49/100\n",
            "437/437 [==============================] - 5s 13ms/step - loss: 0.0014 - val_loss: 7.3452e-04\n",
            "Epoch 50/100\n",
            "437/437 [==============================] - 5s 13ms/step - loss: 0.0013 - val_loss: 8.0090e-04\n",
            "Epoch 51/100\n",
            "437/437 [==============================] - 5s 13ms/step - loss: 0.0013 - val_loss: 7.4637e-04\n",
            "Epoch 52/100\n",
            "437/437 [==============================] - 6s 13ms/step - loss: 0.0013 - val_loss: 7.5011e-04\n",
            "Epoch 53/100\n",
            "437/437 [==============================] - 6s 13ms/step - loss: 0.0013 - val_loss: 7.3518e-04\n",
            "Epoch 54/100\n",
            "437/437 [==============================] - 5s 13ms/step - loss: 0.0013 - val_loss: 7.4509e-04\n",
            "Epoch 55/100\n",
            "437/437 [==============================] - 5s 13ms/step - loss: 0.0013 - val_loss: 7.3061e-04\n",
            "Epoch 56/100\n",
            "437/437 [==============================] - 5s 13ms/step - loss: 0.0013 - val_loss: 7.3221e-04\n",
            "Epoch 57/100\n",
            "437/437 [==============================] - 5s 13ms/step - loss: 0.0013 - val_loss: 7.3944e-04\n",
            "Epoch 58/100\n",
            "437/437 [==============================] - 6s 13ms/step - loss: 0.0013 - val_loss: 7.5686e-04\n",
            "Epoch 59/100\n",
            "437/437 [==============================] - 6s 13ms/step - loss: 0.0013 - val_loss: 7.3284e-04\n",
            "Epoch 60/100\n",
            "437/437 [==============================] - 6s 13ms/step - loss: 0.0013 - val_loss: 7.3661e-04\n",
            "Epoch 61/100\n",
            "437/437 [==============================] - 6s 13ms/step - loss: 0.0013 - val_loss: 7.7090e-04\n",
            "Epoch 62/100\n",
            "437/437 [==============================] - 6s 13ms/step - loss: 0.0013 - val_loss: 7.5008e-04\n",
            "Epoch 63/100\n",
            "437/437 [==============================] - 6s 13ms/step - loss: 0.0013 - val_loss: 7.4001e-04\n",
            "Epoch 64/100\n",
            "437/437 [==============================] - 6s 13ms/step - loss: 0.0013 - val_loss: 7.3931e-04\n",
            "Epoch 65/100\n",
            "437/437 [==============================] - 6s 13ms/step - loss: 0.0013 - val_loss: 7.4618e-04\n",
            "Epoch 66/100\n",
            "437/437 [==============================] - 6s 13ms/step - loss: 0.0013 - val_loss: 7.5162e-04\n",
            "Epoch 67/100\n",
            "437/437 [==============================] - 6s 13ms/step - loss: 0.0013 - val_loss: 7.5330e-04\n",
            "Epoch 68/100\n",
            "437/437 [==============================] - 6s 13ms/step - loss: 0.0013 - val_loss: 7.8993e-04\n",
            "Epoch 69/100\n",
            "437/437 [==============================] - 6s 13ms/step - loss: 0.0013 - val_loss: 8.7694e-04\n",
            "Epoch 70/100\n",
            "437/437 [==============================] - 6s 13ms/step - loss: 0.0013 - val_loss: 7.6844e-04\n",
            "Epoch 71/100\n",
            "437/437 [==============================] - 6s 13ms/step - loss: 0.0013 - val_loss: 7.7633e-04\n",
            "Epoch 72/100\n",
            "437/437 [==============================] - 6s 13ms/step - loss: 0.0013 - val_loss: 9.3548e-04\n",
            "Epoch 73/100\n",
            "437/437 [==============================] - 6s 13ms/step - loss: 0.0013 - val_loss: 7.6499e-04\n",
            "Epoch 74/100\n",
            "437/437 [==============================] - 6s 13ms/step - loss: 0.0013 - val_loss: 9.0822e-04\n",
            "Epoch 75/100\n",
            "437/437 [==============================] - 6s 13ms/step - loss: 0.0013 - val_loss: 0.0015\n",
            "Epoch 76/100\n",
            "437/437 [==============================] - 6s 13ms/step - loss: 0.0013 - val_loss: 7.4156e-04\n",
            "Epoch 77/100\n",
            "437/437 [==============================] - 6s 13ms/step - loss: 0.0013 - val_loss: 7.4055e-04\n",
            "Epoch 78/100\n",
            "437/437 [==============================] - 6s 13ms/step - loss: 0.0013 - val_loss: 9.9770e-04\n",
            "Epoch 79/100\n",
            "437/437 [==============================] - 6s 13ms/step - loss: 0.0012 - val_loss: 0.0017\n",
            "Epoch 80/100\n",
            "437/437 [==============================] - 6s 13ms/step - loss: 0.0012 - val_loss: 0.0013\n",
            "Epoch 81/100\n",
            "437/437 [==============================] - 6s 13ms/step - loss: 0.0012 - val_loss: 0.0013\n",
            "Epoch 82/100\n",
            "437/437 [==============================] - 6s 13ms/step - loss: 0.0012 - val_loss: 0.0013\n",
            "Epoch 83/100\n",
            "437/437 [==============================] - 6s 13ms/step - loss: 0.0012 - val_loss: 0.0011\n",
            "Epoch 84/100\n",
            "437/437 [==============================] - 6s 13ms/step - loss: 0.0012 - val_loss: 0.0011\n",
            "Epoch 85/100\n",
            "437/437 [==============================] - 6s 13ms/step - loss: 0.0011 - val_loss: 0.0012\n",
            "Epoch 86/100\n",
            "437/437 [==============================] - 6s 13ms/step - loss: 0.0012 - val_loss: 0.0015\n",
            "Epoch 87/100\n",
            "437/437 [==============================] - 6s 13ms/step - loss: 0.0011 - val_loss: 0.0012\n",
            "Epoch 88/100\n",
            "437/437 [==============================] - 6s 13ms/step - loss: 0.0012 - val_loss: 7.8334e-04\n",
            "Epoch 89/100\n",
            "437/437 [==============================] - 6s 13ms/step - loss: 0.0012 - val_loss: 0.0015\n",
            "Epoch 90/100\n",
            "437/437 [==============================] - 6s 13ms/step - loss: 0.0011 - val_loss: 0.0012\n",
            "Epoch 91/100\n",
            "437/437 [==============================] - 6s 13ms/step - loss: 0.0011 - val_loss: 8.8506e-04\n",
            "Epoch 92/100\n",
            "437/437 [==============================] - 6s 13ms/step - loss: 0.0011 - val_loss: 0.0015\n",
            "Epoch 93/100\n",
            "437/437 [==============================] - 6s 13ms/step - loss: 0.0012 - val_loss: 0.0011\n",
            "Epoch 94/100\n",
            "437/437 [==============================] - 6s 13ms/step - loss: 0.0011 - val_loss: 8.5078e-04\n",
            "Epoch 95/100\n",
            "437/437 [==============================] - 6s 13ms/step - loss: 0.0011 - val_loss: 8.2772e-04\n",
            "Epoch 96/100\n",
            "437/437 [==============================] - 6s 13ms/step - loss: 0.0011 - val_loss: 8.5442e-04\n",
            "Epoch 97/100\n",
            "437/437 [==============================] - 6s 13ms/step - loss: 0.0011 - val_loss: 7.8745e-04\n",
            "Epoch 98/100\n",
            "437/437 [==============================] - 6s 13ms/step - loss: 0.0011 - val_loss: 9.7546e-04\n",
            "Epoch 99/100\n",
            "437/437 [==============================] - 6s 13ms/step - loss: 0.0010 - val_loss: 8.3330e-04\n",
            "Epoch 100/100\n",
            "437/437 [==============================] - 6s 13ms/step - loss: 0.0010 - val_loss: 7.8728e-04\n"
          ]
        }
      ],
      "source": [
        "# Training the model\n",
        "epochs = 100\n",
        "batch_size = 32\n",
        "early_stop = EarlyStopping(monitor='loss', patience=5, verbose=1)\n",
        "history = model.fit(x_train, y_train, \n",
        "                    batch_size=batch_size, \n",
        "                    epochs=epochs,\n",
        "                    validation_data=(x_test, y_test)\n",
        "                   )\n",
        "                    \n",
        "                    #callbacks=[early_stop])"
      ]
    },
    {
      "cell_type": "code",
      "source": [
        "# Plot training & validation loss values\n",
        "fig, ax = plt.subplots(figsize=(10, 5), sharex=True)\n",
        "plt.plot(history.history[\"loss\"])\n",
        "plt.title(\"Model loss\")\n",
        "plt.ylabel(\"Loss\")\n",
        "plt.xlabel(\"Epoch\")\n",
        "ax.xaxis.set_major_locator(plt.MaxNLocator(epochs))\n",
        "plt.legend([\"Train\", \"Test\"], loc=\"upper left\")\n",
        "plt.grid()\n",
        "plt.show()"
      ],
      "metadata": {
        "id": "KPhy7O8aiuT0",
        "colab": {
          "base_uri": "https://localhost:8080/",
          "height": 350
        },
        "outputId": "9dbaef89-8e85-4517-cfab-4e47de236c60"
      },
      "execution_count": 11,
      "outputs": [
        {
          "output_type": "display_data",
          "data": {
            "image/png": "[encoded data removed]",
            "text/plain": [
              "<Figure size 720x360 with 1 Axes>"
            ]
          },
          "metadata": {
            "needs_background": "light"
          }
        }
      ]
    },
    {
      "cell_type": "markdown",
      "metadata": {
        "id": "K9T5iinHX7Qw"
      },
      "source": [
        "Model Performance Evaluation    "
      ]
    },
    {
      "cell_type": "code",
      "source": [
        "model.save('Model_5MIN_JUN2021_DEC2021.h5')"
      ],
      "metadata": {
        "id": "1YUw4M6yg3RG"
      },
      "execution_count": 12,
      "outputs": []
    },
    {
      "cell_type": "code",
      "execution_count": 13,
      "metadata": {
        "id": "te7dOYe3X7Qz",
        "colab": {
          "base_uri": "https://localhost:8080/"
        },
        "outputId": "2106ee76-75ca-4241-908c-9b300c8ebe22"
      },
      "outputs": [
        {
          "output_type": "stream",
          "name": "stdout",
          "text": [
            "Median Absolute Error (MAE): 580.4\n",
            "Mean Absolute Percentage Error (MAPE): 1.84 %\n",
            "Median Absolute Percentage Error (MDAPE): 1.25 %\n"
          ]
        }
      ],
      "source": [
        "# Get the predicted values\n",
        "y_pred_scaled = model.predict(x_test)\n",
        "\n",
        "# Unscale the predicted values\n",
        "y_pred = scaler_pred.inverse_transform(y_pred_scaled)\n",
        "y_test_unscaled = scaler_pred.inverse_transform(y_test).reshape(-1, output_sequence_length)\n",
        "y_test_unscaled.shape\n",
        "\n",
        "# Mean Absolute Error (MAE)\n",
        "MAE = mean_absolute_error(y_test_unscaled, y_pred)\n",
        "print(f'Median Absolute Error (MAE): {np.round(MAE, 2)}')\n",
        "\n",
        "# Mean Absolute Percentage Error (MAPE)\n",
        "MAPE = np.mean((np.abs(np.subtract(y_test_unscaled, y_pred)/ y_test_unscaled))) * 100\n",
        "print(f'Mean Absolute Percentage Error (MAPE): {np.round(MAPE, 2)} %')\n",
        "\n",
        "# Median Absolute Percentage Error (MDAPE)\n",
        "MDAPE = np.median((np.abs(np.subtract(y_test_unscaled, y_pred)/ y_test_unscaled)) ) * 100\n",
        "print(f'Median Absolute Percentage Error (MDAPE): {np.round(MDAPE, 2)} %')"
      ]
    },
    {
      "cell_type": "markdown",
      "metadata": {
        "id": "wsJ349YSX7Q1"
      },
      "source": [
        "Multi Test Forecast"
      ]
    },
    {
      "cell_type": "code",
      "execution_count": 14,
      "metadata": {
        "id": "9ebER3a8X7Q2",
        "colab": {
          "base_uri": "https://localhost:8080/",
          "height": 545
        },
        "outputId": "dd90d6c5-4b4a-4959-d73b-e526c829d08e"
      },
      "outputs": [
        {
          "output_type": "display_data",
          "data": {
            "image/png": "[encoded data removed]",
            "text/plain": [
              "<Figure size 576x288 with 1 Axes>"
            ]
          },
          "metadata": {
            "needs_background": "light"
          }
        },
        {
          "output_type": "display_data",
          "data": {
            "image/png": "[encoded data removed]",
            "text/plain": [
              "<Figure size 576x288 with 1 Axes>"
            ]
          },
          "metadata": {
            "needs_background": "light"
          }
        }
      ],
      "source": [
        "def plot_multi_test_forecast(i, s, x_test, y_test_unscaled, y_pred_unscaled): \n",
        "    \n",
        "    # reshape the testset into a one-dimensional array, so that it fits to the pred scaler\n",
        "    x_test_scaled_reshaped = np.array(pd.DataFrame(x_test[i])[index_Close]).reshape(-1, 1)\n",
        "    \n",
        "    # undo the scaling on the testset\n",
        "    df_test = pd.DataFrame(scaler_pred.inverse_transform(x_test_scaled_reshaped) )\n",
        "\n",
        "    # set the max index \n",
        "    test_max_index = df_test.shape[0]\n",
        "    pred_max_index = y_pred_unscaled[0].shape[0]\n",
        "    test_index = range(i, i + test_max_index)\n",
        "    pred_index = range(i + test_max_index, i + test_max_index + pred_max_index)\n",
        "    \n",
        "    # package y_pred_unscaled and y_test_unscaled into a dataframe with columns pred and true\n",
        "    data = pd.DataFrame(list(zip(y_pred_unscaled[s], y_test_unscaled[i])), columns=['pred', 'true']) #\n",
        "    \n",
        "    fig, ax = plt.subplots(figsize=(8, 4))\n",
        "    plt.title(f\"Predictions vs Ground Truth {pred_index}\", fontsize=12)\n",
        "    ax.set(ylabel =  \"BTC Price USDT\")\n",
        "    \n",
        "    sns.lineplot(data = df_test,  y = df_test[0], x=test_index, color=\"#039dfc\", linewidth=1.0, label='test')\n",
        "    sns.lineplot(data = data,  y='true', x=pred_index, color=\"g\", linewidth=1.0, label='true')\n",
        "    sns.lineplot(data = data,  y='pred', x=pred_index, color=\"r\", linewidth=1.0, label='pred')\n",
        "\n",
        "x_test_unscaled = scaler_pred.inverse_transform(np.array(pd.DataFrame(x_test[0])[index_Close]).reshape(-1, 1)) \n",
        "df_test = pd.DataFrame(x_test_unscaled)\n",
        "    \n",
        "for i in range(5, 7): #i is the starting point for the batch in the time-series\n",
        "    #data = pd.DataFrame(list(zip(y_pred[i], y_test_unscaled[i])), columns=['pred', 'true'], index=range(55,65))\n",
        "    plot_multi_test_forecast(i, i, x_test, y_test_unscaled, y_pred)"
      ]
    },
    {
      "cell_type": "markdown",
      "metadata": {
        "id": "46lUFqAOX7Q5"
      },
      "source": [
        "New Forecast "
      ]
    },
    {
      "cell_type": "code",
      "execution_count": 15,
      "metadata": {
        "id": "1xTnlSCuX7Q6",
        "colab": {
          "base_uri": "https://localhost:8080/",
          "height": 281
        },
        "outputId": "ddf8cfde-5f0c-41e0-98a5-176a823a5787"
      },
      "outputs": [
        {
          "output_type": "display_data",
          "data": {
            "image/png": "[encoded data removed]",
            "text/plain": [
              "<Figure size 576x288 with 1 Axes>"
            ]
          },
          "metadata": {
            "needs_background": "light"
          }
        }
      ],
      "source": [
        "def plot_new_multi_forecast(i_test, i_pred, x_test, y_pred_unscaled): \n",
        "    \n",
        "    # reshape the testset into a one-dimensional array, so that it fits to the pred scaler\n",
        "    x_test_scaled_reshaped = np.array(pd.DataFrame(x_test[i_test])[index_Close]).reshape(-1, 1)\n",
        "    \n",
        "    # undo the scaling on the testset\n",
        "    df_test = pd.DataFrame(scaler_pred.inverse_transform(x_test_scaled_reshaped) )\n",
        "\n",
        "    # set the max index \n",
        "    test_max_index = df_test.shape[0]\n",
        "    pred_max_index = y_pred_unscaled[0].shape[0]\n",
        "    test_index = range(i_test, i_test + test_max_index)\n",
        "    pred_index = range(i_test + test_max_index, i_test + test_max_index + pred_max_index)\n",
        "    \n",
        "    data = pd.DataFrame(list(zip(y_pred_unscaled[i_pred])), columns=['pred']) #\n",
        "    \n",
        "    fig, ax = plt.subplots(figsize=(8, 4))\n",
        "    plt.title(f\"Predictions vs Ground Truth {pred_index}\", fontsize=12)\n",
        "    ax.set(ylabel =  \"BTC Price USDT\")\n",
        "    \n",
        "    sns.lineplot(data = df_test,  y = df_test[0], x=test_index, color=\"#039dfc\", linewidth=1.0, label='test')\n",
        "    sns.lineplot(data = data,  y='pred', x=pred_index, color=\"r\", linewidth=1.0, label='pred')\n",
        "    \n",
        "# get the highest index from the x_test dataset\n",
        "index_max = x_test.shape[0]\n",
        "x_test_new = np_scaled[-51:-1,:].reshape(1,50,5)\n",
        "\n",
        "# undo the scaling of the predictions\n",
        "y_pred_scaled = model.predict(x_test_new)\n",
        "y_pred = scaler_pred.inverse_transform(y_pred_scaled)\n",
        "\n",
        "# plot the predictions\n",
        "plot_new_multi_forecast(0, 0, x_test_new, y_pred)"
      ]
    },
    {
      "cell_type": "code",
      "source": [
        "#Actual Prediction\n",
        "\n",
        "def prediction(crypto):\n",
        "  #Choose between BTCUSDT ETHUSDT XMRUSDT\n",
        "\n",
        "  #Fetch Last Day 1HR Candles Data\n",
        "  klines = client.get_historical_klines(crypto, Client.KLINE_INTERVAL_1HOUR, \"1 day ago UTC\")\n",
        "\n",
        "  pred_df = pd.DataFrame(klines)\n",
        "  pred_df.columns = (['Open Time', 'Open', 'High', 'Low', 'Close', 'Volume', 'Close Time', 'Quote Asset Volume','Nb of Trade', 'TakerBuyBaseVolume', 'TakerBuyQuoteVolume','Ignored'])\n",
        "  # hist_df.drop(labels = ['TakerBuyBaseVolume', 'TakerBuyQuoteVolume', 'Ignored', 'Quote Asset Volume'], inplace = True,axis = 1)\n",
        "  pred_df['Close Time'] = pd.to_datetime(pred_df['Close Time']/1000, unit='s')\n",
        "  # hist_df['Open Time'] = pd.to_datetime(hist_df['Open Time']/1000, unit='s')\n",
        "  pred_df.drop(['Ignored', 'TakerBuyBaseVolume', 'TakerBuyQuoteVolume', 'Quote Asset Volume'], inplace= True, axis = 1)\n",
        "  # hist_df['Open Time'] = hist_df.index\n",
        "\n",
        "  # hist_df = hist_df.reset_index().set_index('Open Time', drop=False)\n",
        "  # hist_df.index.name = None\n",
        "\n",
        "  pred_df = pred_df.apply(pd.to_numeric)\n",
        "  pred = np_scaled[-51:-1,:].reshape(1,50,5)\n",
        "\n",
        "  # pred_df.to_csv('5H_avg_pred_df')\n",
        "  # pred_df\n",
        "\n",
        "  y_pred_scaled = model.predict(pred)\n",
        "  y_pred = scaler_pred.inverse_transform(y_pred_scaled)\n",
        "\n",
        "  print(y_pred)\n",
        "\n",
        "prediction(\"BTCUSDT\")\n",
        "\n",
        "\n",
        "\n",
        "# [[ 8629.145   9355.863  11853.738  13433.332  13547.479  13394.084\n",
        "#   12253.178  10282.858   8911.003   8255.8545]]"
      ],
      "metadata": {
        "id": "vvkib1Ndbzi7",
        "colab": {
          "base_uri": "https://localhost:8080/"
        },
        "outputId": "4c507534-6777-4ae9-893a-dfb8a797c136"
      },
      "execution_count": 17,
      "outputs": [
        {
          "output_type": "stream",
          "name": "stdout",
          "text": [
            "[[29897.47  29847.273 29874.273 29918.186 29844.146 29939.748 30088.684\n",
            "  29991.086 30063.21  30124.023]]\n"
          ]
        }
      ]
    }
  ],
  "metadata": {
    "interpreter": {
      "hash": "3bff544f8a8073c4167e9b2cc33d981654572eb557f5e5f174774942b3a02b19"
    },
    "kernelspec": {
      "display_name": "Python 3.8.5 64-bit",
      "language": "python",
      "name": "python3"
    },
    "language_info": {
      "codemirror_mode": {
        "name": "ipython",
        "version": 3
      },
      "file_extension": ".py",
      "mimetype": "text/x-python",
      "name": "python",
      "nbconvert_exporter": "python",
      "pygments_lexer": "ipython3",
      "version": "3.8.5"
    },
    "orig_nbformat": 4,
    "colab": {
      "name": "Model_5-15MIN_June2021_Dec2021_Taly.ipynb",
      "provenance": [],
      "machine_shape": "hm"
    },
    "accelerator": "GPU"
  },
  "nbformat": 4,
  "nbformat_minor": 0
}